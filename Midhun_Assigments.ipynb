{
  "nbformat": 4,
  "nbformat_minor": 0,
  "metadata": {
    "colab": {
      "name": "Midhun_Assigments.ipynb",
      "provenance": [],
      "collapsed_sections": []
    },
    "kernelspec": {
      "name": "python3",
      "display_name": "Python 3"
    },
    "language_info": {
      "name": "python"
    }
  },
  "cells": [
    {
      "cell_type": "markdown",
      "metadata": {
        "id": "urHjxHKZEuDd"
      },
      "source": [
        ""
      ]
    },
    {
      "cell_type": "markdown",
      "metadata": {
        "id": "u9T66VhMEvuh"
      },
      "source": [
        "1. **code to find the area of an equilateral triangle.**"
      ]
    },
    {
      "cell_type": "code",
      "metadata": {
        "id": "koUTNQmqE7Ep"
      },
      "source": [
        "import pandas as pd\n",
        "import numpy as np\n",
        "import math"
      ],
      "execution_count": 1,
      "outputs": []
    },
    {
      "cell_type": "code",
      "metadata": {
        "colab": {
          "base_uri": "https://localhost:8080/"
        },
        "id": "mhre1HBUFM4J",
        "outputId": "6700178f-3884-4f7b-f1ac-6b765e7d73a0"
      },
      "source": [
        "sides=float(input(\"enter the lengths of sides\"))\n",
        "area=(math.sqrt(3)/4)*pow(sides,2)\n",
        "print(area)"
      ],
      "execution_count": 2,
      "outputs": [
        {
          "output_type": "stream",
          "name": "stdout",
          "text": [
            "enter the lengths of sides4\n",
            "6.928203230275509\n"
          ]
        }
      ]
    },
    {
      "cell_type": "markdown",
      "metadata": {
        "id": "YW_2_n2LGzWJ"
      },
      "source": [
        "**2. Write a program to count the number of each characters in a string**"
      ]
    },
    {
      "cell_type": "code",
      "metadata": {
        "colab": {
          "base_uri": "https://localhost:8080/"
        },
        "id": "tW4cbyEfG2SD",
        "outputId": "fceff8ec-b779-4475-e733-b7e2d50b4ced"
      },
      "source": [
        "string=input(\"Enter the word: \")\n",
        "number=len(string)\n",
        "c=[]\n",
        "print(\"numbr of letters: \",number)\n",
        "print(\"Each charecters count\")\n",
        "for i in string:\n",
        "  print(i,string.count(i))\n",
        "  \n"
      ],
      "execution_count": 30,
      "outputs": [
        {
          "output_type": "stream",
          "name": "stdout",
          "text": [
            "Enter the word: midhunkumar\n",
            "numbr of letters:  11\n",
            "Each charecters count\n",
            "m 2\n",
            "i 1\n",
            "d 1\n",
            "h 1\n",
            "u 2\n",
            "n 1\n",
            "k 1\n",
            "u 2\n",
            "m 2\n",
            "a 1\n",
            "r 1\n"
          ]
        }
      ]
    },
    {
      "cell_type": "markdown",
      "metadata": {
        "id": "YUUWDHtrNd0K"
      },
      "source": [
        "**program to find the area and perimeter of a rectangle using functions**"
      ]
    },
    {
      "cell_type": "code",
      "metadata": {
        "colab": {
          "base_uri": "https://localhost:8080/"
        },
        "id": "DEqOI2nlIGB8",
        "outputId": "1cc2485a-bcf4-4294-c8db-fb94e797a631"
      },
      "source": [
        "\n",
        "def area(l,w): # function dclaration for area calculation\n",
        "  return(l*w)\n",
        "\n",
        "def perimeter(l,w):  # function declaration perimeter calculation\n",
        "  return 2*(l+w)\n",
        "length=int(input(\"Enter the lenght of the rectangle: \"))\n",
        "width=int(input(\"Enter the width of the rectangle: \"))\n",
        "\n",
        "print(\"area of the rectangle is: \",area(length,width)) # function calling\n",
        "print(\"perimeter of rectangle is: \",perimeter(length,width)) # function calling"
      ],
      "execution_count": 43,
      "outputs": [
        {
          "output_type": "stream",
          "name": "stdout",
          "text": [
            "Enter the lenght of the rectangle: 5\n",
            "Enter the width of the rectangle: 6\n",
            "area of the rectangle is:  30\n",
            "perimeter of rectangle is:  22\n"
          ]
        }
      ]
    },
    {
      "cell_type": "markdown",
      "metadata": {
        "id": "uxjdqYm7RKxj"
      },
      "source": [
        "**Write a program to print the fibonacci series till a specified number**"
      ]
    },
    {
      "cell_type": "code",
      "metadata": {
        "colab": {
          "base_uri": "https://localhost:8080/"
        },
        "id": "2pd6FNXdROV7",
        "outputId": "6e1f0bf8-6477-4805-9107-edcc6b5d914e"
      },
      "source": [
        "# Program to display the Fibonacci sequence up to n-th term\n",
        "\n",
        "nterms = int(input(\"How many terms? \"))\n",
        "\n",
        "# first two terms\n",
        "n1, n2 = 0, 1\n",
        "count = 0\n",
        "\n",
        "# check if the number of terms is valid\n",
        "if nterms <= 0:\n",
        "   print(\"Please enter a positive integer\")\n",
        "# if there is only one term, return n1\n",
        "elif nterms == 1:\n",
        "   print(\"Fibonacci sequence upto\",nterms,\":\")\n",
        "   print(n1)\n",
        "# generate fibonacci sequence\n",
        "else:\n",
        "   print(\"Fibonacci sequence:\")\n",
        "   while count < nterms:\n",
        "       print(n1)\n",
        "       nth = n1 + n2\n",
        "       # update values\n",
        "       n1 = n2\n",
        "       n2 = nth\n",
        "       count += 1\n",
        "\n",
        "  "
      ],
      "execution_count": 55,
      "outputs": [
        {
          "output_type": "stream",
          "name": "stdout",
          "text": [
            "How many terms? 10\n",
            "Fibonacci sequence:\n",
            "0\n",
            "1\n",
            "1\n",
            "2\n",
            "3\n",
            "5\n",
            "8\n",
            "13\n",
            "21\n",
            "34\n"
          ]
        }
      ]
    },
    {
      "cell_type": "markdown",
      "metadata": {
        "id": "XrqGpGjhaRhT"
      },
      "source": [
        "**Complete the following code to find the minimum of 3 number using cinditional statements**"
      ]
    },
    {
      "cell_type": "code",
      "metadata": {
        "colab": {
          "base_uri": "https://localhost:8080/"
        },
        "id": "fd_CEJeAaZpi",
        "outputId": "2b824400-5638-4403-f685-fee858471d4c"
      },
      "source": [
        "a=int(input(\"Enter the first number: \"))\n",
        "b=int(input(\"Enter the second number: \"))\n",
        "c=int(input(\"Enter the Third number: \"))\n",
        "if(a>b and a>c):\n",
        "  print(\"Largest number is: \",a)\n",
        "elif(a<b and b>c):\n",
        "  print(\"The largest number is: \",b)\n",
        "else:\n",
        "  print(\"the largest number is :\",c)\n"
      ],
      "execution_count": 58,
      "outputs": [
        {
          "output_type": "stream",
          "name": "stdout",
          "text": [
            "Enter the first number: 6\n",
            "Enter the second number: 2\n",
            "Enter the Third number: 4\n",
            "Largest number is:  6\n"
          ]
        }
      ]
    },
    {
      "cell_type": "markdown",
      "metadata": {
        "id": "QX4S_hYJc-Wz"
      },
      "source": [
        "**Write a program to print star pyramind**"
      ]
    },
    {
      "cell_type": "code",
      "metadata": {
        "colab": {
          "base_uri": "https://localhost:8080/"
        },
        "id": "koLEzFUIdA1j",
        "outputId": "cb9da8e3-e48e-4bde-e49b-fc097bf90f27"
      },
      "source": [
        "rows = int(input(\"Enter number of rows: \"))\n",
        "\n",
        "for i in range(rows):\n",
        "    for j in range(i+1):\n",
        "        print(\"* \", end=\"\")\n",
        "    print(\"\\n\")\n"
      ],
      "execution_count": 63,
      "outputs": [
        {
          "output_type": "stream",
          "name": "stdout",
          "text": [
            "Enter number of rows: 6\n",
            "* \n",
            "\n",
            "* * \n",
            "\n",
            "* * * \n",
            "\n",
            "* * * * \n",
            "\n",
            "* * * * * \n",
            "\n",
            "* * * * * * \n",
            "\n"
          ]
        }
      ]
    },
    {
      "cell_type": "markdown",
      "metadata": {
        "id": "mYnjuD6JfKHV"
      },
      "source": [
        "**Complete the following code to convert hour into seconds**"
      ]
    },
    {
      "cell_type": "code",
      "metadata": {
        "colab": {
          "base_uri": "https://localhost:8080/"
        },
        "id": "wOvfZWNufPJC",
        "outputId": "1f4ef255-a6e1-47d8-a82a-0007b78378e7"
      },
      "source": [
        "hours=int(input(\"enter the time :   \"))\n",
        "seconds=hours*3600\n",
        "print(hours,\"hours is equal to\",seconds,\"Seconds\")\n"
      ],
      "execution_count": 65,
      "outputs": [
        {
          "output_type": "stream",
          "name": "stdout",
          "text": [
            "enter the time :   2\n",
            "2 hours is equal to 7200 Seconds\n"
          ]
        }
      ]
    },
    {
      "cell_type": "markdown",
      "metadata": {
        "id": "_ZsUXVx6gQNF"
      },
      "source": [
        "***Write a program to print multiplication table ***"
      ]
    },
    {
      "cell_type": "code",
      "metadata": {
        "colab": {
          "base_uri": "https://localhost:8080/"
        },
        "id": "V9qdvuMOgTrb",
        "outputId": "661e1b1e-29ed-4f80-d04e-f618aba01730"
      },
      "source": [
        "number=int(input(\"Enter the Number:  \"))\n",
        "for i in range(1,11):\n",
        "  print(number,\"*\",i,\"=\",number*i)"
      ],
      "execution_count": 69,
      "outputs": [
        {
          "output_type": "stream",
          "name": "stdout",
          "text": [
            "Enter the Number:  4\n",
            "4 * 1 = 4\n",
            "4 * 2 = 8\n",
            "4 * 3 = 12\n",
            "4 * 4 = 16\n",
            "4 * 5 = 20\n",
            "4 * 6 = 24\n",
            "4 * 7 = 28\n",
            "4 * 8 = 32\n",
            "4 * 9 = 36\n",
            "4 * 10 = 40\n"
          ]
        }
      ]
    },
    {
      "cell_type": "code",
      "metadata": {
        "colab": {
          "base_uri": "https://localhost:8080/"
        },
        "id": "df1DKzb5hcFD",
        "outputId": "859dc288-2381-4910-c67e-19a6661fca71"
      },
      "source": [
        "x= int(input(\"Enter value of x:\"))\n",
        "for y in range(0,10):\n",
        "     if x==y:\n",
        "          print(x,\"=\",y,\"They are equal\")\n",
        "     else:\n",
        "         print(x,\"=\",y, \"They are unequal\")"
      ],
      "execution_count": 72,
      "outputs": [
        {
          "output_type": "stream",
          "name": "stdout",
          "text": [
            "Enter value of x:6\n",
            "6 = 0 They are unequal\n",
            "6 = 1 They are unequal\n",
            "6 = 2 They are unequal\n",
            "6 = 3 They are unequal\n",
            "6 = 4 They are unequal\n",
            "6 = 5 They are unequal\n",
            "6 = 6 They are equal\n",
            "6 = 7 They are unequal\n",
            "6 = 8 They are unequal\n",
            "6 = 9 They are unequal\n"
          ]
        }
      ]
    },
    {
      "cell_type": "code",
      "metadata": {
        "id": "KHu81wBGgoiU"
      },
      "source": [
        ""
      ],
      "execution_count": null,
      "outputs": []
    }
  ]
}