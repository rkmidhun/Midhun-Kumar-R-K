{
  "cells": [
    {
      "cell_type": "markdown",
      "metadata": {
        "id": "CFUqCfWEY0jT"
      },
      "source": [
        "#**Importing the python libraries and packages**"
      ]
    },
    {
      "cell_type": "code",
      "execution_count": 7,
      "metadata": {
        "id": "zt5Q1ZS6Vil3"
      },
      "outputs": [],
      "source": [
        "import pandas as pd\n",
        "import numpy as  np\n",
        "import matplotlib.pyplot as plt\n",
        "import seaborn as sns\n",
        "import warnings\n",
        "warnings.filterwarnings('ignore')\n",
        "\n",
        "from sklearn.preprocessing import LabelEncoder\n",
        "from sklearn.preprocessing import StandardScaler\n",
        "from sklearn.model_selection import train_test_split\n",
        "from sklearn.linear_model import LogisticRegression\n",
        "from sklearn.svm import SVC\n",
        "from sklearn.neural_network import MLPClassifier\n"
      ]
    },
    {
      "cell_type": "markdown",
      "metadata": {
        "id": "rS6UKBjCY55S"
      },
      "source": [
        "##**Adding dataset from google drive**"
      ]
    },
    {
      "cell_type": "code",
      "execution_count": 2,
      "metadata": {
        "id": "A3SxOFanWCu6",
        "colab": {
          "base_uri": "https://localhost:8080/"
        },
        "outputId": "59f989b9-5b1f-4009-c1fa-e2d6be2c3c71"
      },
      "outputs": [
        {
          "output_type": "stream",
          "name": "stdout",
          "text": [
            "Mounted at /content/drive\n"
          ]
        }
      ],
      "source": [
        "from google.colab import drive\n",
        "drive.mount('/content/drive')\n"
      ]
    },
    {
      "cell_type": "markdown",
      "source": [
        "##**Reading the dataset and stored to DataFrame**"
      ],
      "metadata": {
        "id": "GihjmI7tdElq"
      }
    },
    {
      "cell_type": "code",
      "execution_count": 3,
      "metadata": {
        "id": "XyhZ0mDJWvaK"
      },
      "outputs": [],
      "source": [
        "data=pd.read_csv('/content/drive/MyDrive/mushrooms.csv')"
      ]
    },
    {
      "cell_type": "markdown",
      "source": [
        "#**Examining the Data**\n",
        "\n",
        "#####After importing the data, to learn more about the dataset, we’ll use .head() .info() and .describe() methods."
      ],
      "metadata": {
        "id": "-YN4_8b2dbA4"
      }
    },
    {
      "cell_type": "markdown",
      "source": [
        "The **.head()** method will give you the first 5 rows of the dataset. Here is the output:"
      ],
      "metadata": {
        "id": "wue1iU38dxpx"
      }
    },
    {
      "cell_type": "code",
      "source": [
        "data.head(5)"
      ],
      "metadata": {
        "colab": {
          "base_uri": "https://localhost:8080/",
          "height": 322
        },
        "id": "U2voRsUXdjyY",
        "outputId": "fddb75b0-26ca-4e03-965a-c039bfa4f5cf"
      },
      "execution_count": 8,
      "outputs": [
        {
          "output_type": "execute_result",
          "data": {
            "text/html": [
              "\n",
              "  <div id=\"df-981c4ec1-e0ff-4a17-b593-65bc668df07f\">\n",
              "    <div class=\"colab-df-container\">\n",
              "      <div>\n",
              "<style scoped>\n",
              "    .dataframe tbody tr th:only-of-type {\n",
              "        vertical-align: middle;\n",
              "    }\n",
              "\n",
              "    .dataframe tbody tr th {\n",
              "        vertical-align: top;\n",
              "    }\n",
              "\n",
              "    .dataframe thead th {\n",
              "        text-align: right;\n",
              "    }\n",
              "</style>\n",
              "<table border=\"1\" class=\"dataframe\">\n",
              "  <thead>\n",
              "    <tr style=\"text-align: right;\">\n",
              "      <th></th>\n",
              "      <th>class</th>\n",
              "      <th>cap-shape</th>\n",
              "      <th>cap-surface</th>\n",
              "      <th>cap-color</th>\n",
              "      <th>bruises</th>\n",
              "      <th>odor</th>\n",
              "      <th>gill-attachment</th>\n",
              "      <th>gill-spacing</th>\n",
              "      <th>gill-size</th>\n",
              "      <th>gill-color</th>\n",
              "      <th>stalk-shape</th>\n",
              "      <th>stalk-root</th>\n",
              "      <th>stalk-surface-above-ring</th>\n",
              "      <th>stalk-surface-below-ring</th>\n",
              "      <th>stalk-color-above-ring</th>\n",
              "      <th>stalk-color-below-ring</th>\n",
              "      <th>veil-type</th>\n",
              "      <th>veil-color</th>\n",
              "      <th>ring-number</th>\n",
              "      <th>ring-type</th>\n",
              "      <th>spore-print-color</th>\n",
              "      <th>population</th>\n",
              "      <th>habitat</th>\n",
              "    </tr>\n",
              "  </thead>\n",
              "  <tbody>\n",
              "    <tr>\n",
              "      <th>0</th>\n",
              "      <td>p</td>\n",
              "      <td>x</td>\n",
              "      <td>s</td>\n",
              "      <td>n</td>\n",
              "      <td>t</td>\n",
              "      <td>p</td>\n",
              "      <td>f</td>\n",
              "      <td>c</td>\n",
              "      <td>n</td>\n",
              "      <td>k</td>\n",
              "      <td>e</td>\n",
              "      <td>e</td>\n",
              "      <td>s</td>\n",
              "      <td>s</td>\n",
              "      <td>w</td>\n",
              "      <td>w</td>\n",
              "      <td>p</td>\n",
              "      <td>w</td>\n",
              "      <td>o</td>\n",
              "      <td>p</td>\n",
              "      <td>k</td>\n",
              "      <td>s</td>\n",
              "      <td>u</td>\n",
              "    </tr>\n",
              "    <tr>\n",
              "      <th>1</th>\n",
              "      <td>e</td>\n",
              "      <td>x</td>\n",
              "      <td>s</td>\n",
              "      <td>y</td>\n",
              "      <td>t</td>\n",
              "      <td>a</td>\n",
              "      <td>f</td>\n",
              "      <td>c</td>\n",
              "      <td>b</td>\n",
              "      <td>k</td>\n",
              "      <td>e</td>\n",
              "      <td>c</td>\n",
              "      <td>s</td>\n",
              "      <td>s</td>\n",
              "      <td>w</td>\n",
              "      <td>w</td>\n",
              "      <td>p</td>\n",
              "      <td>w</td>\n",
              "      <td>o</td>\n",
              "      <td>p</td>\n",
              "      <td>n</td>\n",
              "      <td>n</td>\n",
              "      <td>g</td>\n",
              "    </tr>\n",
              "    <tr>\n",
              "      <th>2</th>\n",
              "      <td>e</td>\n",
              "      <td>b</td>\n",
              "      <td>s</td>\n",
              "      <td>w</td>\n",
              "      <td>t</td>\n",
              "      <td>l</td>\n",
              "      <td>f</td>\n",
              "      <td>c</td>\n",
              "      <td>b</td>\n",
              "      <td>n</td>\n",
              "      <td>e</td>\n",
              "      <td>c</td>\n",
              "      <td>s</td>\n",
              "      <td>s</td>\n",
              "      <td>w</td>\n",
              "      <td>w</td>\n",
              "      <td>p</td>\n",
              "      <td>w</td>\n",
              "      <td>o</td>\n",
              "      <td>p</td>\n",
              "      <td>n</td>\n",
              "      <td>n</td>\n",
              "      <td>m</td>\n",
              "    </tr>\n",
              "    <tr>\n",
              "      <th>3</th>\n",
              "      <td>p</td>\n",
              "      <td>x</td>\n",
              "      <td>y</td>\n",
              "      <td>w</td>\n",
              "      <td>t</td>\n",
              "      <td>p</td>\n",
              "      <td>f</td>\n",
              "      <td>c</td>\n",
              "      <td>n</td>\n",
              "      <td>n</td>\n",
              "      <td>e</td>\n",
              "      <td>e</td>\n",
              "      <td>s</td>\n",
              "      <td>s</td>\n",
              "      <td>w</td>\n",
              "      <td>w</td>\n",
              "      <td>p</td>\n",
              "      <td>w</td>\n",
              "      <td>o</td>\n",
              "      <td>p</td>\n",
              "      <td>k</td>\n",
              "      <td>s</td>\n",
              "      <td>u</td>\n",
              "    </tr>\n",
              "    <tr>\n",
              "      <th>4</th>\n",
              "      <td>e</td>\n",
              "      <td>x</td>\n",
              "      <td>s</td>\n",
              "      <td>g</td>\n",
              "      <td>f</td>\n",
              "      <td>n</td>\n",
              "      <td>f</td>\n",
              "      <td>w</td>\n",
              "      <td>b</td>\n",
              "      <td>k</td>\n",
              "      <td>t</td>\n",
              "      <td>e</td>\n",
              "      <td>s</td>\n",
              "      <td>s</td>\n",
              "      <td>w</td>\n",
              "      <td>w</td>\n",
              "      <td>p</td>\n",
              "      <td>w</td>\n",
              "      <td>o</td>\n",
              "      <td>e</td>\n",
              "      <td>n</td>\n",
              "      <td>a</td>\n",
              "      <td>g</td>\n",
              "    </tr>\n",
              "  </tbody>\n",
              "</table>\n",
              "</div>\n",
              "      <button class=\"colab-df-convert\" onclick=\"convertToInteractive('df-981c4ec1-e0ff-4a17-b593-65bc668df07f')\"\n",
              "              title=\"Convert this dataframe to an interactive table.\"\n",
              "              style=\"display:none;\">\n",
              "        \n",
              "  <svg xmlns=\"http://www.w3.org/2000/svg\" height=\"24px\"viewBox=\"0 0 24 24\"\n",
              "       width=\"24px\">\n",
              "    <path d=\"M0 0h24v24H0V0z\" fill=\"none\"/>\n",
              "    <path d=\"M18.56 5.44l.94 2.06.94-2.06 2.06-.94-2.06-.94-.94-2.06-.94 2.06-2.06.94zm-11 1L8.5 8.5l.94-2.06 2.06-.94-2.06-.94L8.5 2.5l-.94 2.06-2.06.94zm10 10l.94 2.06.94-2.06 2.06-.94-2.06-.94-.94-2.06-.94 2.06-2.06.94z\"/><path d=\"M17.41 7.96l-1.37-1.37c-.4-.4-.92-.59-1.43-.59-.52 0-1.04.2-1.43.59L10.3 9.45l-7.72 7.72c-.78.78-.78 2.05 0 2.83L4 21.41c.39.39.9.59 1.41.59.51 0 1.02-.2 1.41-.59l7.78-7.78 2.81-2.81c.8-.78.8-2.07 0-2.86zM5.41 20L4 18.59l7.72-7.72 1.47 1.35L5.41 20z\"/>\n",
              "  </svg>\n",
              "      </button>\n",
              "      \n",
              "  <style>\n",
              "    .colab-df-container {\n",
              "      display:flex;\n",
              "      flex-wrap:wrap;\n",
              "      gap: 12px;\n",
              "    }\n",
              "\n",
              "    .colab-df-convert {\n",
              "      background-color: #E8F0FE;\n",
              "      border: none;\n",
              "      border-radius: 50%;\n",
              "      cursor: pointer;\n",
              "      display: none;\n",
              "      fill: #1967D2;\n",
              "      height: 32px;\n",
              "      padding: 0 0 0 0;\n",
              "      width: 32px;\n",
              "    }\n",
              "\n",
              "    .colab-df-convert:hover {\n",
              "      background-color: #E2EBFA;\n",
              "      box-shadow: 0px 1px 2px rgba(60, 64, 67, 0.3), 0px 1px 3px 1px rgba(60, 64, 67, 0.15);\n",
              "      fill: #174EA6;\n",
              "    }\n",
              "\n",
              "    [theme=dark] .colab-df-convert {\n",
              "      background-color: #3B4455;\n",
              "      fill: #D2E3FC;\n",
              "    }\n",
              "\n",
              "    [theme=dark] .colab-df-convert:hover {\n",
              "      background-color: #434B5C;\n",
              "      box-shadow: 0px 1px 3px 1px rgba(0, 0, 0, 0.15);\n",
              "      filter: drop-shadow(0px 1px 2px rgba(0, 0, 0, 0.3));\n",
              "      fill: #FFFFFF;\n",
              "    }\n",
              "  </style>\n",
              "\n",
              "      <script>\n",
              "        const buttonEl =\n",
              "          document.querySelector('#df-981c4ec1-e0ff-4a17-b593-65bc668df07f button.colab-df-convert');\n",
              "        buttonEl.style.display =\n",
              "          google.colab.kernel.accessAllowed ? 'block' : 'none';\n",
              "\n",
              "        async function convertToInteractive(key) {\n",
              "          const element = document.querySelector('#df-981c4ec1-e0ff-4a17-b593-65bc668df07f');\n",
              "          const dataTable =\n",
              "            await google.colab.kernel.invokeFunction('convertToInteractive',\n",
              "                                                     [key], {});\n",
              "          if (!dataTable) return;\n",
              "\n",
              "          const docLinkHtml = 'Like what you see? Visit the ' +\n",
              "            '<a target=\"_blank\" href=https://colab.research.google.com/notebooks/data_table.ipynb>data table notebook</a>'\n",
              "            + ' to learn more about interactive tables.';\n",
              "          element.innerHTML = '';\n",
              "          dataTable['output_type'] = 'display_data';\n",
              "          await google.colab.output.renderOutput(dataTable, element);\n",
              "          const docLink = document.createElement('div');\n",
              "          docLink.innerHTML = docLinkHtml;\n",
              "          element.appendChild(docLink);\n",
              "        }\n",
              "      </script>\n",
              "    </div>\n",
              "  </div>\n",
              "  "
            ],
            "text/plain": [
              "  class cap-shape cap-surface  ... spore-print-color population habitat\n",
              "0     p         x           s  ...                 k          s       u\n",
              "1     e         x           s  ...                 n          n       g\n",
              "2     e         b           s  ...                 n          n       m\n",
              "3     p         x           y  ...                 k          s       u\n",
              "4     e         x           s  ...                 n          a       g\n",
              "\n",
              "[5 rows x 23 columns]"
            ]
          },
          "metadata": {},
          "execution_count": 8
        }
      ]
    },
    {
      "cell_type": "markdown",
      "source": [
        "The **.info()** method will give you a concise summary of the DataFrame. This method will print the information about the DataFrame including the index dtype and column dtypes, non-null values, and memory usage. Here is the output:"
      ],
      "metadata": {
        "id": "OYdswyngd5di"
      }
    },
    {
      "cell_type": "code",
      "execution_count": null,
      "metadata": {
        "colab": {
          "base_uri": "https://localhost:8080/"
        },
        "id": "yYo_tzYRXEv9",
        "outputId": "b6b03c39-dac8-46e9-b5f0-8955521d076a"
      },
      "outputs": [
        {
          "name": "stdout",
          "output_type": "stream",
          "text": [
            "<class 'pandas.core.frame.DataFrame'>\n",
            "RangeIndex: 8124 entries, 0 to 8123\n",
            "Data columns (total 23 columns):\n",
            " #   Column                    Non-Null Count  Dtype \n",
            "---  ------                    --------------  ----- \n",
            " 0   class                     8124 non-null   object\n",
            " 1   cap-shape                 8124 non-null   object\n",
            " 2   cap-surface               8124 non-null   object\n",
            " 3   cap-color                 8124 non-null   object\n",
            " 4   bruises                   8124 non-null   object\n",
            " 5   odor                      8124 non-null   object\n",
            " 6   gill-attachment           8124 non-null   object\n",
            " 7   gill-spacing              8124 non-null   object\n",
            " 8   gill-size                 8124 non-null   object\n",
            " 9   gill-color                8124 non-null   object\n",
            " 10  stalk-shape               8124 non-null   object\n",
            " 11  stalk-root                8124 non-null   object\n",
            " 12  stalk-surface-above-ring  8124 non-null   object\n",
            " 13  stalk-surface-below-ring  8124 non-null   object\n",
            " 14  stalk-color-above-ring    8124 non-null   object\n",
            " 15  stalk-color-below-ring    8124 non-null   object\n",
            " 16  veil-type                 8124 non-null   object\n",
            " 17  veil-color                8124 non-null   object\n",
            " 18  ring-number               8124 non-null   object\n",
            " 19  ring-type                 8124 non-null   object\n",
            " 20  spore-print-color         8124 non-null   object\n",
            " 21  population                8124 non-null   object\n",
            " 22  habitat                   8124 non-null   object\n",
            "dtypes: object(23)\n",
            "memory usage: 1.4+ MB\n"
          ]
        }
      ],
      "source": [
        "data.info()"
      ]
    },
    {
      "cell_type": "markdown",
      "source": [
        "#**Descriptive Statistics**"
      ],
      "metadata": {
        "id": "093qDsJpeGdR"
      }
    },
    {
      "cell_type": "markdown",
      "source": [
        "The **.describe()** method will give you the statistics of the columns.\n",
        "\n",
        "count shows the number of responses.\n",
        "\n",
        "unique shows the number of unique categorical values.\n",
        "\n",
        "top shows the highest-occurring categorical value.\n",
        "\n",
        "freq shows the frequency/count of the highest-occurring categorical value.\n",
        "\n",
        "Here is the output:"
      ],
      "metadata": {
        "id": "XN8JpDqKeNhZ"
      }
    },
    {
      "cell_type": "code",
      "source": [
        "data.describe()"
      ],
      "metadata": {
        "colab": {
          "base_uri": "https://localhost:8080/",
          "height": 291
        },
        "id": "KGsimErQeJYo",
        "outputId": "66f31bad-4441-4314-982b-55b674f5011d"
      },
      "execution_count": 9,
      "outputs": [
        {
          "output_type": "execute_result",
          "data": {
            "text/html": [
              "\n",
              "  <div id=\"df-19f93dcc-20f5-4ad9-ab8d-be02e32858b7\">\n",
              "    <div class=\"colab-df-container\">\n",
              "      <div>\n",
              "<style scoped>\n",
              "    .dataframe tbody tr th:only-of-type {\n",
              "        vertical-align: middle;\n",
              "    }\n",
              "\n",
              "    .dataframe tbody tr th {\n",
              "        vertical-align: top;\n",
              "    }\n",
              "\n",
              "    .dataframe thead th {\n",
              "        text-align: right;\n",
              "    }\n",
              "</style>\n",
              "<table border=\"1\" class=\"dataframe\">\n",
              "  <thead>\n",
              "    <tr style=\"text-align: right;\">\n",
              "      <th></th>\n",
              "      <th>class</th>\n",
              "      <th>cap-shape</th>\n",
              "      <th>cap-surface</th>\n",
              "      <th>cap-color</th>\n",
              "      <th>bruises</th>\n",
              "      <th>odor</th>\n",
              "      <th>gill-attachment</th>\n",
              "      <th>gill-spacing</th>\n",
              "      <th>gill-size</th>\n",
              "      <th>gill-color</th>\n",
              "      <th>stalk-shape</th>\n",
              "      <th>stalk-root</th>\n",
              "      <th>stalk-surface-above-ring</th>\n",
              "      <th>stalk-surface-below-ring</th>\n",
              "      <th>stalk-color-above-ring</th>\n",
              "      <th>stalk-color-below-ring</th>\n",
              "      <th>veil-type</th>\n",
              "      <th>veil-color</th>\n",
              "      <th>ring-number</th>\n",
              "      <th>ring-type</th>\n",
              "      <th>spore-print-color</th>\n",
              "      <th>population</th>\n",
              "      <th>habitat</th>\n",
              "    </tr>\n",
              "  </thead>\n",
              "  <tbody>\n",
              "    <tr>\n",
              "      <th>count</th>\n",
              "      <td>8124</td>\n",
              "      <td>8124</td>\n",
              "      <td>8124</td>\n",
              "      <td>8124</td>\n",
              "      <td>8124</td>\n",
              "      <td>8124</td>\n",
              "      <td>8124</td>\n",
              "      <td>8124</td>\n",
              "      <td>8124</td>\n",
              "      <td>8124</td>\n",
              "      <td>8124</td>\n",
              "      <td>8124</td>\n",
              "      <td>8124</td>\n",
              "      <td>8124</td>\n",
              "      <td>8124</td>\n",
              "      <td>8124</td>\n",
              "      <td>8124</td>\n",
              "      <td>8124</td>\n",
              "      <td>8124</td>\n",
              "      <td>8124</td>\n",
              "      <td>8124</td>\n",
              "      <td>8124</td>\n",
              "      <td>8124</td>\n",
              "    </tr>\n",
              "    <tr>\n",
              "      <th>unique</th>\n",
              "      <td>2</td>\n",
              "      <td>6</td>\n",
              "      <td>4</td>\n",
              "      <td>10</td>\n",
              "      <td>2</td>\n",
              "      <td>9</td>\n",
              "      <td>2</td>\n",
              "      <td>2</td>\n",
              "      <td>2</td>\n",
              "      <td>12</td>\n",
              "      <td>2</td>\n",
              "      <td>5</td>\n",
              "      <td>4</td>\n",
              "      <td>4</td>\n",
              "      <td>9</td>\n",
              "      <td>9</td>\n",
              "      <td>1</td>\n",
              "      <td>4</td>\n",
              "      <td>3</td>\n",
              "      <td>5</td>\n",
              "      <td>9</td>\n",
              "      <td>6</td>\n",
              "      <td>7</td>\n",
              "    </tr>\n",
              "    <tr>\n",
              "      <th>top</th>\n",
              "      <td>e</td>\n",
              "      <td>x</td>\n",
              "      <td>y</td>\n",
              "      <td>n</td>\n",
              "      <td>f</td>\n",
              "      <td>n</td>\n",
              "      <td>f</td>\n",
              "      <td>c</td>\n",
              "      <td>b</td>\n",
              "      <td>b</td>\n",
              "      <td>t</td>\n",
              "      <td>b</td>\n",
              "      <td>s</td>\n",
              "      <td>s</td>\n",
              "      <td>w</td>\n",
              "      <td>w</td>\n",
              "      <td>p</td>\n",
              "      <td>w</td>\n",
              "      <td>o</td>\n",
              "      <td>p</td>\n",
              "      <td>w</td>\n",
              "      <td>v</td>\n",
              "      <td>d</td>\n",
              "    </tr>\n",
              "    <tr>\n",
              "      <th>freq</th>\n",
              "      <td>4208</td>\n",
              "      <td>3656</td>\n",
              "      <td>3244</td>\n",
              "      <td>2284</td>\n",
              "      <td>4748</td>\n",
              "      <td>3528</td>\n",
              "      <td>7914</td>\n",
              "      <td>6812</td>\n",
              "      <td>5612</td>\n",
              "      <td>1728</td>\n",
              "      <td>4608</td>\n",
              "      <td>3776</td>\n",
              "      <td>5176</td>\n",
              "      <td>4936</td>\n",
              "      <td>4464</td>\n",
              "      <td>4384</td>\n",
              "      <td>8124</td>\n",
              "      <td>7924</td>\n",
              "      <td>7488</td>\n",
              "      <td>3968</td>\n",
              "      <td>2388</td>\n",
              "      <td>4040</td>\n",
              "      <td>3148</td>\n",
              "    </tr>\n",
              "  </tbody>\n",
              "</table>\n",
              "</div>\n",
              "      <button class=\"colab-df-convert\" onclick=\"convertToInteractive('df-19f93dcc-20f5-4ad9-ab8d-be02e32858b7')\"\n",
              "              title=\"Convert this dataframe to an interactive table.\"\n",
              "              style=\"display:none;\">\n",
              "        \n",
              "  <svg xmlns=\"http://www.w3.org/2000/svg\" height=\"24px\"viewBox=\"0 0 24 24\"\n",
              "       width=\"24px\">\n",
              "    <path d=\"M0 0h24v24H0V0z\" fill=\"none\"/>\n",
              "    <path d=\"M18.56 5.44l.94 2.06.94-2.06 2.06-.94-2.06-.94-.94-2.06-.94 2.06-2.06.94zm-11 1L8.5 8.5l.94-2.06 2.06-.94-2.06-.94L8.5 2.5l-.94 2.06-2.06.94zm10 10l.94 2.06.94-2.06 2.06-.94-2.06-.94-.94-2.06-.94 2.06-2.06.94z\"/><path d=\"M17.41 7.96l-1.37-1.37c-.4-.4-.92-.59-1.43-.59-.52 0-1.04.2-1.43.59L10.3 9.45l-7.72 7.72c-.78.78-.78 2.05 0 2.83L4 21.41c.39.39.9.59 1.41.59.51 0 1.02-.2 1.41-.59l7.78-7.78 2.81-2.81c.8-.78.8-2.07 0-2.86zM5.41 20L4 18.59l7.72-7.72 1.47 1.35L5.41 20z\"/>\n",
              "  </svg>\n",
              "      </button>\n",
              "      \n",
              "  <style>\n",
              "    .colab-df-container {\n",
              "      display:flex;\n",
              "      flex-wrap:wrap;\n",
              "      gap: 12px;\n",
              "    }\n",
              "\n",
              "    .colab-df-convert {\n",
              "      background-color: #E8F0FE;\n",
              "      border: none;\n",
              "      border-radius: 50%;\n",
              "      cursor: pointer;\n",
              "      display: none;\n",
              "      fill: #1967D2;\n",
              "      height: 32px;\n",
              "      padding: 0 0 0 0;\n",
              "      width: 32px;\n",
              "    }\n",
              "\n",
              "    .colab-df-convert:hover {\n",
              "      background-color: #E2EBFA;\n",
              "      box-shadow: 0px 1px 2px rgba(60, 64, 67, 0.3), 0px 1px 3px 1px rgba(60, 64, 67, 0.15);\n",
              "      fill: #174EA6;\n",
              "    }\n",
              "\n",
              "    [theme=dark] .colab-df-convert {\n",
              "      background-color: #3B4455;\n",
              "      fill: #D2E3FC;\n",
              "    }\n",
              "\n",
              "    [theme=dark] .colab-df-convert:hover {\n",
              "      background-color: #434B5C;\n",
              "      box-shadow: 0px 1px 3px 1px rgba(0, 0, 0, 0.15);\n",
              "      filter: drop-shadow(0px 1px 2px rgba(0, 0, 0, 0.3));\n",
              "      fill: #FFFFFF;\n",
              "    }\n",
              "  </style>\n",
              "\n",
              "      <script>\n",
              "        const buttonEl =\n",
              "          document.querySelector('#df-19f93dcc-20f5-4ad9-ab8d-be02e32858b7 button.colab-df-convert');\n",
              "        buttonEl.style.display =\n",
              "          google.colab.kernel.accessAllowed ? 'block' : 'none';\n",
              "\n",
              "        async function convertToInteractive(key) {\n",
              "          const element = document.querySelector('#df-19f93dcc-20f5-4ad9-ab8d-be02e32858b7');\n",
              "          const dataTable =\n",
              "            await google.colab.kernel.invokeFunction('convertToInteractive',\n",
              "                                                     [key], {});\n",
              "          if (!dataTable) return;\n",
              "\n",
              "          const docLinkHtml = 'Like what you see? Visit the ' +\n",
              "            '<a target=\"_blank\" href=https://colab.research.google.com/notebooks/data_table.ipynb>data table notebook</a>'\n",
              "            + ' to learn more about interactive tables.';\n",
              "          element.innerHTML = '';\n",
              "          dataTable['output_type'] = 'display_data';\n",
              "          await google.colab.output.renderOutput(dataTable, element);\n",
              "          const docLink = document.createElement('div');\n",
              "          docLink.innerHTML = docLinkHtml;\n",
              "          element.appendChild(docLink);\n",
              "        }\n",
              "      </script>\n",
              "    </div>\n",
              "  </div>\n",
              "  "
            ],
            "text/plain": [
              "       class cap-shape cap-surface  ... spore-print-color population habitat\n",
              "count   8124      8124        8124  ...              8124       8124    8124\n",
              "unique     2         6           4  ...                 9          6       7\n",
              "top        e         x           y  ...                 w          v       d\n",
              "freq    4208      3656        3244  ...              2388       4040    3148\n",
              "\n",
              "[4 rows x 23 columns]"
            ]
          },
          "metadata": {},
          "execution_count": 9
        }
      ]
    },
    {
      "cell_type": "markdown",
      "source": [
        "##**The shape of the dataset**"
      ],
      "metadata": {
        "id": "ESo6FmTAedMw"
      }
    },
    {
      "cell_type": "code",
      "source": [
        "print('Dataset shape:', data.shape)"
      ],
      "metadata": {
        "colab": {
          "base_uri": "https://localhost:8080/"
        },
        "id": "Z7zXsd1NefNA",
        "outputId": "549a30b3-1722-43b5-f969-5a60544161c3"
      },
      "execution_count": 12,
      "outputs": [
        {
          "output_type": "stream",
          "name": "stdout",
          "text": [
            "Dataset shape: (8124, 23)\n"
          ]
        }
      ]
    },
    {
      "cell_type": "markdown",
      "source": [
        "Here we can see 8124 rows and 23 columns"
      ],
      "metadata": {
        "id": "wgDiO_LWewGi"
      }
    },
    {
      "cell_type": "markdown",
      "source": [
        "#**Unique occurrences of all columns**"
      ],
      "metadata": {
        "id": "n5yKDg9We87I"
      }
    },
    {
      "cell_type": "code",
      "execution_count": 5,
      "metadata": {
        "colab": {
          "base_uri": "https://localhost:8080/"
        },
        "id": "8Cb1kh74P4OG",
        "outputId": "db48ff18-936b-4f9d-9bff-902aeb2cb599"
      },
      "outputs": [
        {
          "output_type": "stream",
          "name": "stdout",
          "text": [
            "\n",
            "Column Name : class\n",
            "Total Unique values : 2 \n",
            "---------------------------\n",
            " ['p' 'e']\n",
            "\n",
            "Column Name : cap-shape\n",
            "Total Unique values : 6 \n",
            "---------------------------\n",
            " ['x' 'b' 's' 'f' 'k' 'c']\n",
            "\n",
            "Column Name : cap-surface\n",
            "Total Unique values : 4 \n",
            "---------------------------\n",
            " ['s' 'y' 'f' 'g']\n",
            "\n",
            "Column Name : cap-color\n",
            "Total Unique values : 10 \n",
            "---------------------------\n",
            " ['n' 'y' 'w' 'g' 'e' 'p' 'b' 'u' 'c' 'r']\n",
            "\n",
            "Column Name : bruises\n",
            "Total Unique values : 2 \n",
            "---------------------------\n",
            " ['t' 'f']\n",
            "\n",
            "Column Name : odor\n",
            "Total Unique values : 9 \n",
            "---------------------------\n",
            " ['p' 'a' 'l' 'n' 'f' 'c' 'y' 's' 'm']\n",
            "\n",
            "Column Name : gill-attachment\n",
            "Total Unique values : 2 \n",
            "---------------------------\n",
            " ['f' 'a']\n",
            "\n",
            "Column Name : gill-spacing\n",
            "Total Unique values : 2 \n",
            "---------------------------\n",
            " ['c' 'w']\n",
            "\n",
            "Column Name : gill-size\n",
            "Total Unique values : 2 \n",
            "---------------------------\n",
            " ['n' 'b']\n",
            "\n",
            "Column Name : gill-color\n",
            "Total Unique values : 12 \n",
            "---------------------------\n",
            " ['k' 'n' 'g' 'p' 'w' 'h' 'u' 'e' 'b' 'r' 'y' 'o']\n",
            "\n",
            "Column Name : stalk-shape\n",
            "Total Unique values : 2 \n",
            "---------------------------\n",
            " ['e' 't']\n",
            "\n",
            "Column Name : stalk-root\n",
            "Total Unique values : 5 \n",
            "---------------------------\n",
            " ['e' 'c' 'b' 'r' '?']\n",
            "\n",
            "Column Name : stalk-surface-above-ring\n",
            "Total Unique values : 4 \n",
            "---------------------------\n",
            " ['s' 'f' 'k' 'y']\n",
            "\n",
            "Column Name : stalk-surface-below-ring\n",
            "Total Unique values : 4 \n",
            "---------------------------\n",
            " ['s' 'f' 'y' 'k']\n",
            "\n",
            "Column Name : stalk-color-above-ring\n",
            "Total Unique values : 9 \n",
            "---------------------------\n",
            " ['w' 'g' 'p' 'n' 'b' 'e' 'o' 'c' 'y']\n",
            "\n",
            "Column Name : stalk-color-below-ring\n",
            "Total Unique values : 9 \n",
            "---------------------------\n",
            " ['w' 'p' 'g' 'b' 'n' 'e' 'y' 'o' 'c']\n",
            "\n",
            "Column Name : veil-type\n",
            "Total Unique values : 1 \n",
            "---------------------------\n",
            " ['p']\n",
            "\n",
            "Column Name : veil-color\n",
            "Total Unique values : 4 \n",
            "---------------------------\n",
            " ['w' 'n' 'o' 'y']\n",
            "\n",
            "Column Name : ring-number\n",
            "Total Unique values : 3 \n",
            "---------------------------\n",
            " ['o' 't' 'n']\n",
            "\n",
            "Column Name : ring-type\n",
            "Total Unique values : 5 \n",
            "---------------------------\n",
            " ['p' 'e' 'l' 'f' 'n']\n",
            "\n",
            "Column Name : spore-print-color\n",
            "Total Unique values : 9 \n",
            "---------------------------\n",
            " ['k' 'n' 'u' 'h' 'w' 'r' 'o' 'y' 'b']\n",
            "\n",
            "Column Name : population\n",
            "Total Unique values : 6 \n",
            "---------------------------\n",
            " ['s' 'n' 'a' 'v' 'y' 'c']\n",
            "\n",
            "Column Name : habitat\n",
            "Total Unique values : 7 \n",
            "---------------------------\n",
            " ['u' 'g' 'm' 'd' 'p' 'w' 'l']\n"
          ]
        }
      ],
      "source": [
        "for i in data.columns:\n",
        "  print('\\n'+'Column Name :',i+'\\n'+'Total Unique values :',data[i].nunique(),'\\n'+'---------------------------'+'\\n',data[i].unique())"
      ]
    },
    {
      "cell_type": "markdown",
      "source": [
        "##**Now let’s visualize the count of edible and poisonous mushrooms using Sea**born"
      ],
      "metadata": {
        "id": "c77pXJckfQv0"
      }
    },
    {
      "cell_type": "code",
      "source": [
        "count = data['class'].value_counts()\n",
        "plt.figure(figsize=(8,7))\n",
        "sns.barplot(count.index, count.values, alpha=0.8, palette=\"prism\")\n",
        "plt.ylabel('Count', fontsize=12)\n",
        "plt.xlabel('Class', fontsize=12)\n",
        "plt.title('Number of poisonous/edible mushrooms')\n",
        "\n",
        "plt.show()"
      ],
      "metadata": {
        "colab": {
          "base_uri": "https://localhost:8080/",
          "height": 461
        },
        "id": "HzPYNYeffQdV",
        "outputId": "a10921ef-97ae-40fe-c7c0-2e5132c28c93"
      },
      "execution_count": 13,
      "outputs": [
        {
          "output_type": "display_data",
          "data": {
            "image/png": "[encoded data removed]",
            "text/plain": [
              "<Figure size 576x504 with 1 Axes>"
            ]
          },
          "metadata": {
            "needs_background": "light"
          }
        }
      ]
    },
    {
      "cell_type": "markdown",
      "source": [
        "#**Data Preprocessing**\n",
        "The data is categorical so we’ll use LabelEncoder to convert it to ordinal. LabelEncoder converts each value in a column to a number.\n",
        "This approach requires the category column to be of ‘category’ datatype. By default, a non-numerical column is of ‘object’ datatype. From the df.describe() method, we saw that our columns are of ‘object’ datatype. So we will have to change the type to ‘category’ before using this approach."
      ],
      "metadata": {
        "id": "p0fwQ8U3f3tS"
      }
    },
    {
      "cell_type": "code",
      "source": [
        "df=data.copy() #copy the original dataset to another dataframe df"
      ],
      "metadata": {
        "id": "1sLzD2PVg70p"
      },
      "execution_count": 14,
      "outputs": []
    },
    {
      "cell_type": "code",
      "source": [
        "df = df.astype('category')\n",
        "df.dtypes"
      ],
      "metadata": {
        "colab": {
          "base_uri": "https://localhost:8080/"
        },
        "id": "bV3uXMXXgnfg",
        "outputId": "bb99c894-e4ff-4694-db1a-b6f9028afc00"
      },
      "execution_count": 15,
      "outputs": [
        {
          "output_type": "execute_result",
          "data": {
            "text/plain": [
              "class                       category\n",
              "cap-shape                   category\n",
              "cap-surface                 category\n",
              "cap-color                   category\n",
              "bruises                     category\n",
              "odor                        category\n",
              "gill-attachment             category\n",
              "gill-spacing                category\n",
              "gill-size                   category\n",
              "gill-color                  category\n",
              "stalk-shape                 category\n",
              "stalk-root                  category\n",
              "stalk-surface-above-ring    category\n",
              "stalk-surface-below-ring    category\n",
              "stalk-color-above-ring      category\n",
              "stalk-color-below-ring      category\n",
              "veil-type                   category\n",
              "veil-color                  category\n",
              "ring-number                 category\n",
              "ring-type                   category\n",
              "spore-print-color           category\n",
              "population                  category\n",
              "habitat                     category\n",
              "dtype: object"
            ]
          },
          "metadata": {},
          "execution_count": 15
        }
      ]
    },
    {
      "cell_type": "markdown",
      "source": [
        "As we can see, our columns are now of type ‘category’. We can now use LabelEncoder to convert categorical values to ordinal."
      ],
      "metadata": {
        "id": "GEMmatLHhLNK"
      }
    },
    {
      "cell_type": "code",
      "source": [
        "mapping=list()\n",
        "encoder=LabelEncoder()\n",
        "for columns in range(len(df.columns)):\n",
        "  df[df.columns[columns]] = encoder.fit_transform(df[df.columns[columns]])\n",
        "  mappings_dict = {index: label for index, label in enumerate(encoder.classes_)} # map the original value to its corresponding numeric values\n",
        "  mapping.append(mappings_dict)\n"
      ],
      "metadata": {
        "id": "Z0fXQ81_hMPg"
      },
      "execution_count": 17,
      "outputs": []
    },
    {
      "cell_type": "code",
      "source": [
        "df.head()"
      ],
      "metadata": {
        "colab": {
          "base_uri": "https://localhost:8080/",
          "height": 322
        },
        "id": "NwLpGQs0jX0-",
        "outputId": "4d4206c0-cd9e-4bf7-8c1c-b5a914aba56a"
      },
      "execution_count": 18,
      "outputs": [
        {
          "output_type": "execute_result",
          "data": {
            "text/html": [
              "\n",
              "  <div id=\"df-f80141df-525f-4609-8ecc-fd5092c813ea\">\n",
              "    <div class=\"colab-df-container\">\n",
              "      <div>\n",
              "<style scoped>\n",
              "    .dataframe tbody tr th:only-of-type {\n",
              "        vertical-align: middle;\n",
              "    }\n",
              "\n",
              "    .dataframe tbody tr th {\n",
              "        vertical-align: top;\n",
              "    }\n",
              "\n",
              "    .dataframe thead th {\n",
              "        text-align: right;\n",
              "    }\n",
              "</style>\n",
              "<table border=\"1\" class=\"dataframe\">\n",
              "  <thead>\n",
              "    <tr style=\"text-align: right;\">\n",
              "      <th></th>\n",
              "      <th>class</th>\n",
              "      <th>cap-shape</th>\n",
              "      <th>cap-surface</th>\n",
              "      <th>cap-color</th>\n",
              "      <th>bruises</th>\n",
              "      <th>odor</th>\n",
              "      <th>gill-attachment</th>\n",
              "      <th>gill-spacing</th>\n",
              "      <th>gill-size</th>\n",
              "      <th>gill-color</th>\n",
              "      <th>stalk-shape</th>\n",
              "      <th>stalk-root</th>\n",
              "      <th>stalk-surface-above-ring</th>\n",
              "      <th>stalk-surface-below-ring</th>\n",
              "      <th>stalk-color-above-ring</th>\n",
              "      <th>stalk-color-below-ring</th>\n",
              "      <th>veil-type</th>\n",
              "      <th>veil-color</th>\n",
              "      <th>ring-number</th>\n",
              "      <th>ring-type</th>\n",
              "      <th>spore-print-color</th>\n",
              "      <th>population</th>\n",
              "      <th>habitat</th>\n",
              "    </tr>\n",
              "  </thead>\n",
              "  <tbody>\n",
              "    <tr>\n",
              "      <th>0</th>\n",
              "      <td>1</td>\n",
              "      <td>5</td>\n",
              "      <td>2</td>\n",
              "      <td>4</td>\n",
              "      <td>1</td>\n",
              "      <td>6</td>\n",
              "      <td>1</td>\n",
              "      <td>0</td>\n",
              "      <td>1</td>\n",
              "      <td>4</td>\n",
              "      <td>0</td>\n",
              "      <td>3</td>\n",
              "      <td>2</td>\n",
              "      <td>2</td>\n",
              "      <td>7</td>\n",
              "      <td>7</td>\n",
              "      <td>0</td>\n",
              "      <td>2</td>\n",
              "      <td>1</td>\n",
              "      <td>4</td>\n",
              "      <td>2</td>\n",
              "      <td>3</td>\n",
              "      <td>5</td>\n",
              "    </tr>\n",
              "    <tr>\n",
              "      <th>1</th>\n",
              "      <td>0</td>\n",
              "      <td>5</td>\n",
              "      <td>2</td>\n",
              "      <td>9</td>\n",
              "      <td>1</td>\n",
              "      <td>0</td>\n",
              "      <td>1</td>\n",
              "      <td>0</td>\n",
              "      <td>0</td>\n",
              "      <td>4</td>\n",
              "      <td>0</td>\n",
              "      <td>2</td>\n",
              "      <td>2</td>\n",
              "      <td>2</td>\n",
              "      <td>7</td>\n",
              "      <td>7</td>\n",
              "      <td>0</td>\n",
              "      <td>2</td>\n",
              "      <td>1</td>\n",
              "      <td>4</td>\n",
              "      <td>3</td>\n",
              "      <td>2</td>\n",
              "      <td>1</td>\n",
              "    </tr>\n",
              "    <tr>\n",
              "      <th>2</th>\n",
              "      <td>0</td>\n",
              "      <td>0</td>\n",
              "      <td>2</td>\n",
              "      <td>8</td>\n",
              "      <td>1</td>\n",
              "      <td>3</td>\n",
              "      <td>1</td>\n",
              "      <td>0</td>\n",
              "      <td>0</td>\n",
              "      <td>5</td>\n",
              "      <td>0</td>\n",
              "      <td>2</td>\n",
              "      <td>2</td>\n",
              "      <td>2</td>\n",
              "      <td>7</td>\n",
              "      <td>7</td>\n",
              "      <td>0</td>\n",
              "      <td>2</td>\n",
              "      <td>1</td>\n",
              "      <td>4</td>\n",
              "      <td>3</td>\n",
              "      <td>2</td>\n",
              "      <td>3</td>\n",
              "    </tr>\n",
              "    <tr>\n",
              "      <th>3</th>\n",
              "      <td>1</td>\n",
              "      <td>5</td>\n",
              "      <td>3</td>\n",
              "      <td>8</td>\n",
              "      <td>1</td>\n",
              "      <td>6</td>\n",
              "      <td>1</td>\n",
              "      <td>0</td>\n",
              "      <td>1</td>\n",
              "      <td>5</td>\n",
              "      <td>0</td>\n",
              "      <td>3</td>\n",
              "      <td>2</td>\n",
              "      <td>2</td>\n",
              "      <td>7</td>\n",
              "      <td>7</td>\n",
              "      <td>0</td>\n",
              "      <td>2</td>\n",
              "      <td>1</td>\n",
              "      <td>4</td>\n",
              "      <td>2</td>\n",
              "      <td>3</td>\n",
              "      <td>5</td>\n",
              "    </tr>\n",
              "    <tr>\n",
              "      <th>4</th>\n",
              "      <td>0</td>\n",
              "      <td>5</td>\n",
              "      <td>2</td>\n",
              "      <td>3</td>\n",
              "      <td>0</td>\n",
              "      <td>5</td>\n",
              "      <td>1</td>\n",
              "      <td>1</td>\n",
              "      <td>0</td>\n",
              "      <td>4</td>\n",
              "      <td>1</td>\n",
              "      <td>3</td>\n",
              "      <td>2</td>\n",
              "      <td>2</td>\n",
              "      <td>7</td>\n",
              "      <td>7</td>\n",
              "      <td>0</td>\n",
              "      <td>2</td>\n",
              "      <td>1</td>\n",
              "      <td>0</td>\n",
              "      <td>3</td>\n",
              "      <td>0</td>\n",
              "      <td>1</td>\n",
              "    </tr>\n",
              "  </tbody>\n",
              "</table>\n",
              "</div>\n",
              "      <button class=\"colab-df-convert\" onclick=\"convertToInteractive('df-f80141df-525f-4609-8ecc-fd5092c813ea')\"\n",
              "              title=\"Convert this dataframe to an interactive table.\"\n",
              "              style=\"display:none;\">\n",
              "        \n",
              "  <svg xmlns=\"http://www.w3.org/2000/svg\" height=\"24px\"viewBox=\"0 0 24 24\"\n",
              "       width=\"24px\">\n",
              "    <path d=\"M0 0h24v24H0V0z\" fill=\"none\"/>\n",
              "    <path d=\"M18.56 5.44l.94 2.06.94-2.06 2.06-.94-2.06-.94-.94-2.06-.94 2.06-2.06.94zm-11 1L8.5 8.5l.94-2.06 2.06-.94-2.06-.94L8.5 2.5l-.94 2.06-2.06.94zm10 10l.94 2.06.94-2.06 2.06-.94-2.06-.94-.94-2.06-.94 2.06-2.06.94z\"/><path d=\"M17.41 7.96l-1.37-1.37c-.4-.4-.92-.59-1.43-.59-.52 0-1.04.2-1.43.59L10.3 9.45l-7.72 7.72c-.78.78-.78 2.05 0 2.83L4 21.41c.39.39.9.59 1.41.59.51 0 1.02-.2 1.41-.59l7.78-7.78 2.81-2.81c.8-.78.8-2.07 0-2.86zM5.41 20L4 18.59l7.72-7.72 1.47 1.35L5.41 20z\"/>\n",
              "  </svg>\n",
              "      </button>\n",
              "      \n",
              "  <style>\n",
              "    .colab-df-container {\n",
              "      display:flex;\n",
              "      flex-wrap:wrap;\n",
              "      gap: 12px;\n",
              "    }\n",
              "\n",
              "    .colab-df-convert {\n",
              "      background-color: #E8F0FE;\n",
              "      border: none;\n",
              "      border-radius: 50%;\n",
              "      cursor: pointer;\n",
              "      display: none;\n",
              "      fill: #1967D2;\n",
              "      height: 32px;\n",
              "      padding: 0 0 0 0;\n",
              "      width: 32px;\n",
              "    }\n",
              "\n",
              "    .colab-df-convert:hover {\n",
              "      background-color: #E2EBFA;\n",
              "      box-shadow: 0px 1px 2px rgba(60, 64, 67, 0.3), 0px 1px 3px 1px rgba(60, 64, 67, 0.15);\n",
              "      fill: #174EA6;\n",
              "    }\n",
              "\n",
              "    [theme=dark] .colab-df-convert {\n",
              "      background-color: #3B4455;\n",
              "      fill: #D2E3FC;\n",
              "    }\n",
              "\n",
              "    [theme=dark] .colab-df-convert:hover {\n",
              "      background-color: #434B5C;\n",
              "      box-shadow: 0px 1px 3px 1px rgba(0, 0, 0, 0.15);\n",
              "      filter: drop-shadow(0px 1px 2px rgba(0, 0, 0, 0.3));\n",
              "      fill: #FFFFFF;\n",
              "    }\n",
              "  </style>\n",
              "\n",
              "      <script>\n",
              "        const buttonEl =\n",
              "          document.querySelector('#df-f80141df-525f-4609-8ecc-fd5092c813ea button.colab-df-convert');\n",
              "        buttonEl.style.display =\n",
              "          google.colab.kernel.accessAllowed ? 'block' : 'none';\n",
              "\n",
              "        async function convertToInteractive(key) {\n",
              "          const element = document.querySelector('#df-f80141df-525f-4609-8ecc-fd5092c813ea');\n",
              "          const dataTable =\n",
              "            await google.colab.kernel.invokeFunction('convertToInteractive',\n",
              "                                                     [key], {});\n",
              "          if (!dataTable) return;\n",
              "\n",
              "          const docLinkHtml = 'Like what you see? Visit the ' +\n",
              "            '<a target=\"_blank\" href=https://colab.research.google.com/notebooks/data_table.ipynb>data table notebook</a>'\n",
              "            + ' to learn more about interactive tables.';\n",
              "          element.innerHTML = '';\n",
              "          dataTable['output_type'] = 'display_data';\n",
              "          await google.colab.output.renderOutput(dataTable, element);\n",
              "          const docLink = document.createElement('div');\n",
              "          docLink.innerHTML = docLinkHtml;\n",
              "          element.appendChild(docLink);\n",
              "        }\n",
              "      </script>\n",
              "    </div>\n",
              "  </div>\n",
              "  "
            ],
            "text/plain": [
              "   class  cap-shape  cap-surface  ...  spore-print-color  population  habitat\n",
              "0      1          5            2  ...                  2           3        5\n",
              "1      0          5            2  ...                  3           2        1\n",
              "2      0          0            2  ...                  3           2        3\n",
              "3      1          5            3  ...                  2           3        5\n",
              "4      0          5            2  ...                  3           0        1\n",
              "\n",
              "[5 rows x 23 columns]"
            ]
          },
          "metadata": {},
          "execution_count": 18
        }
      ]
    },
    {
      "cell_type": "code",
      "source": [
        "mapping # map the original value to its corresponding numeric values"
      ],
      "metadata": {
        "colab": {
          "base_uri": "https://localhost:8080/"
        },
        "id": "u8Btj7lljdB3",
        "outputId": "9b1b9305-84a6-4054-b737-4f7713ada5eb"
      },
      "execution_count": 19,
      "outputs": [
        {
          "output_type": "execute_result",
          "data": {
            "text/plain": [
              "[{0: 'e', 1: 'p'},\n",
              " {0: 'b', 1: 'c', 2: 'f', 3: 'k', 4: 's', 5: 'x'},\n",
              " {0: 'f', 1: 'g', 2: 's', 3: 'y'},\n",
              " {0: 'b',\n",
              "  1: 'c',\n",
              "  2: 'e',\n",
              "  3: 'g',\n",
              "  4: 'n',\n",
              "  5: 'p',\n",
              "  6: 'r',\n",
              "  7: 'u',\n",
              "  8: 'w',\n",
              "  9: 'y'},\n",
              " {0: 'f', 1: 't'},\n",
              " {0: 'a', 1: 'c', 2: 'f', 3: 'l', 4: 'm', 5: 'n', 6: 'p', 7: 's', 8: 'y'},\n",
              " {0: 'a', 1: 'f'},\n",
              " {0: 'c', 1: 'w'},\n",
              " {0: 'b', 1: 'n'},\n",
              " {0: 'b',\n",
              "  1: 'e',\n",
              "  2: 'g',\n",
              "  3: 'h',\n",
              "  4: 'k',\n",
              "  5: 'n',\n",
              "  6: 'o',\n",
              "  7: 'p',\n",
              "  8: 'r',\n",
              "  9: 'u',\n",
              "  10: 'w',\n",
              "  11: 'y'},\n",
              " {0: 'e', 1: 't'},\n",
              " {0: '?', 1: 'b', 2: 'c', 3: 'e', 4: 'r'},\n",
              " {0: 'f', 1: 'k', 2: 's', 3: 'y'},\n",
              " {0: 'f', 1: 'k', 2: 's', 3: 'y'},\n",
              " {0: 'b', 1: 'c', 2: 'e', 3: 'g', 4: 'n', 5: 'o', 6: 'p', 7: 'w', 8: 'y'},\n",
              " {0: 'b', 1: 'c', 2: 'e', 3: 'g', 4: 'n', 5: 'o', 6: 'p', 7: 'w', 8: 'y'},\n",
              " {0: 'p'},\n",
              " {0: 'n', 1: 'o', 2: 'w', 3: 'y'},\n",
              " {0: 'n', 1: 'o', 2: 't'},\n",
              " {0: 'e', 1: 'f', 2: 'l', 3: 'n', 4: 'p'},\n",
              " {0: 'b', 1: 'h', 2: 'k', 3: 'n', 4: 'o', 5: 'r', 6: 'u', 7: 'w', 8: 'y'},\n",
              " {0: 'a', 1: 'c', 2: 'n', 3: 's', 4: 'v', 5: 'y'},\n",
              " {0: 'd', 1: 'g', 2: 'l', 3: 'm', 4: 'p', 5: 'u', 6: 'w'}]"
            ]
          },
          "metadata": {},
          "execution_count": 19
        }
      ]
    },
    {
      "cell_type": "markdown",
      "source": [
        "Also, the column “veil-type” is 0 and not contributing to the data so we’ll remove it."
      ],
      "metadata": {
        "id": "e3iVtYtjj-T_"
      }
    },
    {
      "cell_type": "code",
      "source": [
        "df['veil-type']"
      ],
      "metadata": {
        "colab": {
          "base_uri": "https://localhost:8080/"
        },
        "id": "B4ArYgNZj_LX",
        "outputId": "4288cfb0-c89b-450d-8398-e89015f4d47a"
      },
      "execution_count": 20,
      "outputs": [
        {
          "output_type": "execute_result",
          "data": {
            "text/plain": [
              "0       0\n",
              "1       0\n",
              "2       0\n",
              "3       0\n",
              "4       0\n",
              "       ..\n",
              "8119    0\n",
              "8120    0\n",
              "8121    0\n",
              "8122    0\n",
              "8123    0\n",
              "Name: veil-type, Length: 8124, dtype: int64"
            ]
          },
          "metadata": {},
          "execution_count": 20
        }
      ]
    },
    {
      "cell_type": "code",
      "source": [
        "df = df.drop([\"veil-type\"],axis=1)"
      ],
      "metadata": {
        "id": "noa0zXT9kKyy"
      },
      "execution_count": 21,
      "outputs": []
    },
    {
      "cell_type": "markdown",
      "source": [
        "#**Preparing the Data**\n",
        "Setting X and y-axis and splitting the data into train and test respectively.\n"
      ],
      "metadata": {
        "id": "UE6hL45Hmv4n"
      }
    },
    {
      "cell_type": "code",
      "source": [
        "y = df['class']\n",
        "X = df.drop('class', axis=1)"
      ],
      "metadata": {
        "id": "ZBmSxILDm03n"
      },
      "execution_count": 23,
      "outputs": []
    },
    {
      "cell_type": "markdown",
      "source": [
        "###**Now Scale the X**"
      ],
      "metadata": {
        "id": "xidsRugLnUvQ"
      }
    },
    {
      "cell_type": "code",
      "source": [
        "scaler = StandardScaler()\n",
        "\n",
        "X = pd.DataFrame(scaler.fit_transform(X), columns=X.columns)"
      ],
      "metadata": {
        "id": "U5Iv0FQUnYRH"
      },
      "execution_count": 24,
      "outputs": []
    },
    {
      "cell_type": "code",
      "source": [
        "X"
      ],
      "metadata": {
        "colab": {
          "base_uri": "https://localhost:8080/",
          "height": 540
        },
        "id": "4HLT9-IhneKw",
        "outputId": "a89b863e-82af-4b95-db29-c3abaf6414f4"
      },
      "execution_count": 26,
      "outputs": [
        {
          "output_type": "execute_result",
          "data": {
            "text/html": [
              "\n",
              "  <div id=\"df-7a005e00-4a1a-4c5f-9bf6-5a69b82c9280\">\n",
              "    <div class=\"colab-df-container\">\n",
              "      <div>\n",
              "<style scoped>\n",
              "    .dataframe tbody tr th:only-of-type {\n",
              "        vertical-align: middle;\n",
              "    }\n",
              "\n",
              "    .dataframe tbody tr th {\n",
              "        vertical-align: top;\n",
              "    }\n",
              "\n",
              "    .dataframe thead th {\n",
              "        text-align: right;\n",
              "    }\n",
              "</style>\n",
              "<table border=\"1\" class=\"dataframe\">\n",
              "  <thead>\n",
              "    <tr style=\"text-align: right;\">\n",
              "      <th></th>\n",
              "      <th>cap-shape</th>\n",
              "      <th>cap-surface</th>\n",
              "      <th>cap-color</th>\n",
              "      <th>bruises</th>\n",
              "      <th>odor</th>\n",
              "      <th>gill-attachment</th>\n",
              "      <th>gill-spacing</th>\n",
              "      <th>gill-size</th>\n",
              "      <th>gill-color</th>\n",
              "      <th>stalk-shape</th>\n",
              "      <th>stalk-root</th>\n",
              "      <th>stalk-surface-above-ring</th>\n",
              "      <th>stalk-surface-below-ring</th>\n",
              "      <th>stalk-color-above-ring</th>\n",
              "      <th>stalk-color-below-ring</th>\n",
              "      <th>veil-color</th>\n",
              "      <th>ring-number</th>\n",
              "      <th>ring-type</th>\n",
              "      <th>spore-print-color</th>\n",
              "      <th>population</th>\n",
              "      <th>habitat</th>\n",
              "    </tr>\n",
              "  </thead>\n",
              "  <tbody>\n",
              "    <tr>\n",
              "      <th>0</th>\n",
              "      <td>1.029712</td>\n",
              "      <td>0.140128</td>\n",
              "      <td>-0.198250</td>\n",
              "      <td>1.185917</td>\n",
              "      <td>0.881938</td>\n",
              "      <td>0.162896</td>\n",
              "      <td>-0.438864</td>\n",
              "      <td>1.494683</td>\n",
              "      <td>-0.228998</td>\n",
              "      <td>-1.144806</td>\n",
              "      <td>1.781460</td>\n",
              "      <td>0.683778</td>\n",
              "      <td>0.586385</td>\n",
              "      <td>0.622441</td>\n",
              "      <td>0.631991</td>\n",
              "      <td>0.142037</td>\n",
              "      <td>-0.256132</td>\n",
              "      <td>0.948081</td>\n",
              "      <td>-0.670195</td>\n",
              "      <td>-0.514389</td>\n",
              "      <td>2.030028</td>\n",
              "    </tr>\n",
              "    <tr>\n",
              "      <th>1</th>\n",
              "      <td>1.029712</td>\n",
              "      <td>0.140128</td>\n",
              "      <td>1.765874</td>\n",
              "      <td>1.185917</td>\n",
              "      <td>-1.970316</td>\n",
              "      <td>0.162896</td>\n",
              "      <td>-0.438864</td>\n",
              "      <td>-0.669038</td>\n",
              "      <td>-0.228998</td>\n",
              "      <td>-1.144806</td>\n",
              "      <td>0.838989</td>\n",
              "      <td>0.683778</td>\n",
              "      <td>0.586385</td>\n",
              "      <td>0.622441</td>\n",
              "      <td>0.631991</td>\n",
              "      <td>0.142037</td>\n",
              "      <td>-0.256132</td>\n",
              "      <td>0.948081</td>\n",
              "      <td>-0.250471</td>\n",
              "      <td>-1.313108</td>\n",
              "      <td>-0.295730</td>\n",
              "    </tr>\n",
              "    <tr>\n",
              "      <th>2</th>\n",
              "      <td>-2.087047</td>\n",
              "      <td>0.140128</td>\n",
              "      <td>1.373049</td>\n",
              "      <td>1.185917</td>\n",
              "      <td>-0.544189</td>\n",
              "      <td>0.162896</td>\n",
              "      <td>-0.438864</td>\n",
              "      <td>-0.669038</td>\n",
              "      <td>0.053477</td>\n",
              "      <td>-1.144806</td>\n",
              "      <td>0.838989</td>\n",
              "      <td>0.683778</td>\n",
              "      <td>0.586385</td>\n",
              "      <td>0.622441</td>\n",
              "      <td>0.631991</td>\n",
              "      <td>0.142037</td>\n",
              "      <td>-0.256132</td>\n",
              "      <td>0.948081</td>\n",
              "      <td>-0.250471</td>\n",
              "      <td>-1.313108</td>\n",
              "      <td>0.867149</td>\n",
              "    </tr>\n",
              "    <tr>\n",
              "      <th>3</th>\n",
              "      <td>1.029712</td>\n",
              "      <td>0.953270</td>\n",
              "      <td>1.373049</td>\n",
              "      <td>1.185917</td>\n",
              "      <td>0.881938</td>\n",
              "      <td>0.162896</td>\n",
              "      <td>-0.438864</td>\n",
              "      <td>1.494683</td>\n",
              "      <td>0.053477</td>\n",
              "      <td>-1.144806</td>\n",
              "      <td>1.781460</td>\n",
              "      <td>0.683778</td>\n",
              "      <td>0.586385</td>\n",
              "      <td>0.622441</td>\n",
              "      <td>0.631991</td>\n",
              "      <td>0.142037</td>\n",
              "      <td>-0.256132</td>\n",
              "      <td>0.948081</td>\n",
              "      <td>-0.670195</td>\n",
              "      <td>-0.514389</td>\n",
              "      <td>2.030028</td>\n",
              "    </tr>\n",
              "    <tr>\n",
              "      <th>4</th>\n",
              "      <td>1.029712</td>\n",
              "      <td>0.140128</td>\n",
              "      <td>-0.591075</td>\n",
              "      <td>-0.843230</td>\n",
              "      <td>0.406562</td>\n",
              "      <td>0.162896</td>\n",
              "      <td>2.278612</td>\n",
              "      <td>-0.669038</td>\n",
              "      <td>-0.228998</td>\n",
              "      <td>0.873511</td>\n",
              "      <td>1.781460</td>\n",
              "      <td>0.683778</td>\n",
              "      <td>0.586385</td>\n",
              "      <td>0.622441</td>\n",
              "      <td>0.631991</td>\n",
              "      <td>0.142037</td>\n",
              "      <td>-0.256132</td>\n",
              "      <td>-1.272216</td>\n",
              "      <td>-0.250471</td>\n",
              "      <td>-2.910546</td>\n",
              "      <td>-0.295730</td>\n",
              "    </tr>\n",
              "    <tr>\n",
              "      <th>...</th>\n",
              "      <td>...</td>\n",
              "      <td>...</td>\n",
              "      <td>...</td>\n",
              "      <td>...</td>\n",
              "      <td>...</td>\n",
              "      <td>...</td>\n",
              "      <td>...</td>\n",
              "      <td>...</td>\n",
              "      <td>...</td>\n",
              "      <td>...</td>\n",
              "      <td>...</td>\n",
              "      <td>...</td>\n",
              "      <td>...</td>\n",
              "      <td>...</td>\n",
              "      <td>...</td>\n",
              "      <td>...</td>\n",
              "      <td>...</td>\n",
              "      <td>...</td>\n",
              "      <td>...</td>\n",
              "      <td>...</td>\n",
              "      <td>...</td>\n",
              "    </tr>\n",
              "    <tr>\n",
              "      <th>8119</th>\n",
              "      <td>-0.216992</td>\n",
              "      <td>0.140128</td>\n",
              "      <td>-0.198250</td>\n",
              "      <td>-0.843230</td>\n",
              "      <td>0.406562</td>\n",
              "      <td>-6.138869</td>\n",
              "      <td>-0.438864</td>\n",
              "      <td>-0.669038</td>\n",
              "      <td>1.748325</td>\n",
              "      <td>-1.144806</td>\n",
              "      <td>-1.045952</td>\n",
              "      <td>0.683778</td>\n",
              "      <td>0.586385</td>\n",
              "      <td>-0.429288</td>\n",
              "      <td>-0.416681</td>\n",
              "      <td>-3.979055</td>\n",
              "      <td>-0.256132</td>\n",
              "      <td>0.948081</td>\n",
              "      <td>-1.509643</td>\n",
              "      <td>-2.111827</td>\n",
              "      <td>0.285710</td>\n",
              "    </tr>\n",
              "    <tr>\n",
              "      <th>8120</th>\n",
              "      <td>1.029712</td>\n",
              "      <td>0.140128</td>\n",
              "      <td>-0.198250</td>\n",
              "      <td>-0.843230</td>\n",
              "      <td>0.406562</td>\n",
              "      <td>-6.138869</td>\n",
              "      <td>-0.438864</td>\n",
              "      <td>-0.669038</td>\n",
              "      <td>1.748325</td>\n",
              "      <td>-1.144806</td>\n",
              "      <td>-1.045952</td>\n",
              "      <td>0.683778</td>\n",
              "      <td>0.586385</td>\n",
              "      <td>-0.429288</td>\n",
              "      <td>-0.416681</td>\n",
              "      <td>-8.100146</td>\n",
              "      <td>-0.256132</td>\n",
              "      <td>0.948081</td>\n",
              "      <td>-1.509643</td>\n",
              "      <td>0.284330</td>\n",
              "      <td>0.285710</td>\n",
              "    </tr>\n",
              "    <tr>\n",
              "      <th>8121</th>\n",
              "      <td>-0.840343</td>\n",
              "      <td>0.140128</td>\n",
              "      <td>-0.198250</td>\n",
              "      <td>-0.843230</td>\n",
              "      <td>0.406562</td>\n",
              "      <td>-6.138869</td>\n",
              "      <td>-0.438864</td>\n",
              "      <td>-0.669038</td>\n",
              "      <td>0.053477</td>\n",
              "      <td>-1.144806</td>\n",
              "      <td>-1.045952</td>\n",
              "      <td>0.683778</td>\n",
              "      <td>0.586385</td>\n",
              "      <td>-0.429288</td>\n",
              "      <td>-0.416681</td>\n",
              "      <td>-3.979055</td>\n",
              "      <td>-0.256132</td>\n",
              "      <td>0.948081</td>\n",
              "      <td>-1.509643</td>\n",
              "      <td>-2.111827</td>\n",
              "      <td>0.285710</td>\n",
              "    </tr>\n",
              "    <tr>\n",
              "      <th>8122</th>\n",
              "      <td>-0.216992</td>\n",
              "      <td>0.953270</td>\n",
              "      <td>-0.198250</td>\n",
              "      <td>-0.843230</td>\n",
              "      <td>1.832689</td>\n",
              "      <td>0.162896</td>\n",
              "      <td>-0.438864</td>\n",
              "      <td>1.494683</td>\n",
              "      <td>-1.358896</td>\n",
              "      <td>0.873511</td>\n",
              "      <td>-1.045952</td>\n",
              "      <td>0.683778</td>\n",
              "      <td>-0.893053</td>\n",
              "      <td>0.622441</td>\n",
              "      <td>0.631991</td>\n",
              "      <td>0.142037</td>\n",
              "      <td>-0.256132</td>\n",
              "      <td>-1.272216</td>\n",
              "      <td>1.428426</td>\n",
              "      <td>0.284330</td>\n",
              "      <td>0.285710</td>\n",
              "    </tr>\n",
              "    <tr>\n",
              "      <th>8123</th>\n",
              "      <td>1.029712</td>\n",
              "      <td>0.140128</td>\n",
              "      <td>-0.198250</td>\n",
              "      <td>-0.843230</td>\n",
              "      <td>0.406562</td>\n",
              "      <td>-6.138869</td>\n",
              "      <td>-0.438864</td>\n",
              "      <td>-0.669038</td>\n",
              "      <td>1.748325</td>\n",
              "      <td>-1.144806</td>\n",
              "      <td>-1.045952</td>\n",
              "      <td>0.683778</td>\n",
              "      <td>0.586385</td>\n",
              "      <td>-0.429288</td>\n",
              "      <td>-0.416681</td>\n",
              "      <td>-3.979055</td>\n",
              "      <td>-0.256132</td>\n",
              "      <td>0.948081</td>\n",
              "      <td>0.169254</td>\n",
              "      <td>-2.111827</td>\n",
              "      <td>0.285710</td>\n",
              "    </tr>\n",
              "  </tbody>\n",
              "</table>\n",
              "<p>8124 rows × 21 columns</p>\n",
              "</div>\n",
              "      <button class=\"colab-df-convert\" onclick=\"convertToInteractive('df-7a005e00-4a1a-4c5f-9bf6-5a69b82c9280')\"\n",
              "              title=\"Convert this dataframe to an interactive table.\"\n",
              "              style=\"display:none;\">\n",
              "        \n",
              "  <svg xmlns=\"http://www.w3.org/2000/svg\" height=\"24px\"viewBox=\"0 0 24 24\"\n",
              "       width=\"24px\">\n",
              "    <path d=\"M0 0h24v24H0V0z\" fill=\"none\"/>\n",
              "    <path d=\"M18.56 5.44l.94 2.06.94-2.06 2.06-.94-2.06-.94-.94-2.06-.94 2.06-2.06.94zm-11 1L8.5 8.5l.94-2.06 2.06-.94-2.06-.94L8.5 2.5l-.94 2.06-2.06.94zm10 10l.94 2.06.94-2.06 2.06-.94-2.06-.94-.94-2.06-.94 2.06-2.06.94z\"/><path d=\"M17.41 7.96l-1.37-1.37c-.4-.4-.92-.59-1.43-.59-.52 0-1.04.2-1.43.59L10.3 9.45l-7.72 7.72c-.78.78-.78 2.05 0 2.83L4 21.41c.39.39.9.59 1.41.59.51 0 1.02-.2 1.41-.59l7.78-7.78 2.81-2.81c.8-.78.8-2.07 0-2.86zM5.41 20L4 18.59l7.72-7.72 1.47 1.35L5.41 20z\"/>\n",
              "  </svg>\n",
              "      </button>\n",
              "      \n",
              "  <style>\n",
              "    .colab-df-container {\n",
              "      display:flex;\n",
              "      flex-wrap:wrap;\n",
              "      gap: 12px;\n",
              "    }\n",
              "\n",
              "    .colab-df-convert {\n",
              "      background-color: #E8F0FE;\n",
              "      border: none;\n",
              "      border-radius: 50%;\n",
              "      cursor: pointer;\n",
              "      display: none;\n",
              "      fill: #1967D2;\n",
              "      height: 32px;\n",
              "      padding: 0 0 0 0;\n",
              "      width: 32px;\n",
              "    }\n",
              "\n",
              "    .colab-df-convert:hover {\n",
              "      background-color: #E2EBFA;\n",
              "      box-shadow: 0px 1px 2px rgba(60, 64, 67, 0.3), 0px 1px 3px 1px rgba(60, 64, 67, 0.15);\n",
              "      fill: #174EA6;\n",
              "    }\n",
              "\n",
              "    [theme=dark] .colab-df-convert {\n",
              "      background-color: #3B4455;\n",
              "      fill: #D2E3FC;\n",
              "    }\n",
              "\n",
              "    [theme=dark] .colab-df-convert:hover {\n",
              "      background-color: #434B5C;\n",
              "      box-shadow: 0px 1px 3px 1px rgba(0, 0, 0, 0.15);\n",
              "      filter: drop-shadow(0px 1px 2px rgba(0, 0, 0, 0.3));\n",
              "      fill: #FFFFFF;\n",
              "    }\n",
              "  </style>\n",
              "\n",
              "      <script>\n",
              "        const buttonEl =\n",
              "          document.querySelector('#df-7a005e00-4a1a-4c5f-9bf6-5a69b82c9280 button.colab-df-convert');\n",
              "        buttonEl.style.display =\n",
              "          google.colab.kernel.accessAllowed ? 'block' : 'none';\n",
              "\n",
              "        async function convertToInteractive(key) {\n",
              "          const element = document.querySelector('#df-7a005e00-4a1a-4c5f-9bf6-5a69b82c9280');\n",
              "          const dataTable =\n",
              "            await google.colab.kernel.invokeFunction('convertToInteractive',\n",
              "                                                     [key], {});\n",
              "          if (!dataTable) return;\n",
              "\n",
              "          const docLinkHtml = 'Like what you see? Visit the ' +\n",
              "            '<a target=\"_blank\" href=https://colab.research.google.com/notebooks/data_table.ipynb>data table notebook</a>'\n",
              "            + ' to learn more about interactive tables.';\n",
              "          element.innerHTML = '';\n",
              "          dataTable['output_type'] = 'display_data';\n",
              "          await google.colab.output.renderOutput(dataTable, element);\n",
              "          const docLink = document.createElement('div');\n",
              "          docLink.innerHTML = docLinkHtml;\n",
              "          element.appendChild(docLink);\n",
              "        }\n",
              "      </script>\n",
              "    </div>\n",
              "  </div>\n",
              "  "
            ],
            "text/plain": [
              "      cap-shape  cap-surface  ...  population   habitat\n",
              "0      1.029712     0.140128  ...   -0.514389  2.030028\n",
              "1      1.029712     0.140128  ...   -1.313108 -0.295730\n",
              "2     -2.087047     0.140128  ...   -1.313108  0.867149\n",
              "3      1.029712     0.953270  ...   -0.514389  2.030028\n",
              "4      1.029712     0.140128  ...   -2.910546 -0.295730\n",
              "...         ...          ...  ...         ...       ...\n",
              "8119  -0.216992     0.140128  ...   -2.111827  0.285710\n",
              "8120   1.029712     0.140128  ...    0.284330  0.285710\n",
              "8121  -0.840343     0.140128  ...   -2.111827  0.285710\n",
              "8122  -0.216992     0.953270  ...    0.284330  0.285710\n",
              "8123   1.029712     0.140128  ...   -2.111827  0.285710\n",
              "\n",
              "[8124 rows x 21 columns]"
            ]
          },
          "metadata": {},
          "execution_count": 26
        }
      ]
    },
    {
      "cell_type": "code",
      "source": [
        "X_train,X_test,y_train,y_test=train_test_split(X, y, train_size=0.8)"
      ],
      "metadata": {
        "id": "K5_4U6Z6n8C4"
      },
      "execution_count": 28,
      "outputs": []
    },
    {
      "cell_type": "markdown",
      "source": [
        "#**Model Selection**"
      ],
      "metadata": {
        "id": "aEVnH7jxol5Q"
      }
    },
    {
      "cell_type": "markdown",
      "source": [
        "**Logistic Regression Classification**"
      ],
      "metadata": {
        "id": "UE9gGriJo-Qp"
      }
    },
    {
      "cell_type": "code",
      "source": [
        "from sklearn.linear_model import LogisticRegression\n",
        "lr = LogisticRegression(solver=\"lbfgs\", max_iter=500)\n",
        "lr.fit(X_train, y_train)\n",
        "print(\"Test Accuracy: {}%\".format(round(lr.score(X_test, y_test)*100,2)))"
      ],
      "metadata": {
        "colab": {
          "base_uri": "https://localhost:8080/"
        },
        "id": "FiZy2BFvo_va",
        "outputId": "6f984924-47e4-44fe-877b-3723004d47d9"
      },
      "execution_count": 29,
      "outputs": [
        {
          "output_type": "stream",
          "name": "stdout",
          "text": [
            "Test Accuracy: 95.02%\n"
          ]
        }
      ]
    },
    {
      "cell_type": "markdown",
      "source": [
        "**Classification report of Logistic Regression Classifier**"
      ],
      "metadata": {
        "id": "4NZ9St5Npjrv"
      }
    },
    {
      "cell_type": "code",
      "source": [
        "from sklearn.metrics import classification_report, confusion_matrix, precision_recall_curve, auc, roc_curve"
      ],
      "metadata": {
        "id": "9XNT-RXTp0V2"
      },
      "execution_count": 30,
      "outputs": []
    },
    {
      "cell_type": "code",
      "source": [
        "y_pred_lr = lr.predict(X_test)\n",
        "print(\"Logistic Regression Classifier report: \\n\\n\", classification_report(y_test, y_pred_lr))"
      ],
      "metadata": {
        "colab": {
          "base_uri": "https://localhost:8080/"
        },
        "id": "Zz9fLI5qo91G",
        "outputId": "febf153c-0bc9-43d9-d9f5-07f37009bf7f"
      },
      "execution_count": 31,
      "outputs": [
        {
          "output_type": "stream",
          "name": "stdout",
          "text": [
            "Logistic Regression Classifier report: \n",
            "\n",
            "               precision    recall  f1-score   support\n",
            "\n",
            "           0       0.95      0.96      0.95       853\n",
            "           1       0.95      0.94      0.95       772\n",
            "\n",
            "    accuracy                           0.95      1625\n",
            "   macro avg       0.95      0.95      0.95      1625\n",
            "weighted avg       0.95      0.95      0.95      1625\n",
            "\n"
          ]
        }
      ]
    },
    {
      "cell_type": "markdown",
      "source": [
        "**Confusion Matrix for Logistic Regression Classifier**"
      ],
      "metadata": {
        "id": "tqaYRyvkqApv"
      }
    },
    {
      "cell_type": "code",
      "source": [
        "cm = confusion_matrix(y_test, y_pred_lr)\n",
        "x_axis_labels = [\"Edible\", \"Poisonous\"]\n",
        "y_axis_labels = [\"Edible\", \"Poisonous\"]\n",
        "f, ax = plt.subplots(figsize =(10,10))\n",
        "sns.heatmap(cm, annot = True, linewidths=0.2, linecolor=\"black\", fmt = \".0f\", ax=ax, cmap=\"Purples\", xticklabels=x_axis_labels, yticklabels=y_axis_labels)\n",
        "plt.xlabel(\"PREDICTED LABEL\")\n",
        "plt.ylabel(\"TRUE LABEL\")\n",
        "plt.title('Confusion Matrix for Logistic Regression Classifier')\n",
        "\n",
        "plt.show()"
      ],
      "metadata": {
        "colab": {
          "base_uri": "https://localhost:8080/",
          "height": 621
        },
        "id": "dTyiduGmqCOf",
        "outputId": "879fbb6c-7730-4859-c55c-fb86e3e58f5c"
      },
      "execution_count": 32,
      "outputs": [
        {
          "output_type": "display_data",
          "data": {
            "image/png": "[encoded data removed]",
            "text/plain": [
              "<Figure size 720x720 with 2 Axes>"
            ]
          },
          "metadata": {
            "needs_background": "light"
          }
        }
      ]
    },
    {
      "cell_type": "markdown",
      "source": [
        "**KNN Classification**"
      ],
      "metadata": {
        "id": "jNlIBdPiqPov"
      }
    },
    {
      "cell_type": "code",
      "source": [
        "from sklearn.neighbors import KNeighborsClassifier"
      ],
      "metadata": {
        "id": "iXQHBmn_qQxI"
      },
      "execution_count": 33,
      "outputs": []
    },
    {
      "cell_type": "code",
      "source": [
        "best_Kvalue = 0\n",
        "best_score = 0\n",
        "for i in range(1,10):\n",
        "    knn = KNeighborsClassifier(n_neighbors=i)\n",
        "    knn.fit(X_train, y_train)\n",
        "    if knn.score(X_test, y_test) > best_score:\n",
        "        best_score = knn.score(X_train, y_train)\n",
        "        best_Kvalue = i\n",
        "        \n",
        "print(\"Best KNN Value: {}\".format(best_Kvalue))\n",
        "print(\"Test Accuracy: {}%\".format(round(best_score*100,2)))"
      ],
      "metadata": {
        "colab": {
          "base_uri": "https://localhost:8080/"
        },
        "id": "n6o1kzHCqUwY",
        "outputId": "6f04b185-323f-4fad-b330-e791bbd8d676"
      },
      "execution_count": 34,
      "outputs": [
        {
          "output_type": "stream",
          "name": "stdout",
          "text": [
            "Best KNN Value: 1\n",
            "Test Accuracy: 100.0%\n"
          ]
        }
      ]
    },
    {
      "cell_type": "markdown",
      "source": [
        "**Classification report of KNN Classifie**r"
      ],
      "metadata": {
        "id": "23aZwtQSqgiI"
      }
    },
    {
      "cell_type": "code",
      "source": [
        "y_pred_knn = knn.predict(X_test)\n",
        "print(\"KNN Classifier report: \\n\\n\", classification_report(y_test, y_pred_knn))"
      ],
      "metadata": {
        "colab": {
          "base_uri": "https://localhost:8080/"
        },
        "id": "1voQt7a_qhjQ",
        "outputId": "7ec90600-4435-400c-e794-e669f30ff78e"
      },
      "execution_count": 35,
      "outputs": [
        {
          "output_type": "stream",
          "name": "stdout",
          "text": [
            "KNN Classifier report: \n",
            "\n",
            "               precision    recall  f1-score   support\n",
            "\n",
            "           0       1.00      1.00      1.00       853\n",
            "           1       1.00      0.99      1.00       772\n",
            "\n",
            "    accuracy                           1.00      1625\n",
            "   macro avg       1.00      1.00      1.00      1625\n",
            "weighted avg       1.00      1.00      1.00      1625\n",
            "\n"
          ]
        }
      ]
    },
    {
      "cell_type": "markdown",
      "source": [
        "**Confusion Matrix for KNN Classifier**"
      ],
      "metadata": {
        "id": "905e7naxqmko"
      }
    },
    {
      "cell_type": "code",
      "source": [
        "cm = confusion_matrix(y_test, y_pred_knn)\n",
        "x_axis_labels = [\"Edible\", \"Poisonous\"]\n",
        "y_axis_labels = [\"Edible\", \"Poisonous\"]\n",
        "f, ax = plt.subplots(figsize =(10,10))\n",
        "sns.heatmap(cm, annot = True, linewidths=0.2, linecolor=\"black\", fmt = \".0f\", ax=ax, cmap=\"Purples\", xticklabels=x_axis_labels, yticklabels=y_axis_labels)\n",
        "plt.xlabel(\"PREDICTED LABEL\")\n",
        "plt.ylabel(\"TRUE LABEL\")\n",
        "plt.title('Confusion Matrix for KNN Classifier')\n",
        "\n",
        "plt.show()"
      ],
      "metadata": {
        "colab": {
          "base_uri": "https://localhost:8080/",
          "height": 621
        },
        "id": "cNSrmQkrqnmS",
        "outputId": "d2e9c282-e345-4419-a507-28ed6c6f029f"
      },
      "execution_count": 37,
      "outputs": [
        {
          "output_type": "display_data",
          "data": {
            "image/png": "[encoded data removed]",
            "text/plain": [
              "<Figure size 720x720 with 2 Axes>"
            ]
          },
          "metadata": {
            "needs_background": "light"
          }
        }
      ]
    },
    {
      "cell_type": "markdown",
      "source": [
        "**SVM Classification**"
      ],
      "metadata": {
        "id": "qZhXuQxjqzIz"
      }
    },
    {
      "cell_type": "code",
      "source": [
        "svm = SVC(random_state=42, gamma=\"auto\")\n",
        "svm.fit(X_train, y_train)\n",
        "print(\"Test Accuracy: {}%\".format(round(svm.score(X_test, y_test)*100, 2)))"
      ],
      "metadata": {
        "colab": {
          "base_uri": "https://localhost:8080/"
        },
        "id": "F4g0aArmqyr6",
        "outputId": "d42f0a87-9f7a-45a5-c5f6-2a1a9dbfd92e"
      },
      "execution_count": 38,
      "outputs": [
        {
          "output_type": "stream",
          "name": "stdout",
          "text": [
            "Test Accuracy: 100.0%\n"
          ]
        }
      ]
    },
    {
      "cell_type": "markdown",
      "source": [
        "**Classification report of SVM Classifier**"
      ],
      "metadata": {
        "id": "PHRVLKfSq55Q"
      }
    },
    {
      "cell_type": "code",
      "source": [
        "y_pred_svm = svm.predict(X_test)\n",
        "print(\"SVM Classifier report: \\n\\n\", classification_report(y_test, y_pred_svm))"
      ],
      "metadata": {
        "colab": {
          "base_uri": "https://localhost:8080/"
        },
        "id": "M5c2SMUpq5mX",
        "outputId": "cf888132-d4bb-4862-ada5-712c75349cbe"
      },
      "execution_count": 39,
      "outputs": [
        {
          "output_type": "stream",
          "name": "stdout",
          "text": [
            "SVM Classifier report: \n",
            "\n",
            "               precision    recall  f1-score   support\n",
            "\n",
            "           0       1.00      1.00      1.00       853\n",
            "           1       1.00      1.00      1.00       772\n",
            "\n",
            "    accuracy                           1.00      1625\n",
            "   macro avg       1.00      1.00      1.00      1625\n",
            "weighted avg       1.00      1.00      1.00      1625\n",
            "\n"
          ]
        }
      ]
    },
    {
      "cell_type": "markdown",
      "source": [
        "**Confusion Matrix for SVM Clas**sifier"
      ],
      "metadata": {
        "id": "kVxTQEzHq_8X"
      }
    },
    {
      "cell_type": "code",
      "source": [
        "cm = confusion_matrix(y_test, y_pred_svm)\n",
        "x_axis_labels = [\"Edible\", \"Poisonous\"]\n",
        "y_axis_labels = [\"Edible\", \"Poisonous\"]\n",
        "f, ax = plt.subplots(figsize =(10,10))\n",
        "sns.heatmap(cm, annot = True, linewidths=0.2, linecolor=\"black\", fmt = \".0f\", ax=ax, cmap=\"Purples\", xticklabels=x_axis_labels, yticklabels=y_axis_labels)\n",
        "plt.xlabel(\"PREDICTED LABEL\")\n",
        "plt.ylabel(\"TRUE LABEL\")\n",
        "plt.title('Confusion Matrix for SVM Classifier')\n",
        "\n",
        "plt.show()"
      ],
      "metadata": {
        "colab": {
          "base_uri": "https://localhost:8080/",
          "height": 621
        },
        "id": "htR18B0jrBAR",
        "outputId": "b0a67c8a-1083-434a-f188-507663c8838d"
      },
      "execution_count": 40,
      "outputs": [
        {
          "output_type": "display_data",
          "data": {
            "image/png": "[encoded data removed]",
            "text/plain": [
              "<Figure size 720x720 with 2 Axes>"
            ]
          },
          "metadata": {
            "needs_background": "light"
          }
        }
      ]
    },
    {
      "cell_type": "markdown",
      "source": [
        "**Naive Bayes Classification**"
      ],
      "metadata": {
        "id": "VnAf7f-XrLLG"
      }
    },
    {
      "cell_type": "code",
      "source": [
        "from sklearn.naive_bayes import GaussianNB"
      ],
      "metadata": {
        "id": "0LFuMgUIrQLF"
      },
      "execution_count": 41,
      "outputs": []
    },
    {
      "cell_type": "code",
      "source": [
        "nb = GaussianNB()\n",
        "nb.fit(X_train, y_train)\n",
        "print(\"Test Accuracy: {}%\".format(round(nb.score(X_test, y_test)*100, 2)))"
      ],
      "metadata": {
        "colab": {
          "base_uri": "https://localhost:8080/"
        },
        "id": "ircfz0cyrM_b",
        "outputId": "0fb4cc19-e772-4abc-8464-caec7c199cac"
      },
      "execution_count": 42,
      "outputs": [
        {
          "output_type": "stream",
          "name": "stdout",
          "text": [
            "Test Accuracy: 91.63%\n"
          ]
        }
      ]
    },
    {
      "cell_type": "markdown",
      "source": [
        "**Classification report of Naive Bayes Class**ifier"
      ],
      "metadata": {
        "id": "xveKc2rCrW8u"
      }
    },
    {
      "cell_type": "code",
      "source": [
        "y_pred_nb = nb.predict(X_test)\n",
        "print(\"Naive Bayes Classifier report: \\n\\n\", classification_report(y_test, y_pred_nb))"
      ],
      "metadata": {
        "colab": {
          "base_uri": "https://localhost:8080/"
        },
        "id": "yD4jDVvYrYFf",
        "outputId": "379e466b-10fe-4b8d-e3e7-2f91930634b6"
      },
      "execution_count": 43,
      "outputs": [
        {
          "output_type": "stream",
          "name": "stdout",
          "text": [
            "Naive Bayes Classifier report: \n",
            "\n",
            "               precision    recall  f1-score   support\n",
            "\n",
            "           0       0.92      0.92      0.92       853\n",
            "           1       0.91      0.91      0.91       772\n",
            "\n",
            "    accuracy                           0.92      1625\n",
            "   macro avg       0.92      0.92      0.92      1625\n",
            "weighted avg       0.92      0.92      0.92      1625\n",
            "\n"
          ]
        }
      ]
    },
    {
      "cell_type": "markdown",
      "source": [
        "**Confusion Matrix for Naive Bayes Classifier**"
      ],
      "metadata": {
        "id": "0FGf3Rwyrdh_"
      }
    },
    {
      "cell_type": "code",
      "source": [
        "cm = confusion_matrix(y_test, y_pred_nb)\n",
        "x_axis_labels = [\"Edible\", \"Poisonous\"]\n",
        "y_axis_labels = [\"Edible\", \"Poisonous\"]\n",
        "f, ax = plt.subplots(figsize =(10,10))\n",
        "sns.heatmap(cm, annot = True, linewidths=0.2, linecolor=\"black\", fmt = \".0f\", ax=ax, cmap=\"Purples\", xticklabels=x_axis_labels, yticklabels=y_axis_labels)\n",
        "plt.xlabel(\"PREDICTED LABEL\")\n",
        "plt.ylabel(\"TRUE LABEL\")\n",
        "plt.title('Confusion Matrix for Naive Bayes Classifier')\n",
        "plt.show()"
      ],
      "metadata": {
        "colab": {
          "base_uri": "https://localhost:8080/",
          "height": 621
        },
        "id": "PpMSf1u5reW_",
        "outputId": "38b424e3-6e60-435a-bac3-0584956d2068"
      },
      "execution_count": 44,
      "outputs": [
        {
          "output_type": "display_data",
          "data": {
            "image/png": "[encoded data removed]",
            "text/plain": [
              "<Figure size 720x720 with 2 Axes>"
            ]
          },
          "metadata": {
            "needs_background": "light"
          }
        }
      ]
    },
    {
      "cell_type": "markdown",
      "source": [
        "#**Predictions**\n",
        "\n",
        "Predicting some of the X_test results and matching it with true i.e. y_test values using Naive Bayes Classifier."
      ],
      "metadata": {
        "id": "cK9jJxNirps3"
      }
    },
    {
      "cell_type": "code",
      "source": [
        "preds = nb.predict(X_test)\n",
        "print(preds[:36])\n",
        "print(y_test[:36].values)\n",
        "# 0 - Edible\n",
        "# 1 - Poisonous"
      ],
      "metadata": {
        "colab": {
          "base_uri": "https://localhost:8080/"
        },
        "id": "wYBrIUS3rreA",
        "outputId": "bea7e0cf-402f-414b-eec3-825d24535c28"
      },
      "execution_count": 45,
      "outputs": [
        {
          "output_type": "stream",
          "name": "stdout",
          "text": [
            "[1 0 0 1 1 1 1 0 1 0 1 1 0 1 1 0 1 0 1 1 1 0 1 0 0 1 0 1 1 0 1 0 1 1 0 0]\n",
            "[1 0 0 0 0 1 1 0 1 0 1 1 0 0 1 0 1 0 1 1 1 0 1 0 0 0 0 1 1 0 1 0 1 1 0 0]\n"
          ]
        }
      ]
    },
    {
      "cell_type": "markdown",
      "source": [
        "#**Visualization**"
      ],
      "metadata": {
        "id": "3y8D3rkYs6Fw"
      }
    },
    {
      "cell_type": "code",
      "source": [
        "X_test.shape"
      ],
      "metadata": {
        "colab": {
          "base_uri": "https://localhost:8080/"
        },
        "id": "rnJxV6Yjs78h",
        "outputId": "94a040e1-65c9-4758-fda9-85e01ceb8035"
      },
      "execution_count": 46,
      "outputs": [
        {
          "output_type": "execute_result",
          "data": {
            "text/plain": [
              "(1625, 21)"
            ]
          },
          "metadata": {},
          "execution_count": 46
        }
      ]
    },
    {
      "cell_type": "code",
      "source": [
        "corr = df.corr()\n",
        "\n",
        "sns.heatmap(corr)"
      ],
      "metadata": {
        "colab": {
          "base_uri": "https://localhost:8080/",
          "height": 398
        },
        "id": "rIhqsUE2tBo5",
        "outputId": "b291c480-bad2-4308-8b12-14be76ee9382"
      },
      "execution_count": 48,
      "outputs": [
        {
          "output_type": "execute_result",
          "data": {
            "text/plain": [
              "<matplotlib.axes._subplots.AxesSubplot at 0x7fb1c66053d0>"
            ]
          },
          "metadata": {},
          "execution_count": 48
        },
        {
          "output_type": "display_data",
          "data": {
            "image/png": "[encoded data removed]",
            "text/plain": [
              "<Figure size 432x288 with 2 Axes>"
            ]
          },
          "metadata": {
            "needs_background": "light"
          }
        }
      ]
    },
    {
      "cell_type": "markdown",
      "source": [
        "#**Conclusion**\n",
        "\n",
        "we saw that our train and test data is balanced.\n",
        "All the classification methods hit more than 90% accuracy among that SVM & KNN shows 100% accuracy with this dataset.\n"
      ],
      "metadata": {
        "id": "RfjDhM9Rt_ZI"
      }
    },
    {
      "cell_type": "code",
      "source": [
        ""
      ],
      "metadata": {
        "id": "m0sc19U2t_Dw"
      },
      "execution_count": null,
      "outputs": []
    }
  ],
  "metadata": {
    "accelerator": "GPU",
    "colab": {
      "name": "Mushroom.ipynb",
      "provenance": []
    },
    "kernelspec": {
      "display_name": "Python 3",
      "name": "python3"
    },
    "language_info": {
      "name": "python"
    }
  },
  "nbformat": 4,
  "nbformat_minor": 0
}