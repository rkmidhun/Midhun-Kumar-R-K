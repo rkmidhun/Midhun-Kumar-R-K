{
  "cells": [
    {
      "cell_type": "markdown",
      "metadata": {
        "id": "CFUqCfWEY0jT"
      },
      "source": [
        "#**Importing the python libraries and packages**"
      ]
    },
    {
      "cell_type": "code",
      "execution_count": 7,
      "metadata": {
        "id": "zt5Q1ZS6Vil3"
      },
      "outputs": [],
      "source": [
        "import pandas as pd\n",
        "import numpy as  np\n",
        "import matplotlib.pyplot as plt\n",
        "import seaborn as sns\n",
        "import warnings\n",
        "warnings.filterwarnings('ignore')\n",
        "\n",
        "from sklearn.preprocessing import LabelEncoder\n",
        "from sklearn.preprocessing import StandardScaler\n",
        "from sklearn.model_selection import train_test_split\n",
        "from sklearn.linear_model import LogisticRegression\n",
        "from sklearn.svm import SVC\n",
        "from sklearn.neural_network import MLPClassifier\n"
      ]
    },
    {
      "cell_type": "markdown",
      "metadata": {
        "id": "rS6UKBjCY55S"
      },
      "source": [
        "##**Adding dataset from google drive**"
      ]
    },
    {
      "cell_type": "code",
      "execution_count": 2,
      "metadata": {
        "id": "A3SxOFanWCu6",
        "colab": {
          "base_uri": "https://localhost:8080/"
        },
        "outputId": "59f989b9-5b1f-4009-c1fa-e2d6be2c3c71"
      },
      "outputs": [
        {
          "output_type": "stream",
          "name": "stdout",
          "text": [
            "Mounted at /content/drive\n"
          ]
        }
      ],
      "source": [
        "from google.colab import drive\n",
        "drive.mount('/content/drive')\n"
      ]
    },
    {
      "cell_type": "markdown",
      "source": [
        "##**Reading the dataset and stored to DataFrame**"
      ],
      "metadata": {
        "id": "GihjmI7tdElq"
      }
    },
    {
      "cell_type": "code",
      "execution_count": 3,
      "metadata": {
        "id": "XyhZ0mDJWvaK"
      },
      "outputs": [],
      "source": [
        "data=pd.read_csv('/content/drive/MyDrive/mushrooms.csv')"
      ]
    },
    {
      "cell_type": "markdown",
      "source": [
        "#**Examining the Data**\n",
        "\n",
        "#####After importing the data, to learn more about the dataset, we’ll use .head() .info() and .describe() methods."
      ],
      "metadata": {
        "id": "-YN4_8b2dbA4"
      }
    },
    {
      "cell_type": "markdown",
      "source": [
        "The **.head()** method will give you the first 5 rows of the dataset. Here is the output:"
      ],
      "metadata": {
        "id": "wue1iU38dxpx"
      }
    },
    {
      "cell_type": "code",
      "source": [
        "data.head(5)"
      ],
      "metadata": {
        "colab": {
          "base_uri": "https://localhost:8080/",
          "height": 322
        },
        "id": "U2voRsUXdjyY",
        "outputId": "fddb75b0-26ca-4e03-965a-c039bfa4f5cf"
      },
      "execution_count": 8,
      "outputs": [
        {
          "output_type": "execute_result",
          "data": {
            "text/html": [
              "\n",
              "  <div id=\"df-981c4ec1-e0ff-4a17-b593-65bc668df07f\">\n",
              "    <div class=\"colab-df-container\">\n",
              "      <div>\n",
              "<style scoped>\n",
              "    .dataframe tbody tr th:only-of-type {\n",
              "        vertical-align: middle;\n",
              "    }\n",
              "\n",
              "    .dataframe tbody tr th {\n",
              "        vertical-align: top;\n",
              "    }\n",
              "\n",
              "    .dataframe thead th {\n",
              "        text-align: right;\n",
              "    }\n",
              "</style>\n",
              "<table border=\"1\" class=\"dataframe\">\n",
              "  <thead>\n",
              "    <tr style=\"text-align: right;\">\n",
              "      <th></th>\n",
              "      <th>class</th>\n",
              "      <th>cap-shape</th>\n",
              "      <th>cap-surface</th>\n",
              "      <th>cap-color</th>\n",
              "      <th>bruises</th>\n",
              "      <th>odor</th>\n",
              "      <th>gill-attachment</th>\n",
              "      <th>gill-spacing</th>\n",
              "      <th>gill-size</th>\n",
              "      <th>gill-color</th>\n",
              "      <th>stalk-shape</th>\n",
              "      <th>stalk-root</th>\n",
              "      <th>stalk-surface-above-ring</th>\n",
              "      <th>stalk-surface-below-ring</th>\n",
              "      <th>stalk-color-above-ring</th>\n",
              "      <th>stalk-color-below-ring</th>\n",
              "      <th>veil-type</th>\n",
              "      <th>veil-color</th>\n",
              "      <th>ring-number</th>\n",
              "      <th>ring-type</th>\n",
              "      <th>spore-print-color</th>\n",
              "      <th>population</th>\n",
              "      <th>habitat</th>\n",
              "    </tr>\n",
              "  </thead>\n",
              "  <tbody>\n",
              "    <tr>\n",
              "      <th>0</th>\n",
              "      <td>p</td>\n",
              "      <td>x</td>\n",
              "      <td>s</td>\n",
              "      <td>n</td>\n",
              "      <td>t</td>\n",
              "      <td>p</td>\n",
              "      <td>f</td>\n",
              "      <td>c</td>\n",
              "      <td>n</td>\n",
              "      <td>k</td>\n",
              "      <td>e</td>\n",
              "      <td>e</td>\n",
              "      <td>s</td>\n",
              "      <td>s</td>\n",
              "      <td>w</td>\n",
              "      <td>w</td>\n",
              "      <td>p</td>\n",
              "      <td>w</td>\n",
              "      <td>o</td>\n",
              "      <td>p</td>\n",
              "      <td>k</td>\n",
              "      <td>s</td>\n",
              "      <td>u</td>\n",
              "    </tr>\n",
              "    <tr>\n",
              "      <th>1</th>\n",
              "      <td>e</td>\n",
              "      <td>x</td>\n",
              "      <td>s</td>\n",
              "      <td>y</td>\n",
              "      <td>t</td>\n",
              "      <td>a</td>\n",
              "      <td>f</td>\n",
              "      <td>c</td>\n",
              "      <td>b</td>\n",
              "      <td>k</td>\n",
              "      <td>e</td>\n",
              "      <td>c</td>\n",
              "      <td>s</td>\n",
              "      <td>s</td>\n",
              "      <td>w</td>\n",
              "      <td>w</td>\n",
              "      <td>p</td>\n",
              "      <td>w</td>\n",
              "      <td>o</td>\n",
              "      <td>p</td>\n",
              "      <td>n</td>\n",
              "      <td>n</td>\n",
              "      <td>g</td>\n",
              "    </tr>\n",
              "    <tr>\n",
              "      <th>2</th>\n",
              "      <td>e</td>\n",
              "      <td>b</td>\n",
              "      <td>s</td>\n",
              "      <td>w</td>\n",
              "      <td>t</td>\n",
              "      <td>l</td>\n",
              "      <td>f</td>\n",
              "      <td>c</td>\n",
              "      <td>b</td>\n",
              "      <td>n</td>\n",
              "      <td>e</td>\n",
              "      <td>c</td>\n",
              "      <td>s</td>\n",
              "      <td>s</td>\n",
              "      <td>w</td>\n",
              "      <td>w</td>\n",
              "      <td>p</td>\n",
              "      <td>w</td>\n",
              "      <td>o</td>\n",
              "      <td>p</td>\n",
              "      <td>n</td>\n",
              "      <td>n</td>\n",
              "      <td>m</td>\n",
              "    </tr>\n",
              "    <tr>\n",
              "      <th>3</th>\n",
              "      <td>p</td>\n",
              "      <td>x</td>\n",
              "      <td>y</td>\n",
              "      <td>w</td>\n",
              "      <td>t</td>\n",
              "      <td>p</td>\n",
              "      <td>f</td>\n",
              "      <td>c</td>\n",
              "      <td>n</td>\n",
              "      <td>n</td>\n",
              "      <td>e</td>\n",
              "      <td>e</td>\n",
              "      <td>s</td>\n",
              "      <td>s</td>\n",
              "      <td>w</td>\n",
              "      <td>w</td>\n",
              "      <td>p</td>\n",
              "      <td>w</td>\n",
              "      <td>o</td>\n",
              "      <td>p</td>\n",
              "      <td>k</td>\n",
              "      <td>s</td>\n",
              "      <td>u</td>\n",
              "    </tr>\n",
              "    <tr>\n",
              "      <th>4</th>\n",
              "      <td>e</td>\n",
              "      <td>x</td>\n",
              "      <td>s</td>\n",
              "      <td>g</td>\n",
              "      <td>f</td>\n",
              "      <td>n</td>\n",
              "      <td>f</td>\n",
              "      <td>w</td>\n",
              "      <td>b</td>\n",
              "      <td>k</td>\n",
              "      <td>t</td>\n",
              "      <td>e</td>\n",
              "      <td>s</td>\n",
              "      <td>s</td>\n",
              "      <td>w</td>\n",
              "      <td>w</td>\n",
              "      <td>p</td>\n",
              "      <td>w</td>\n",
              "      <td>o</td>\n",
              "      <td>e</td>\n",
              "      <td>n</td>\n",
              "      <td>a</td>\n",
              "      <td>g</td>\n",
              "    </tr>\n",
              "  </tbody>\n",
              "</table>\n",
              "</div>\n",
              "      <button class=\"colab-df-convert\" onclick=\"convertToInteractive('df-981c4ec1-e0ff-4a17-b593-65bc668df07f')\"\n",
              "              title=\"Convert this dataframe to an interactive table.\"\n",
              "              style=\"display:none;\">\n",
              "        \n",
              "  <svg xmlns=\"http://www.w3.org/2000/svg\" height=\"24px\"viewBox=\"0 0 24 24\"\n",
              "       width=\"24px\">\n",
              "    <path d=\"M0 0h24v24H0V0z\" fill=\"none\"/>\n",
              "    <path d=\"M18.56 5.44l.94 2.06.94-2.06 2.06-.94-2.06-.94-.94-2.06-.94 2.06-2.06.94zm-11 1L8.5 8.5l.94-2.06 2.06-.94-2.06-.94L8.5 2.5l-.94 2.06-2.06.94zm10 10l.94 2.06.94-2.06 2.06-.94-2.06-.94-.94-2.06-.94 2.06-2.06.94z\"/><path d=\"M17.41 7.96l-1.37-1.37c-.4-.4-.92-.59-1.43-.59-.52 0-1.04.2-1.43.59L10.3 9.45l-7.72 7.72c-.78.78-.78 2.05 0 2.83L4 21.41c.39.39.9.59 1.41.59.51 0 1.02-.2 1.41-.59l7.78-7.78 2.81-2.81c.8-.78.8-2.07 0-2.86zM5.41 20L4 18.59l7.72-7.72 1.47 1.35L5.41 20z\"/>\n",
              "  </svg>\n",
              "      </button>\n",
              "      \n",
              "  <style>\n",
              "    .colab-df-container {\n",
              "      display:flex;\n",
              "      flex-wrap:wrap;\n",
              "      gap: 12px;\n",
              "    }\n",
              "\n",
              "    .colab-df-convert {\n",
              "      background-color: #E8F0FE;\n",
              "      border: none;\n",
              "      border-radius: 50%;\n",
              "      cursor: pointer;\n",
              "      display: none;\n",
              "      fill: #1967D2;\n",
              "      height: 32px;\n",
              "      padding: 0 0 0 0;\n",
              "      width: 32px;\n",
              "    }\n",
              "\n",
              "    .colab-df-convert:hover {\n",
              "      background-color: #E2EBFA;\n",
              "      box-shadow: 0px 1px 2px rgba(60, 64, 67, 0.3), 0px 1px 3px 1px rgba(60, 64, 67, 0.15);\n",
              "      fill: #174EA6;\n",
              "    }\n",
              "\n",
              "    [theme=dark] .colab-df-convert {\n",
              "      background-color: #3B4455;\n",
              "      fill: #D2E3FC;\n",
              "    }\n",
              "\n",
              "    [theme=dark] .colab-df-convert:hover {\n",
              "      background-color: #434B5C;\n",
              "      box-shadow: 0px 1px 3px 1px rgba(0, 0, 0, 0.15);\n",
              "      filter: drop-shadow(0px 1px 2px rgba(0, 0, 0, 0.3));\n",
              "      fill: #FFFFFF;\n",
              "    }\n",
              "  </style>\n",
              "\n",
              "      <script>\n",
              "        const buttonEl =\n",
              "          document.querySelector('#df-981c4ec1-e0ff-4a17-b593-65bc668df07f button.colab-df-convert');\n",
              "        buttonEl.style.display =\n",
              "          google.colab.kernel.accessAllowed ? 'block' : 'none';\n",
              "\n",
              "        async function convertToInteractive(key) {\n",
              "          const element = document.querySelector('#df-981c4ec1-e0ff-4a17-b593-65bc668df07f');\n",
              "          const dataTable =\n",
              "            await google.colab.kernel.invokeFunction('convertToInteractive',\n",
              "                                                     [key], {});\n",
              "          if (!dataTable) return;\n",
              "\n",
              "          const docLinkHtml = 'Like what you see? Visit the ' +\n",
              "            '<a target=\"_blank\" href=https://colab.research.google.com/notebooks/data_table.ipynb>data table notebook</a>'\n",
              "            + ' to learn more about interactive tables.';\n",
              "          element.innerHTML = '';\n",
              "          dataTable['output_type'] = 'display_data';\n",
              "          await google.colab.output.renderOutput(dataTable, element);\n",
              "          const docLink = document.createElement('div');\n",
              "          docLink.innerHTML = docLinkHtml;\n",
              "          element.appendChild(docLink);\n",
              "        }\n",
              "      </script>\n",
              "    </div>\n",
              "  </div>\n",
              "  "
            ],
            "text/plain": [
              "  class cap-shape cap-surface  ... spore-print-color population habitat\n",
              "0     p         x           s  ...                 k          s       u\n",
              "1     e         x           s  ...                 n          n       g\n",
              "2     e         b           s  ...                 n          n       m\n",
              "3     p         x           y  ...                 k          s       u\n",
              "4     e         x           s  ...                 n          a       g\n",
              "\n",
              "[5 rows x 23 columns]"
            ]
          },
          "metadata": {},
          "execution_count": 8
        }
      ]
    },
    {
      "cell_type": "markdown",
      "source": [
        "The **.info()** method will give you a concise summary of the DataFrame. This method will print the information about the DataFrame including the index dtype and column dtypes, non-null values, and memory usage. Here is the output:"
      ],
      "metadata": {
        "id": "OYdswyngd5di"
      }
    },
    {
      "cell_type": "code",
      "execution_count": null,
      "metadata": {
        "colab": {
          "base_uri": "https://localhost:8080/"
        },
        "id": "yYo_tzYRXEv9",
        "outputId": "b6b03c39-dac8-46e9-b5f0-8955521d076a"
      },
      "outputs": [
        {
          "name": "stdout",
          "output_type": "stream",
          "text": [
            "<class 'pandas.core.frame.DataFrame'>\n",
            "RangeIndex: 8124 entries, 0 to 8123\n",
            "Data columns (total 23 columns):\n",
            " #   Column                    Non-Null Count  Dtype \n",
            "---  ------                    --------------  ----- \n",
            " 0   class                     8124 non-null   object\n",
            " 1   cap-shape                 8124 non-null   object\n",
            " 2   cap-surface               8124 non-null   object\n",
            " 3   cap-color                 8124 non-null   object\n",
            " 4   bruises                   8124 non-null   object\n",
            " 5   odor                      8124 non-null   object\n",
            " 6   gill-attachment           8124 non-null   object\n",
            " 7   gill-spacing              8124 non-null   object\n",
            " 8   gill-size                 8124 non-null   object\n",
            " 9   gill-color                8124 non-null   object\n",
            " 10  stalk-shape               8124 non-null   object\n",
            " 11  stalk-root                8124 non-null   object\n",
            " 12  stalk-surface-above-ring  8124 non-null   object\n",
            " 13  stalk-surface-below-ring  8124 non-null   object\n",
            " 14  stalk-color-above-ring    8124 non-null   object\n",
            " 15  stalk-color-below-ring    8124 non-null   object\n",
            " 16  veil-type                 8124 non-null   object\n",
            " 17  veil-color                8124 non-null   object\n",
            " 18  ring-number               8124 non-null   object\n",
            " 19  ring-type                 8124 non-null   object\n",
            " 20  spore-print-color         8124 non-null   object\n",
            " 21  population                8124 non-null   object\n",
            " 22  habitat                   8124 non-null   object\n",
            "dtypes: object(23)\n",
            "memory usage: 1.4+ MB\n"
          ]
        }
      ],
      "source": [
        "data.info()"
      ]
    },
    {
      "cell_type": "markdown",
      "source": [
        "#**Descriptive Statistics**"
      ],
      "metadata": {
        "id": "093qDsJpeGdR"
      }
    },
    {
      "cell_type": "markdown",
      "source": [
        "The **.describe()** method will give you the statistics of the columns.\n",
        "\n",
        "count shows the number of responses.\n",
        "\n",
        "unique shows the number of unique categorical values.\n",
        "\n",
        "top shows the highest-occurring categorical value.\n",
        "\n",
        "freq shows the frequency/count of the highest-occurring categorical value.\n",
        "\n",
        "Here is the output:"
      ],
      "metadata": {
        "id": "XN8JpDqKeNhZ"
      }
    },
    {
      "cell_type": "code",
      "source": [
        "data.describe()"
      ],
      "metadata": {
        "colab": {
          "base_uri": "https://localhost:8080/",
          "height": 291
        },
        "id": "KGsimErQeJYo",
        "outputId": "66f31bad-4441-4314-982b-55b674f5011d"
      },
      "execution_count": 9,
      "outputs": [
        {
          "output_type": "execute_result",
          "data": {
            "text/html": [
              "\n",
              "  <div id=\"df-19f93dcc-20f5-4ad9-ab8d-be02e32858b7\">\n",
              "    <div class=\"colab-df-container\">\n",
              "      <div>\n",
              "<style scoped>\n",
              "    .dataframe tbody tr th:only-of-type {\n",
              "        vertical-align: middle;\n",
              "    }\n",
              "\n",
              "    .dataframe tbody tr th {\n",
              "        vertical-align: top;\n",
              "    }\n",
              "\n",
              "    .dataframe thead th {\n",
              "        text-align: right;\n",
              "    }\n",
              "</style>\n",
              "<table border=\"1\" class=\"dataframe\">\n",
              "  <thead>\n",
              "    <tr style=\"text-align: right;\">\n",
              "      <th></th>\n",
              "      <th>class</th>\n",
              "      <th>cap-shape</th>\n",
              "      <th>cap-surface</th>\n",
              "      <th>cap-color</th>\n",
              "      <th>bruises</th>\n",
              "      <th>odor</th>\n",
              "      <th>gill-attachment</th>\n",
              "      <th>gill-spacing</th>\n",
              "      <th>gill-size</th>\n",
              "      <th>gill-color</th>\n",
              "      <th>stalk-shape</th>\n",
              "      <th>stalk-root</th>\n",
              "      <th>stalk-surface-above-ring</th>\n",
              "      <th>stalk-surface-below-ring</th>\n",
              "      <th>stalk-color-above-ring</th>\n",
              "      <th>stalk-color-below-ring</th>\n",
              "      <th>veil-type</th>\n",
              "      <th>veil-color</th>\n",
              "      <th>ring-number</th>\n",
              "      <th>ring-type</th>\n",
              "      <th>spore-print-color</th>\n",
              "      <th>population</th>\n",
              "      <th>habitat</th>\n",
              "    </tr>\n",
              "  </thead>\n",
              "  <tbody>\n",
              "    <tr>\n",
              "      <th>count</th>\n",
              "      <td>8124</td>\n",
              "      <td>8124</td>\n",
              "      <td>8124</td>\n",
              "      <td>8124</td>\n",
              "      <td>8124</td>\n",
              "      <td>8124</td>\n",
              "      <td>8124</td>\n",
              "      <td>8124</td>\n",
              "      <td>8124</td>\n",
              "      <td>8124</td>\n",
              "      <td>8124</td>\n",
              "      <td>8124</td>\n",
              "      <td>8124</td>\n",
              "      <td>8124</td>\n",
              "      <td>8124</td>\n",
              "      <td>8124</td>\n",
              "      <td>8124</td>\n",
              "      <td>8124</td>\n",
              "      <td>8124</td>\n",
              "      <td>8124</td>\n",
              "      <td>8124</td>\n",
              "      <td>8124</td>\n",
              "      <td>8124</td>\n",
              "    </tr>\n",
              "    <tr>\n",
              "      <th>unique</th>\n",
              "      <td>2</td>\n",
              "      <td>6</td>\n",
              "      <td>4</td>\n",
              "      <td>10</td>\n",
              "      <td>2</td>\n",
              "      <td>9</td>\n",
              "      <td>2</td>\n",
              "      <td>2</td>\n",
              "      <td>2</td>\n",
              "      <td>12</td>\n",
              "      <td>2</td>\n",
              "      <td>5</td>\n",
              "      <td>4</td>\n",
              "      <td>4</td>\n",
              "      <td>9</td>\n",
              "      <td>9</td>\n",
              "      <td>1</td>\n",
              "      <td>4</td>\n",
              "      <td>3</td>\n",
              "      <td>5</td>\n",
              "      <td>9</td>\n",
              "      <td>6</td>\n",
              "      <td>7</td>\n",
              "    </tr>\n",
              "    <tr>\n",
              "      <th>top</th>\n",
              "      <td>e</td>\n",
              "      <td>x</td>\n",
              "      <td>y</td>\n",
              "      <td>n</td>\n",
              "      <td>f</td>\n",
              "      <td>n</td>\n",
              "      <td>f</td>\n",
              "      <td>c</td>\n",
              "      <td>b</td>\n",
              "      <td>b</td>\n",
              "      <td>t</td>\n",
              "      <td>b</td>\n",
              "      <td>s</td>\n",
              "      <td>s</td>\n",
              "      <td>w</td>\n",
              "      <td>w</td>\n",
              "      <td>p</td>\n",
              "      <td>w</td>\n",
              "      <td>o</td>\n",
              "      <td>p</td>\n",
              "      <td>w</td>\n",
              "      <td>v</td>\n",
              "      <td>d</td>\n",
              "    </tr>\n",
              "    <tr>\n",
              "      <th>freq</th>\n",
              "      <td>4208</td>\n",
              "      <td>3656</td>\n",
              "      <td>3244</td>\n",
              "      <td>2284</td>\n",
              "      <td>4748</td>\n",
              "      <td>3528</td>\n",
              "      <td>7914</td>\n",
              "      <td>6812</td>\n",
              "      <td>5612</td>\n",
              "      <td>1728</td>\n",
              "      <td>4608</td>\n",
              "      <td>3776</td>\n",
              "      <td>5176</td>\n",
              "      <td>4936</td>\n",
              "      <td>4464</td>\n",
              "      <td>4384</td>\n",
              "      <td>8124</td>\n",
              "      <td>7924</td>\n",
              "      <td>7488</td>\n",
              "      <td>3968</td>\n",
              "      <td>2388</td>\n",
              "      <td>4040</td>\n",
              "      <td>3148</td>\n",
              "    </tr>\n",
              "  </tbody>\n",
              "</table>\n",
              "</div>\n",
              "      <button class=\"colab-df-convert\" onclick=\"convertToInteractive('df-19f93dcc-20f5-4ad9-ab8d-be02e32858b7')\"\n",
              "              title=\"Convert this dataframe to an interactive table.\"\n",
              "              style=\"display:none;\">\n",
              "        \n",
              "  <svg xmlns=\"http://www.w3.org/2000/svg\" height=\"24px\"viewBox=\"0 0 24 24\"\n",
              "       width=\"24px\">\n",
              "    <path d=\"M0 0h24v24H0V0z\" fill=\"none\"/>\n",
              "    <path d=\"M18.56 5.44l.94 2.06.94-2.06 2.06-.94-2.06-.94-.94-2.06-.94 2.06-2.06.94zm-11 1L8.5 8.5l.94-2.06 2.06-.94-2.06-.94L8.5 2.5l-.94 2.06-2.06.94zm10 10l.94 2.06.94-2.06 2.06-.94-2.06-.94-.94-2.06-.94 2.06-2.06.94z\"/><path d=\"M17.41 7.96l-1.37-1.37c-.4-.4-.92-.59-1.43-.59-.52 0-1.04.2-1.43.59L10.3 9.45l-7.72 7.72c-.78.78-.78 2.05 0 2.83L4 21.41c.39.39.9.59 1.41.59.51 0 1.02-.2 1.41-.59l7.78-7.78 2.81-2.81c.8-.78.8-2.07 0-2.86zM5.41 20L4 18.59l7.72-7.72 1.47 1.35L5.41 20z\"/>\n",
              "  </svg>\n",
              "      </button>\n",
              "      \n",
              "  <style>\n",
              "    .colab-df-container {\n",
              "      display:flex;\n",
              "      flex-wrap:wrap;\n",
              "      gap: 12px;\n",
              "    }\n",
              "\n",
              "    .colab-df-convert {\n",
              "      background-color: #E8F0FE;\n",
              "      border: none;\n",
              "      border-radius: 50%;\n",
              "      cursor: pointer;\n",
              "      display: none;\n",
              "      fill: #1967D2;\n",
              "      height: 32px;\n",
              "      padding: 0 0 0 0;\n",
              "      width: 32px;\n",
              "    }\n",
              "\n",
              "    .colab-df-convert:hover {\n",
              "      background-color: #E2EBFA;\n",
              "      box-shadow: 0px 1px 2px rgba(60, 64, 67, 0.3), 0px 1px 3px 1px rgba(60, 64, 67, 0.15);\n",
              "      fill: #174EA6;\n",
              "    }\n",
              "\n",
              "    [theme=dark] .colab-df-convert {\n",
              "      background-color: #3B4455;\n",
              "      fill: #D2E3FC;\n",
              "    }\n",
              "\n",
              "    [theme=dark] .colab-df-convert:hover {\n",
              "      background-color: #434B5C;\n",
              "      box-shadow: 0px 1px 3px 1px rgba(0, 0, 0, 0.15);\n",
              "      filter: drop-shadow(0px 1px 2px rgba(0, 0, 0, 0.3));\n",
              "      fill: #FFFFFF;\n",
              "    }\n",
              "  </style>\n",
              "\n",
              "      <script>\n",
              "        const buttonEl =\n",
              "          document.querySelector('#df-19f93dcc-20f5-4ad9-ab8d-be02e32858b7 button.colab-df-convert');\n",
              "        buttonEl.style.display =\n",
              "          google.colab.kernel.accessAllowed ? 'block' : 'none';\n",
              "\n",
              "        async function convertToInteractive(key) {\n",
              "          const element = document.querySelector('#df-19f93dcc-20f5-4ad9-ab8d-be02e32858b7');\n",
              "          const dataTable =\n",
              "            await google.colab.kernel.invokeFunction('convertToInteractive',\n",
              "                                                     [key], {});\n",
              "          if (!dataTable) return;\n",
              "\n",
              "          const docLinkHtml = 'Like what you see? Visit the ' +\n",
              "            '<a target=\"_blank\" href=https://colab.research.google.com/notebooks/data_table.ipynb>data table notebook</a>'\n",
              "            + ' to learn more about interactive tables.';\n",
              "          element.innerHTML = '';\n",
              "          dataTable['output_type'] = 'display_data';\n",
              "          await google.colab.output.renderOutput(dataTable, element);\n",
              "          const docLink = document.createElement('div');\n",
              "          docLink.innerHTML = docLinkHtml;\n",
              "          element.appendChild(docLink);\n",
              "        }\n",
              "      </script>\n",
              "    </div>\n",
              "  </div>\n",
              "  "
            ],
            "text/plain": [
              "       class cap-shape cap-surface  ... spore-print-color population habitat\n",
              "count   8124      8124        8124  ...              8124       8124    8124\n",
              "unique     2         6           4  ...                 9          6       7\n",
              "top        e         x           y  ...                 w          v       d\n",
              "freq    4208      3656        3244  ...              2388       4040    3148\n",
              "\n",
              "[4 rows x 23 columns]"
            ]
          },
          "metadata": {},
          "execution_count": 9
        }
      ]
    },
    {
      "cell_type": "markdown",
      "source": [
        "##**The shape of the dataset**"
      ],
      "metadata": {
        "id": "ESo6FmTAedMw"
      }
    },
    {
      "cell_type": "code",
      "source": [
        "print('Dataset shape:', data.shape)"
      ],
      "metadata": {
        "colab": {
          "base_uri": "https://localhost:8080/"
        },
        "id": "Z7zXsd1NefNA",
        "outputId": "549a30b3-1722-43b5-f969-5a60544161c3"
      },
      "execution_count": 12,
      "outputs": [
        {
          "output_type": "stream",
          "name": "stdout",
          "text": [
            "Dataset shape: (8124, 23)\n"
          ]
        }
      ]
    },
    {
      "cell_type": "markdown",
      "source": [
        "Here we can see 8124 rows and 23 columns"
      ],
      "metadata": {
        "id": "wgDiO_LWewGi"
      }
    },
    {
      "cell_type": "markdown",
      "source": [
        "#**Unique occurrences of all columns**"
      ],
      "metadata": {
        "id": "n5yKDg9We87I"
      }
    },
    {
      "cell_type": "code",
      "execution_count": 5,
      "metadata": {
        "colab": {
          "base_uri": "https://localhost:8080/"
        },
        "id": "8Cb1kh74P4OG",
        "outputId": "db48ff18-936b-4f9d-9bff-902aeb2cb599"
      },
      "outputs": [
        {
          "output_type": "stream",
          "name": "stdout",
          "text": [
            "\n",
            "Column Name : class\n",
            "Total Unique values : 2 \n",
            "---------------------------\n",
            " ['p' 'e']\n",
            "\n",
            "Column Name : cap-shape\n",
            "Total Unique values : 6 \n",
            "---------------------------\n",
            " ['x' 'b' 's' 'f' 'k' 'c']\n",
            "\n",
            "Column Name : cap-surface\n",
            "Total Unique values : 4 \n",
            "---------------------------\n",
            " ['s' 'y' 'f' 'g']\n",
            "\n",
            "Column Name : cap-color\n",
            "Total Unique values : 10 \n",
            "---------------------------\n",
            " ['n' 'y' 'w' 'g' 'e' 'p' 'b' 'u' 'c' 'r']\n",
            "\n",
            "Column Name : bruises\n",
            "Total Unique values : 2 \n",
            "---------------------------\n",
            " ['t' 'f']\n",
            "\n",
            "Column Name : odor\n",
            "Total Unique values : 9 \n",
            "---------------------------\n",
            " ['p' 'a' 'l' 'n' 'f' 'c' 'y' 's' 'm']\n",
            "\n",
            "Column Name : gill-attachment\n",
            "Total Unique values : 2 \n",
            "---------------------------\n",
            " ['f' 'a']\n",
            "\n",
            "Column Name : gill-spacing\n",
            "Total Unique values : 2 \n",
            "---------------------------\n",
            " ['c' 'w']\n",
            "\n",
            "Column Name : gill-size\n",
            "Total Unique values : 2 \n",
            "---------------------------\n",
            " ['n' 'b']\n",
            "\n",
            "Column Name : gill-color\n",
            "Total Unique values : 12 \n",
            "---------------------------\n",
            " ['k' 'n' 'g' 'p' 'w' 'h' 'u' 'e' 'b' 'r' 'y' 'o']\n",
            "\n",
            "Column Name : stalk-shape\n",
            "Total Unique values : 2 \n",
            "---------------------------\n",
            " ['e' 't']\n",
            "\n",
            "Column Name : stalk-root\n",
            "Total Unique values : 5 \n",
            "---------------------------\n",
            " ['e' 'c' 'b' 'r' '?']\n",
            "\n",
            "Column Name : stalk-surface-above-ring\n",
            "Total Unique values : 4 \n",
            "---------------------------\n",
            " ['s' 'f' 'k' 'y']\n",
            "\n",
            "Column Name : stalk-surface-below-ring\n",
            "Total Unique values : 4 \n",
            "---------------------------\n",
            " ['s' 'f' 'y' 'k']\n",
            "\n",
            "Column Name : stalk-color-above-ring\n",
            "Total Unique values : 9 \n",
            "---------------------------\n",
            " ['w' 'g' 'p' 'n' 'b' 'e' 'o' 'c' 'y']\n",
            "\n",
            "Column Name : stalk-color-below-ring\n",
            "Total Unique values : 9 \n",
            "---------------------------\n",
            " ['w' 'p' 'g' 'b' 'n' 'e' 'y' 'o' 'c']\n",
            "\n",
            "Column Name : veil-type\n",
            "Total Unique values : 1 \n",
            "---------------------------\n",
            " ['p']\n",
            "\n",
            "Column Name : veil-color\n",
            "Total Unique values : 4 \n",
            "---------------------------\n",
            " ['w' 'n' 'o' 'y']\n",
            "\n",
            "Column Name : ring-number\n",
            "Total Unique values : 3 \n",
            "---------------------------\n",
            " ['o' 't' 'n']\n",
            "\n",
            "Column Name : ring-type\n",
            "Total Unique values : 5 \n",
            "---------------------------\n",
            " ['p' 'e' 'l' 'f' 'n']\n",
            "\n",
            "Column Name : spore-print-color\n",
            "Total Unique values : 9 \n",
            "---------------------------\n",
            " ['k' 'n' 'u' 'h' 'w' 'r' 'o' 'y' 'b']\n",
            "\n",
            "Column Name : population\n",
            "Total Unique values : 6 \n",
            "---------------------------\n",
            " ['s' 'n' 'a' 'v' 'y' 'c']\n",
            "\n",
            "Column Name : habitat\n",
            "Total Unique values : 7 \n",
            "---------------------------\n",
            " ['u' 'g' 'm' 'd' 'p' 'w' 'l']\n"
          ]
        }
      ],
      "source": [
        "for i in data.columns:\n",
        "  print('\\n'+'Column Name :',i+'\\n'+'Total Unique values :',data[i].nunique(),'\\n'+'---------------------------'+'\\n',data[i].unique())"
      ]
    },
    {
      "cell_type": "markdown",
      "source": [
        "##**Now let’s visualize the count of edible and poisonous mushrooms using Sea**born"
      ],
      "metadata": {
        "id": "c77pXJckfQv0"
      }
    },
    {
      "cell_type": "code",
      "source": [
        "count = data['class'].value_counts()\n",
        "plt.figure(figsize=(8,7))\n",
        "sns.barplot(count.index, count.values, alpha=0.8, palette=\"prism\")\n",
        "plt.ylabel('Count', fontsize=12)\n",
        "plt.xlabel('Class', fontsize=12)\n",
        "plt.title('Number of poisonous/edible mushrooms')\n",
        "\n",
        "plt.show()"
      ],
      "metadata": {
        "colab": {
          "base_uri": "https://localhost:8080/",
          "height": 461
        },
        "id": "HzPYNYeffQdV",
        "outputId": "a10921ef-97ae-40fe-c7c0-2e5132c28c93"
      },
      "execution_count": 13,
      "outputs": [
        {
          "output_type": "display_data",
          "data": {
            "image/png": "[encoded data removed]",
            "text/plain": [
              "<Figure size 576x504 with 1 Axes>"
            ]
          },
          "metadata": {
            "needs_background": "light"
          }
        }
      ]
    },
    {
      "cell_type": "markdown",
      "source": [
        "#**Data Preprocessing**\n",
        "The data is categorical so we’ll use LabelEncoder to convert it to ordinal. LabelEncoder converts each value in a column to a number.\n",
        "This approach requires the category column to be of ‘category’ datatype. By default, a non-numerical column is of ‘object’ datatype. From the df.describe() method, we saw that our columns are of ‘object’ datatype. So we will have to change the type to ‘category’ before using this approach."
      ],
      "metadata": {
        "id": "p0fwQ8U3f3tS"
      }
    },
    {
      "cell_type": "code",
      "source": [
        "df=data.copy() #copy the original dataset to another dataframe df"
      ],
      "metadata": {
        "id": "1sLzD2PVg70p"
      },
      "execution_count": 14,
      "outputs": []
    },
    {
      "cell_type": "code",
      "source": [
        "df = df.astype('category')\n",
        "df.dtypes"
      ],
      "metadata": {
        "colab": {
          "base_uri": "https://localhost:8080/"
        },
        "id": "bV3uXMXXgnfg",
        "outputId": "bb99c894-e4ff-4694-db1a-b6f9028afc00"
      },
      "execution_count": 15,
      "outputs": [
        {
          "output_type": "execute_result",
          "data": {
            "text/plain": [
              "class                       category\n",
              "cap-shape                   category\n",
              "cap-surface                 category\n",
              "cap-color                   category\n",
              "bruises                     category\n",
              "odor                        category\n",
              "gill-attachment             category\n",
              "gill-spacing                category\n",
              "gill-size                   category\n",
              "gill-color                  category\n",
              "stalk-shape                 category\n",
              "stalk-root                  category\n",
              "stalk-surface-above-ring    category\n",
              "stalk-surface-below-ring    category\n",
              "stalk-color-above-ring      category\n",
              "stalk-color-below-ring      category\n",
              "veil-type                   category\n",
              "veil-color                  category\n",
              "ring-number                 category\n",
              "ring-type                   category\n",
              "spore-print-color           category\n",
              "population                  category\n",
              "habitat                     category\n",
              "dtype: object"
            ]
          },
          "metadata": {},
          "execution_count": 15
        }
      ]
    },
    {
      "cell_type": "markdown",
      "source": [
        "As we can see, our columns are now of type ‘category’. We can now use LabelEncoder to convert categorical values to ordinal."
      ],
      "metadata": {
        "id": "GEMmatLHhLNK"
      }
    },
    {
      "cell_type": "code",
      "source": [
        "mapping=list()\n",
        "encoder=LabelEncoder()\n",
        "for columns in range(len(df.columns)):\n",
        "  df[df.columns[columns]] = encoder.fit_transform(df[df.columns[columns]])\n",
        "  mappings_dict = {index: label for index, label in enumerate(encoder.classes_)} # map the original value to its corresponding numeric values\n",
        "  mapping.append(mappings_dict)\n"
      ],
      "metadata": {
        "id": "Z0fXQ81_hMPg"
      },
      "execution_count": 17,
      "outputs": []
    },
    {
      "cell_type": "code",
      "source": [
        "df.head()"
      ],
      "metadata": {
        "colab": {
          "base_uri": "https://localhost:8080/",
          "height": 322
        },
        "id": "NwLpGQs0jX0-",
        "outputId": "4d4206c0-cd9e-4bf7-8c1c-b5a914aba56a"
      },
      "execution_count": 18,
      "outputs": [
        {
          "output_type": "execute_result",
          "data": {
            "text/html": [
              "\n",
              "  <div id=\"df-f80141df-525f-4609-8ecc-fd5092c813ea\">\n",
              "    <div class=\"colab-df-container\">\n",
              "      <div>\n",
              "<style scoped>\n",
              "    .dataframe tbody tr th:only-of-type {\n",
              "        vertical-align: middle;\n",
              "    }\n",
              "\n",
              "    .dataframe tbody tr th {\n",
              "        vertical-align: top;\n",
              "    }\n",
              "\n",
              "    .dataframe thead th {\n",
              "        text-align: right;\n",
              "    }\n",
              "</style>\n",
              "<table border=\"1\" class=\"dataframe\">\n",
              "  <thead>\n",
              "    <tr style=\"text-align: right;\">\n",
              "      <th></th>\n",
              "      <th>class</th>\n",
              "      <th>cap-shape</th>\n",
              "      <th>cap-surface</th>\n",
              "      <th>cap-color</th>\n",
              "      <th>bruises</th>\n",
              "      <th>odor</th>\n",
              "      <th>gill-attachment</th>\n",
              "      <th>gill-spacing</th>\n",
              "      <th>gill-size</th>\n",
              "      <th>gill-color</th>\n",
              "      <th>stalk-shape</th>\n",
              "      <th>stalk-root</th>\n",
              "      <th>stalk-surface-above-ring</th>\n",
              "      <th>stalk-surface-below-ring</th>\n",
              "      <th>stalk-color-above-ring</th>\n",
              "      <th>stalk-color-below-ring</th>\n",
              "      <th>veil-type</th>\n",
              "      <th>veil-color</th>\n",
              "      <th>ring-number</th>\n",
              "      <th>ring-type</th>\n",
              "      <th>spore-print-color</th>\n",
              "      <th>population</th>\n",
              "      <th>habitat</th>\n",
              "    </tr>\n",
              "  </thead>\n",
              "  <tbody>\n",
              "    <tr>\n",
              "      <th>0</th>\n",
              "      <td>1</td>\n",
              "      <td>5</td>\n",
              "      <td>2</td>\n",
              "      <td>4</td>\n",
              "      <td>1</td>\n",
              "      <td>6</td>\n",
              "      <td>1</td>\n",
              "      <td>0</td>\n",
              "      <td>1</td>\n",
              "      <td>4</td>\n",
              "      <td>0</td>\n",
              "      <td>3</td>\n",
              "      <td>2</td>\n",
              "      <td>2</td>\n",
              "      <td>7</td>\n",
              "      <td>7</td>\n",
              "      <td>0</td>\n",
              "      <td>2</td>\n",
              "      <td>1</td>\n",
              "      <td>4</td>\n",
              "      <td>2</td>\n",
              "      <td>3</td>\n",
              "      <td>5</td>\n",
              "    </tr>\n",
              "    <tr>\n",
              "      <th>1</th>\n",
              "      <td>0</td>\n",
              "      <td>5</td>\n",
              "      <td>2</td>\n",
              "      <td>9</td>\n",
              "      <td>1</td>\n",
              "      <td>0</td>\n",
              "      <td>1</td>\n",
              "      <td>0</td>\n",
              "      <td>0</td>\n",
              "      <td>4</td>\n",
              "      <td>0</td>\n",
              "      <td>2</td>\n",
              "      <td>2</td>\n",
              "      <td>2</td>\n",
              "      <td>7</td>\n",
              "      <td>7</td>\n",
              "      <td>0</td>\n",
              "      <td>2</td>\n",
              "      <td>1</td>\n",
              "      <td>4</td>\n",
              "      <td>3</td>\n",
              "      <td>2</td>\n",
              "      <td>1</td>\n",
              "    </tr>\n",
              "    <tr>\n",
              "      <th>2</th>\n",
              "      <td>0</td>\n",
              "      <td>0</td>\n",
              "      <td>2</td>\n",
              "      <td>8</td>\n",
              "      <td>1</td>\n",
              "      <td>3</td>\n",
              "      <td>1</td>\n",
              "      <td>0</td>\n",
              "      <td>0</td>\n",
              "      <td>5</td>\n",
              "      <td>0</td>\n",
              "      <td>2</td>\n",
              "      <td>2</td>\n",
              "      <td>2</td>\n",
              "      <td>7</td>\n",
              "      <td>7</td>\n",
              "      <td>0</td>\n",
              "      <td>2</td>\n",
              "      <td>1</td>\n",
              "      <td>4</td>\n",
              "      <td>3</td>\n",
              "      <td>2</td>\n",
              "      <td>3</td>\n",
              "    </tr>\n",
              "    <tr>\n",
              "      <th>3</th>\n",
              "      <td>1</td>\n",
              "      <td>5</td>\n",
              "      <td>3</td>\n",
              "      <td>8</td>\n",
              "      <td>1</td>\n",
              "      <td>6</td>\n",
              "      <td>1</td>\n",
              "      <td>0</td>\n",
              "      <td>1</td>\n",
              "      <td>5</td>\n",
              "      <td>0</td>\n",
              "      <td>3</td>\n",
              "      <td>2</td>\n",
              "      <td>2</td>\n",
              "      <td>7</td>\n",
              "      <td>7</td>\n",
              "      <td>0</td>\n",
              "      <td>2</td>\n",
              "      <td>1</td>\n",
              "      <td>4</td>\n",
              "      <td>2</td>\n",
              "      <td>3</td>\n",
              "      <td>5</td>\n",
              "    </tr>\n",
              "    <tr>\n",
              "      <th>4</th>\n",
              "      <td>0</td>\n",
              "      <td>5</td>\n",
              "      <td>2</td>\n",
              "      <td>3</td>\n",
              "      <td>0</td>\n",
              "      <td>5</td>\n",
              "      <td>1</td>\n",
              "      <td>1</td>\n",
              "      <td>0</td>\n",
              "      <td>4</td>\n",
              "      <td>1</td>\n",
              "      <td>3</td>\n",
              "      <td>2</td>\n",
              "      <td>2</td>\n",
              "      <td>7</td>\n",
              "      <td>7</td>\n",
              "      <td>0</td>\n",
              "      <td>2</td>\n",
              "      <td>1</td>\n",
              "      <td>0</td>\n",
              "      <td>3</td>\n",
              "      <td>0</td>\n",
              "      <td>1</td>\n",
              "    </tr>\n",
              "  </tbody>\n",
              "</table>\n",
              "</div>\n",
              "      <button class=\"colab-df-convert\" onclick=\"convertToInteractive('df-f80141df-525f-4609-8ecc-fd5092c813ea')\"\n",
              "              title=\"Convert this dataframe to an interactive table.\"\n",
              "              style=\"display:none;\">\n",
              "        \n",
              "  <svg xmlns=\"http://www.w3.org/2000/svg\" height=\"24px\"viewBox=\"0 0 24 24\"\n",
              "       width=\"24px\">\n",
              "    <path d=\"M0 0h24v24H0V0z\" fill=\"none\"/>\n",
              "    <path d=\"M18.56 5.44l.94 2.06.94-2.06 2.06-.94-2.06-.94-.94-2.06-.94 2.06-2.06.94zm-11 1L8.5 8.5l.94-2.06 2.06-.94-2.06-.94L8.5 2.5l-.94 2.06-2.06.94zm10 10l.94 2.06.94-2.06 2.06-.94-2.06-.94-.94-2.06-.94 2.06-2.06.94z\"/><path d=\"M17.41 7.96l-1.37-1.37c-.4-.4-.92-.59-1.43-.59-.52 0-1.04.2-1.43.59L10.3 9.45l-7.72 7.72c-.78.78-.78 2.05 0 2.83L4 21.41c.39.39.9.59 1.41.59.51 0 1.02-.2 1.41-.59l7.78-7.78 2.81-2.81c.8-.78.8-2.07 0-2.86zM5.41 20L4 18.59l7.72-7.72 1.47 1.35L5.41 20z\"/>\n",
              "  </svg>\n",
              "      </button>\n",
              "      \n",
              "  <style>\n",
              "    .colab-df-container {\n",
              "      display:flex;\n",
              "      flex-wrap:wrap;\n",
              "      gap: 12px;\n",
              "    }\n",
              "\n",
              "    .colab-df-convert {\n",
              "      background-color: #E8F0FE;\n",
              "      border: none;\n",
              "      border-radius: 50%;\n",
              "      cursor: pointer;\n",
              "      display: none;\n",
              "      fill: #1967D2;\n",
              "      height: 32px;\n",
              "      padding: 0 0 0 0;\n",
              "      width: 32px;\n",
              "    }\n",
              "\n",
              "    .colab-df-convert:hover {\n",
              "      background-color: #E2EBFA;\n",
              "      box-shadow: 0px 1px 2px rgba(60, 64, 67, 0.3), 0px 1px 3px 1px rgba(60, 64, 67, 0.15);\n",
              "      fill: #174EA6;\n",
              "    }\n",
              "\n",
              "    [theme=dark] .colab-df-convert {\n",
              "      background-color: #3B4455;\n",
              "      fill: #D2E3FC;\n",
              "    }\n",
              "\n",
              "    [theme=dark] .colab-df-convert:hover {\n",
              "      background-color: #434B5C;\n",
              "      box-shadow: 0px 1px 3px 1px rgba(0, 0, 0, 0.15);\n",
              "      filter: drop-shadow(0px 1px 2px rgba(0, 0, 0, 0.3));\n",
              "      fill: #FFFFFF;\n",
              "    }\n",
              "  </style>\n",
              "\n",
              "      <script>\n",
              "        const buttonEl =\n",
              "          document.querySelector('#df-f80141df-525f-4609-8ecc-fd5092c813ea button.colab-df-convert');\n",
              "        buttonEl.style.display =\n",
              "          google.colab.kernel.accessAllowed ? 'block' : 'none';\n",
              "\n",
              "        async function convertToInteractive(key) {\n",
              "          const element = document.querySelector('#df-f80141df-525f-4609-8ecc-fd5092c813ea');\n",
              "          const dataTable =\n",
              "            await google.colab.kernel.invokeFunction('convertToInteractive',\n",
              "                                                     [key], {});\n",
              "          if (!dataTable) return;\n",
              "\n",
              "          const docLinkHtml = 'Like what you see? Visit the ' +\n",
              "            '<a target=\"_blank\" href=https://colab.research.google.com/notebooks/data_table.ipynb>data table notebook</a>'\n",
              "            + ' to learn more about interactive tables.';\n",
              "          element.innerHTML = '';\n",
              "          dataTable['output_type'] = 'display_data';\n",
              "          await google.colab.output.renderOutput(dataTable, element);\n",
              "          const docLink = document.createElement('div');\n",
              "          docLink.innerHTML = docLinkHtml;\n",
              "          element.appendChild(docLink);\n",
              "        }\n",
              "      </script>\n",
              "    </div>\n",
              "  </div>\n",
              "  "
            ],
            "text/plain": [
              "   class  cap-shape  cap-surface  ...  spore-print-color  population  habitat\n",
              "0      1          5            2  ...                  2           3        5\n",
              "1      0          5            2  ...                  3           2        1\n",
              "2      0          0            2  ...                  3           2        3\n",
              "3      1          5            3  ...                  2           3        5\n",
              "4      0          5            2  ...                  3           0        1\n",
              "\n",
              "[5 rows x 23 columns]"
            ]
          },
          "metadata": {},
          "execution_count": 18
        }
      ]
    },
    {
      "cell_type": "code",
      "source": [
        "mapping # map the original value to its corresponding numeric values"
      ],
      "metadata": {
        "colab": {
          "base_uri": "https://localhost:8080/"
        },
        "id": "u8Btj7lljdB3",
        "outputId": "9b1b9305-84a6-4054-b737-4f7713ada5eb"
      },
      "execution_count": 19,
      "outputs": [
        {
          "output_type": "execute_result",
          "data": {
            "text/plain": [
              "[{0: 'e', 1: 'p'},\n",
              " {0: 'b', 1: 'c', 2: 'f', 3: 'k', 4: 's', 5: 'x'},\n",
              " {0: 'f', 1: 'g', 2: 's', 3: 'y'},\n",
              " {0: 'b',\n",
              "  1: 'c',\n",
              "  2: 'e',\n",
              "  3: 'g',\n",
              "  4: 'n',\n",
              "  5: 'p',\n",
              "  6: 'r',\n",
              "  7: 'u',\n",
              "  8: 'w',\n",
              "  9: 'y'},\n",
              " {0: 'f', 1: 't'},\n",
              " {0: 'a', 1: 'c', 2: 'f', 3: 'l', 4: 'm', 5: 'n', 6: 'p', 7: 's', 8: 'y'},\n",
              " {0: 'a', 1: 'f'},\n",
              " {0: 'c', 1: 'w'},\n",
              " {0: 'b', 1: 'n'},\n",
              " {0: 'b',\n",
              "  1: 'e',\n",
              "  2: 'g',\n",
              "  3: 'h',\n",
              "  4: 'k',\n",
              "  5: 'n',\n",
              "  6: 'o',\n",
              "  7: 'p',\n",
              "  8: 'r',\n",
              "  9: 'u',\n",
              "  10: 'w',\n",
              "  11: 'y'},\n",
              " {0: 'e', 1: 't'},\n",
              " {0: '?', 1: 'b', 2: 'c', 3: 'e', 4: 'r'},\n",
              " {0: 'f', 1: 'k', 2: 's', 3: 'y'},\n",
              " {0: 'f', 1: 'k', 2: 's', 3: 'y'},\n",
              " {0: 'b', 1: 'c', 2: 'e', 3: 'g', 4: 'n', 5: 'o', 6: 'p', 7: 'w', 8: 'y'},\n",
              " {0: 'b', 1: 'c', 2: 'e', 3: 'g', 4: 'n', 5: 'o', 6: 'p', 7: 'w', 8: 'y'},\n",
              " {0: 'p'},\n",
              " {0: 'n', 1: 'o', 2: 'w', 3: 'y'},\n",
              " {0: 'n', 1: 'o', 2: 't'},\n",
              " {0: 'e', 1: 'f', 2: 'l', 3: 'n', 4: 'p'},\n",
              " {0: 'b', 1: 'h', 2: 'k', 3: 'n', 4: 'o', 5: 'r', 6: 'u', 7: 'w', 8: 'y'},\n",
              " {0: 'a', 1: 'c', 2: 'n', 3: 's', 4: 'v', 5: 'y'},\n",
              " {0: 'd', 1: 'g', 2: 'l', 3: 'm', 4: 'p', 5: 'u', 6: 'w'}]"
            ]
          },
          "metadata": {},
          "execution_count": 19
        }
      ]
    },
    {
      "cell_type": "markdown",
      "source": [
        "Also, the column “veil-type” is 0 and not contributing to the data so we’ll remove it."
      ],
      "metadata": {
        "id": "e3iVtYtjj-T_"
      }
    },
    {
      "cell_type": "code",
      "source": [
        "df['veil-type']"
      ],
      "metadata": {
        "colab": {
          "base_uri": "https://localhost:8080/"
        },
        "id": "B4ArYgNZj_LX",
        "outputId": "4288cfb0-c89b-450d-8398-e89015f4d47a"
      },
      "execution_count": 20,
      "outputs": [
        {
          "output_type": "execute_result",
          "data": {
            "text/plain": [
              "0       0\n",
              "1       0\n",
              "2       0\n",
              "3       0\n",
              "4       0\n",
              "       ..\n",
              "8119    0\n",
              "8120    0\n",
              "8121    0\n",
              "8122    0\n",
              "8123    0\n",
              "Name: veil-type, Length: 8124, dtype: int64"
            ]
          },
          "metadata": {},
          "execution_count": 20
        }
      ]
    },
    {
      "cell_type": "code",
      "source": [
        "df = df.drop([\"veil-type\"],axis=1)"
      ],
      "metadata": {
        "id": "noa0zXT9kKyy"
      },
      "execution_count": 21,
      "outputs": []
    },
    {
      "cell_type": "markdown",
      "source": [
        "#**Preparing the Data**\n",
        "Setting X and y-axis and splitting the data into train and test respectively.\n"
      ],
      "metadata": {
        "id": "UE6hL45Hmv4n"
      }
    },
    {
      "cell_type": "code",
      "source": [
        "y = df['class']\n",
        "X = df.drop('class', axis=1)"
      ],
      "metadata": {
        "id": "ZBmSxILDm03n"
      },
      "execution_count": 23,
      "outputs": []
    },
    {
      "cell_type": "markdown",
      "source": [
        "###**Now Scale the X**"
      ],
      "metadata": {
        "id": "xidsRugLnUvQ"
      }
    },
    {
      "cell_type": "code",
      "source": [
        "scaler = StandardScaler()\n",
        "\n",
        "X = pd.DataFrame(scaler.fit_transform(X), columns=X.columns)"
      ],
      "metadata": {
        "id": "U5Iv0FQUnYRH"
      },
      "execution_count": 24,
      "outputs": []
    },
    {
      "cell_type": "code",
      "source": [
        "X"
      ],
      "metadata": {
        "colab": {
          "base_uri": "https://localhost:8080/",
          "height": 540
        },
        "id": "4HLT9-IhneKw",
        "outputId": "a89b863e-82af-4b95-db29-c3abaf6414f4"
      },
      "execution_count": 26,
      "outputs": [
        {
          "output_type": "execute_result",
          "data": {
            "text/html": [
              "\n",
              "  <div id=\"df-7a005e00-4a1a-4c5f-9bf6-5a69b82c9280\">\n",
              "    <div class=\"colab-df-container\">\n",
              "      <div>\n",
              "<style scoped>\n",
              "    .dataframe tbody tr th:only-of-type {\n",
              "        vertical-align: middle;\n",
              "    }\n",
              "\n",
              "    .dataframe tbody tr th {\n",
              "        vertical-align: top;\n",
              "    }\n",
              "\n",
              "    .dataframe thead th {\n",
              "        text-align: right;\n",
              "    }\n",
              "</style>\n",
              "<table border=\"1\" class=\"dataframe\">\n",
              "  <thead>\n",
              "    <tr style=\"text-align: right;\">\n",
              "      <th></th>\n",
              "      <th>cap-shape</th>\n",
              "      <th>cap-surface</th>\n",
              "      <th>cap-color</th>\n",
              "      <th>bruises</th>\n",
              "      <th>odor</th>\n",
              "      <th>gill-attachment</th>\n",
              "      <th>gill-spacing</th>\n",
              "      <th>gill-size</th>\n",
              "      <th>gill-color</th>\n",
              "      <th>stalk-shape</th>\n",
              "      <th>stalk-root</th>\n",
              "      <th>stalk-surface-above-ring</th>\n",
              "      <th>stalk-surface-below-ring</th>\n",
              "      <th>stalk-color-above-ring</th>\n",
              "      <th>stalk-color-below-ring</th>\n",
              "      <th>veil-color</th>\n",
              "      <th>ring-number</th>\n",
              "      <th>ring-type</th>\n",
              "      <th>spore-print-color</th>\n",
              "      <th>population</th>\n",
              "      <th>habitat</th>\n",
              "    </tr>\n",
              "  </thead>\n",
              "  <tbody>\n",
              "    <tr>\n",
              "      <th>0</th>\n",
              "      <td>1.029712</td>\n",
              "      <td>0.140128</td>\n",
              "      <td>-0.198250</td>\n",
              "      <td>1.185917</td>\n",
              "      <td>0.881938</td>\n",
              "      <td>0.162896</td>\n",
              "      <td>-0.438864</td>\n",
              "      <td>1.494683</td>\n",
              "      <td>-0.228998</td>\n",
              "      <td>-1.144806</td>\n",
              "      <td>1.781460</td>\n",
              "      <td>0.683778</td>\n",
              "      <td>0.586385</td>\n",
              "      <td>0.622441</td>\n",
              "      <td>0.631991</td>\n",
              "      <td>0.142037</td>\n",
              "      <td>-0.256132</td>\n",
              "      <td>0.948081</td>\n",
              "      <td>-0.670195</td>\n",
              "      <td>-0.514389</td>\n",
              "      <td>2.030028</td>\n",
              "    </tr>\n",
              "    <tr>\n",
              "      <th>1</th>\n",
              "      <td>1.029712</td>\n",
              "      <td>0.140128</td>\n",
              "      <td>1.765874</td>\n",
              "      <td>1.185917</td>\n",
              "      <td>-1.970316</td>\n",
              "      <td>0.162896</td>\n",
              "      <td>-0.438864</td>\n",
              "      <td>-0.669038</td>\n",
              "      <td>-0.228998</td>\n",
              "      <td>-1.144806</td>\n",
              "      <td>0.838989</td>\n",
              "      <td>0.683778</td>\n",
              "      <td>0.586385</td>\n",
              "      <td>0.622441</td>\n",
              "      <td>0.631991</td>\n",
              "      <td>0.142037</td>\n",
              "      <td>-0.256132</td>\n",
              "      <td>0.948081</td>\n",
              "      <td>-0.250471</td>\n",
              "      <td>-1.313108</td>\n",
              "      <td>-0.295730</td>\n",
              "    </tr>\n",
              "    <tr>\n",
              "      <th>2</th>\n",
              "      <td>-2.087047</td>\n",
              "      <td>0.140128</td>\n",
              "      <td>1.373049</td>\n",
              "      <td>1.185917</td>\n",
              "      <td>-0.544189</td>\n",
              "      <td>0.162896</td>\n",
              "      <td>-0.438864</td>\n",
              "      <td>-0.669038</td>\n",
              "      <td>0.053477</td>\n",
              "      <td>-1.144806</td>\n",
              "      <td>0.838989</td>\n",
              "      <td>0.683778</td>\n",
              "      <td>0.586385</td>\n",
              "      <td>0.622441</td>\n",
              "      <td>0.631991</td>\n",
              "      <td>0.142037</td>\n",
              "      <td>-0.256132</td>\n",
              "      <td>0.948081</td>\n",
              "      <td>-0.250471</td>\n",
              "      <td>-1.313108</td>\n",
              "      <td>0.867149</td>\n",
              "    </tr>\n",
              "    <tr>\n",
              "      <th>3</th>\n",
              "      <td>1.029712</td>\n",
              "      <td>0.953270</td>\n",
              "      <td>1.373049</td>\n",
              "      <td>1.185917</td>\n",
              "      <td>0.881938</td>\n",
              "      <td>0.162896</td>\n",
              "      <td>-0.438864</td>\n",
              "      <td>1.494683</td>\n",
              "      <td>0.053477</td>\n",
              "      <td>-1.144806</td>\n",
              "      <td>1.781460</td>\n",
              "      <td>0.683778</td>\n",
              "      <td>0.586385</td>\n",
              "      <td>0.622441</td>\n",
              "      <td>0.631991</td>\n",
              "      <td>0.142037</td>\n",
              "      <td>-0.256132</td>\n",
              "      <td>0.948081</td>\n",
              "      <td>-0.670195</td>\n",
              "      <td>-0.514389</td>\n",
              "      <td>2.030028</td>\n",
              "    </tr>\n",
              "    <tr>\n",
              "      <th>4</th>\n",
              "      <td>1.029712</td>\n",
              "      <td>0.140128</td>\n",
              "      <td>-0.591075</td>\n",
              "      <td>-0.843230</td>\n",
              "      <td>0.406562</td>\n",
              "      <td>0.162896</td>\n",
              "      <td>2.278612</td>\n",
              "      <td>-0.669038</td>\n",
              "      <td>-0.228998</td>\n",
              "      <td>0.873511</td>\n",
              "      <td>1.781460</td>\n",
              "      <td>0.683778</td>\n",
              "      <td>0.586385</td>\n",
              "      <td>0.622441</td>\n",
              "      <td>0.631991</td>\n",
              "      <td>0.142037</td>\n",
              "      <td>-0.256132</td>\n",
              "      <td>-1.272216</td>\n",
              "      <td>-0.250471</td>\n",
              "      <td>-2.910546</td>\n",
              "      <td>-0.295730</td>\n",
              "    </tr>\n",
              "    <tr>\n",
              "      <th>...</th>\n",
              "      <td>...</td>\n",
              "      <td>...</td>\n",
              "      <td>...</td>\n",
              "      <td>...</td>\n",
              "      <td>...</td>\n",
              "      <td>...</td>\n",
              "      <td>...</td>\n",
              "      <td>...</td>\n",
              "      <td>...</td>\n",
              "      <td>...</td>\n",
              "      <td>...</td>\n",
              "      <td>...</td>\n",
              "      <td>...</td>\n",
              "      <td>...</td>\n",
              "      <td>...</td>\n",
              "      <td>...</td>\n",
              "      <td>...</td>\n",
              "      <td>...</td>\n",
              "      <td>...</td>\n",
              "      <td>...</td>\n",
              "      <td>...</td>\n",
              "    </tr>\n",
              "    <tr>\n",
              "      <th>8119</th>\n",
              "      <td>-0.216992</td>\n",
              "      <td>0.140128</td>\n",
              "      <td>-0.198250</td>\n",
              "      <td>-0.843230</td>\n",
              "      <td>0.406562</td>\n",
              "      <td>-6.138869</td>\n",
              "      <td>-0.438864</td>\n",
              "      <td>-0.669038</td>\n",
              "      <td>1.748325</td>\n",
              "      <td>-1.144806</td>\n",
              "      <td>-1.045952</td>\n",
              "      <td>0.683778</td>\n",
              "      <td>0.586385</td>\n",
              "      <td>-0.429288</td>\n",
              "      <td>-0.416681</td>\n",
              "      <td>-3.979055</td>\n",
              "      <td>-0.256132</td>\n",
              "      <td>0.948081</td>\n",
              "      <td>-1.509643</td>\n",
              "      <td>-2.111827</td>\n",
              "      <td>0.285710</td>\n",
              "    </tr>\n",
              "    <tr>\n",
              "      <th>8120</th>\n",
              "      <td>1.029712</td>\n",
              "      <td>0.140128</td>\n",
              "      <td>-0.198250</td>\n",
              "      <td>-0.843230</td>\n",
              "      <td>0.406562</td>\n",
              "      <td>-6.138869</td>\n",
              "      <td>-0.438864</td>\n",
              "      <td>-0.669038</td>\n",
              "      <td>1.748325</td>\n",
              "      <td>-1.144806</td>\n",
              "      <td>-1.045952</td>\n",
              "      <td>0.683778</td>\n",
              "      <td>0.586385</td>\n",
              "      <td>-0.429288</td>\n",
              "      <td>-0.416681</td>\n",
              "      <td>-8.100146</td>\n",
              "      <td>-0.256132</td>\n",
              "      <td>0.948081</td>\n",
              "      <td>-1.509643</td>\n",
              "      <td>0.284330</td>\n",
              "      <td>0.285710</td>\n",
              "    </tr>\n",
              "    <tr>\n",
              "      <th>8121</th>\n",
              "      <td>-0.840343</td>\n",
              "      <td>0.140128</td>\n",
              "      <td>-0.198250</td>\n",
              "      <td>-0.843230</td>\n",
              "      <td>0.406562</td>\n",
              "      <td>-6.138869</td>\n",
              "      <td>-0.438864</td>\n",
              "      <td>-0.669038</td>\n",
              "      <td>0.053477</td>\n",
              "      <td>-1.144806</td>\n",
              "      <td>-1.045952</td>\n",
              "      <td>0.683778</td>\n",
              "      <td>0.586385</td>\n",
              "      <td>-0.429288</td>\n",
              "      <td>-0.416681</td>\n",
              "      <td>-3.979055</td>\n",
              "      <td>-0.256132</td>\n",
              "      <td>0.948081</td>\n",
              "      <td>-1.509643</td>\n",
              "      <td>-2.111827</td>\n",
              "      <td>0.285710</td>\n",
              "    </tr>\n",
              "    <tr>\n",
              "      <th>8122</th>\n",
              "      <td>-0.216992</td>\n",
              "      <td>0.953270</td>\n",
              "      <td>-0.198250</td>\n",
              "      <td>-0.843230</td>\n",
              "      <td>1.832689</td>\n",
              "      <td>0.162896</td>\n",
              "      <td>-0.438864</td>\n",
              "      <td>1.494683</td>\n",
              "      <td>-1.358896</td>\n",
              "      <td>0.873511</td>\n",
              "      <td>-1.045952</td>\n",
              "      <td>0.683778</td>\n",
              "      <td>-0.893053</td>\n",
              "      <td>0.622441</td>\n",
              "      <td>0.631991</td>\n",
              "      <td>0.142037</td>\n",
              "      <td>-0.256132</td>\n",
              "      <td>-1.272216</td>\n",
              "      <td>1.428426</td>\n",
              "      <td>0.284330</td>\n",
              "      <td>0.285710</td>\n",
              "    </tr>\n",
              "    <tr>\n",
              "      <th>8123</th>\n",
              "      <td>1.029712</td>\n",
              "      <td>0.140128</td>\n",
              "      <td>-0.198250</td>\n",
              "      <td>-0.843230</td>\n",
              "      <td>0.406562</td>\n",
              "      <td>-6.138869</td>\n",
              "      <td>-0.438864</td>\n",
              "      <td>-0.669038</td>\n",
              "      <td>1.748325</td>\n",
              "      <td>-1.144806</td>\n",
              "      <td>-1.045952</td>\n",
              "      <td>0.683778</td>\n",
              "      <td>0.586385</td>\n",
              "      <td>-0.429288</td>\n",
              "      <td>-0.416681</td>\n",
              "      <td>-3.979055</td>\n",
              "      <td>-0.256132</td>\n",
              "      <td>0.948081</td>\n",
              "      <td>0.169254</td>\n",
              "      <td>-2.111827</td>\n",
              "      <td>0.285710</td>\n",
              "    </tr>\n",
              "  </tbody>\n",
              "</table>\n",
              "<p>8124 rows × 21 columns</p>\n",
              "</div>\n",
              "      <button class=\"colab-df-convert\" onclick=\"convertToInteractive('df-7a005e00-4a1a-4c5f-9bf6-5a69b82c9280')\"\n",
              "              title=\"Convert this dataframe to an interactive table.\"\n",
              "              style=\"display:none;\">\n",
              "        \n",
              "  <svg xmlns=\"http://www.w3.org/2000/svg\" height=\"24px\"viewBox=\"0 0 24 24\"\n",
              "       width=\"24px\">\n",
              "    <path d=\"M0 0h24v24H0V0z\" fill=\"none\"/>\n",
              "    <path d=\"M18.56 5.44l.94 2.06.94-2.06 2.06-.94-2.06-.94-.94-2.06-.94 2.06-2.06.94zm-11 1L8.5 8.5l.94-2.06 2.06-.94-2.06-.94L8.5 2.5l-.94 2.06-2.06.94zm10 10l.94 2.06.94-2.06 2.06-.94-2.06-.94-.94-2.06-.94 2.06-2.06.94z\"/><path d=\"M17.41 7.96l-1.37-1.37c-.4-.4-.92-.59-1.43-.59-.52 0-1.04.2-1.43.59L10.3 9.45l-7.72 7.72c-.78.78-.78 2.05 0 2.83L4 21.41c.39.39.9.59 1.41.59.51 0 1.02-.2 1.41-.59l7.78-7.78 2.81-2.81c.8-.78.8-2.07 0-2.86zM5.41 20L4 18.59l7.72-7.72 1.47 1.35L5.41 20z\"/>\n",
              "  </svg>\n",
              "      </button>\n",
              "      \n",
              "  <style>\n",
              "    .colab-df-container {\n",
              "      display:flex;\n",
              "      flex-wrap:wrap;\n",
              "      gap: 12px;\n",
              "    }\n",
              "\n",
              "    .colab-df-convert {\n",
              "      background-color: #E8F0FE;\n",
              "      border: none;\n",
              "      border-radius: 50%;\n",
              "      cursor: pointer;\n",
              "      display: none;\n",
              "      fill: #1967D2;\n",
              "      height: 32px;\n",
              "      padding: 0 0 0 0;\n",
              "      width: 32px;\n",
              "    }\n",
              "\n",
              "    .colab-df-convert:hover {\n",
              "      background-color: #E2EBFA;\n",
              "      box-shadow: 0px 1px 2px rgba(60, 64, 67, 0.3), 0px 1px 3px 1px rgba(60, 64, 67, 0.15);\n",
              "      fill: #174EA6;\n",
              "    }\n",
              "\n",
              "    [theme=dark] .colab-df-convert {\n",
              "      background-color: #3B4455;\n",
              "      fill: #D2E3FC;\n",
              "    }\n",
              "\n",
              "    [theme=dark] .colab-df-convert:hover {\n",
              "      background-color: #434B5C;\n",
              "      box-shadow: 0px 1px 3px 1px rgba(0, 0, 0, 0.15);\n",
              "      filter: drop-shadow(0px 1px 2px rgba(0, 0, 0, 0.3));\n",
              "      fill: #FFFFFF;\n",
              "    }\n",
              "  </style>\n",
              "\n",
              "      <script>\n",
              "        const buttonEl =\n",
              "          document.querySelector('#df-7a005e00-4a1a-4c5f-9bf6-5a69b82c9280 button.colab-df-convert');\n",
              "        buttonEl.style.display =\n",
              "          google.colab.kernel.accessAllowed ? 'block' : 'none';\n",
              "\n",
              "        async function convertToInteractive(key) {\n",
              "          const element = document.querySelector('#df-7a005e00-4a1a-4c5f-9bf6-5a69b82c9280');\n",
              "          const dataTable =\n",
              "            await google.colab.kernel.invokeFunction('convertToInteractive',\n",
              "                                                     [key], {});\n",
              "          if (!dataTable) return;\n",
              "\n",
              "          const docLinkHtml = 'Like what you see? Visit the ' +\n",
              "            '<a target=\"_blank\" href=https://colab.research.google.com/notebooks/data_table.ipynb>data table notebook</a>'\n",
              "            + ' to learn more about interactive tables.';\n",
              "          element.innerHTML = '';\n",
              "          dataTable['output_type'] = 'display_data';\n",
              "          await google.colab.output.renderOutput(dataTable, element);\n",
              "          const docLink = document.createElement('div');\n",
              "          docLink.innerHTML = docLinkHtml;\n",
              "          element.appendChild(docLink);\n",
              "        }\n",
              "      </script>\n",
              "    </div>\n",
              "  </div>\n",
              "  "
            ],
            "text/plain": [
              "      cap-shape  cap-surface  ...  population   habitat\n",
              "0      1.029712     0.140128  ...   -0.514389  2.030028\n",
              "1      1.029712     0.140128  ...   -1.313108 -0.295730\n",
              "2     -2.087047     0.140128  ...   -1.313108  0.867149\n",
              "3      1.029712     0.953270  ...   -0.514389  2.030028\n",
              "4      1.029712     0.140128  ...   -2.910546 -0.295730\n",
              "...         ...          ...  ...         ...       ...\n",
              "8119  -0.216992     0.140128  ...   -2.111827  0.285710\n",
              "8120   1.029712     0.140128  ...    0.284330  0.285710\n",
              "8121  -0.840343     0.140128  ...   -2.111827  0.285710\n",
              "8122  -0.216992     0.953270  ...    0.284330  0.285710\n",
              "8123   1.029712     0.140128  ...   -2.111827  0.285710\n",
              "\n",
              "[8124 rows x 21 columns]"
            ]
          },
          "metadata": {},
          "execution_count": 26
        }
      ]
    },
    {
      "cell_type": "code",
      "source": [
        "X_train,X_test,y_train,y_test=train_test_split(X, y, train_size=0.8)"
      ],
      "metadata": {
        "id": "K5_4U6Z6n8C4"
      },
      "execution_count": 28,
      "outputs": []
    },
    {
      "cell_type": "markdown",
      "source": [
        "#**Model Selection**"
      ],
      "metadata": {
        "id": "aEVnH7jxol5Q"
      }
    },
    {
      "cell_type": "markdown",
      "source": [
        "#**Decision Tree Classification**"
      ],
      "metadata": {
        "id": "q6hkX8BpvMQq"
      }
    },
    {
      "cell_type": "code",
      "source": [
        "from sklearn.tree import DecisionTreeClassifier"
      ],
      "metadata": {
        "id": "Mla6UogxvOnE"
      },
      "execution_count": 49,
      "outputs": []
    },
    {
      "cell_type": "code",
      "source": [
        "dt = DecisionTreeClassifier()\n",
        "dt.fit(X_train, y_train)\n"
      ],
      "metadata": {
        "colab": {
          "base_uri": "https://localhost:8080/"
        },
        "id": "0rd9b9OivR00",
        "outputId": "a793cf6e-0393-4aae-c6a2-b41e3107442d"
      },
      "execution_count": 50,
      "outputs": [
        {
          "output_type": "execute_result",
          "data": {
            "text/plain": [
              "DecisionTreeClassifier()"
            ]
          },
          "metadata": {},
          "execution_count": 50
        }
      ]
    },
    {
      "cell_type": "code",
      "source": [
        "import os\n",
        "import graphviz\n",
        "from sklearn.tree import DecisionTreeClassifier, export_graphviz"
      ],
      "metadata": {
        "id": "elQZxJ1Uvdfp"
      },
      "execution_count": 53,
      "outputs": []
    },
    {
      "cell_type": "code",
      "source": [
        "dot_data = export_graphviz(dt, out_file=None, \n",
        " feature_names=X.columns, \n",
        " filled=True, rounded=True, \n",
        " special_characters=True)\n",
        "graph = graphviz.Source(dot_data)\n",
        "graph"
      ],
      "metadata": {
        "colab": {
          "base_uri": "https://localhost:8080/",
          "height": 1000
        },
        "id": "KGET1Zz_v8RH",
        "outputId": "303abc98-167a-45d8-b5c4-0405f8bd586f"
      },
      "execution_count": 54,
      "outputs": [
        {
          "output_type": "execute_result",
          "data": {
            "text/plain": [
              "<graphviz.files.Source at 0x7fb1c64d1c90>"
            ],
            "image/svg+xml": "<?xml version=\"1.0\" encoding=\"UTF-8\" standalone=\"no\"?>\n<!DOCTYPE svg PUBLIC \"-//W3C//DTD SVG 1.1//EN\"\n \"http://www.w3.org/Graphics/SVG/1.1/DTD/svg11.dtd\">\n<!-- Generated by graphviz version 2.40.1 (20161225.0304)\n -->\n<!-- Title: Tree Pages: 1 -->\n<svg width=\"1558pt\" height=\"789pt\"\n viewBox=\"0.00 0.00 1557.50 789.00\" xmlns=\"http://www.w3.org/2000/svg\" xmlns:xlink=\"http://www.w3.org/1999/xlink\">\n<g id=\"graph0\" class=\"graph\" transform=\"scale(1 1) rotate(0) translate(4 785)\">\n<title>Tree</title>\n<polygon fill=\"#ffffff\" stroke=\"transparent\" points=\"-4,4 -4,-785 1553.5,-785 1553.5,4 -4,4\"/>\n<!-- 0 -->\n<g id=\"node1\" class=\"node\">\n<title>0</title>\n<path fill=\"#fdf7f3\" stroke=\"#000000\" d=\"M667,-781C667,-781 542,-781 542,-781 536,-781 530,-775 530,-769 530,-769 530,-725 530,-725 530,-719 536,-713 542,-713 542,-713 667,-713 667,-713 673,-713 679,-719 679,-725 679,-725 679,-769 679,-769 679,-775 673,-781 667,-781\"/>\n<text text-anchor=\"start\" x=\"553.5\" y=\"-765.8\" font-family=\"Helvetica,sans-Serif\" font-size=\"14.00\" fill=\"#000000\">gill&#45;color ≤ &#45;0.37</text>\n<text text-anchor=\"start\" x=\"566.5\" y=\"-750.8\" font-family=\"Helvetica,sans-Serif\" font-size=\"14.00\" fill=\"#000000\">gini = 0.499</text>\n<text text-anchor=\"start\" x=\"552.5\" y=\"-735.8\" font-family=\"Helvetica,sans-Serif\" font-size=\"14.00\" fill=\"#000000\">samples = 6499</text>\n<text text-anchor=\"start\" x=\"538\" y=\"-720.8\" font-family=\"Helvetica,sans-Serif\" font-size=\"14.00\" fill=\"#000000\">value = [3355, 3144]</text>\n</g>\n<!-- 1 -->\n<g id=\"node2\" class=\"node\">\n<title>1</title>\n<path fill=\"#60b0ea\" stroke=\"#000000\" d=\"M507.5,-677C507.5,-677 391.5,-677 391.5,-677 385.5,-677 379.5,-671 379.5,-665 379.5,-665 379.5,-621 379.5,-621 379.5,-615 385.5,-609 391.5,-609 391.5,-609 507.5,-609 507.5,-609 513.5,-609 519.5,-615 519.5,-621 519.5,-621 519.5,-665 519.5,-665 519.5,-671 513.5,-677 507.5,-677\"/>\n<text text-anchor=\"start\" x=\"387.5\" y=\"-661.8\" font-family=\"Helvetica,sans-Serif\" font-size=\"14.00\" fill=\"#000000\">population ≤ &#45;0.115</text>\n<text text-anchor=\"start\" x=\"411.5\" y=\"-646.8\" font-family=\"Helvetica,sans-Serif\" font-size=\"14.00\" fill=\"#000000\">gini = 0.277</text>\n<text text-anchor=\"start\" x=\"397.5\" y=\"-631.8\" font-family=\"Helvetica,sans-Serif\" font-size=\"14.00\" fill=\"#000000\">samples = 2640</text>\n<text text-anchor=\"start\" x=\"387.5\" y=\"-616.8\" font-family=\"Helvetica,sans-Serif\" font-size=\"14.00\" fill=\"#000000\">value = [438, 2202]</text>\n</g>\n<!-- 0&#45;&gt;1 -->\n<g id=\"edge1\" class=\"edge\">\n<title>0&#45;&gt;1</title>\n<path fill=\"none\" stroke=\"#000000\" d=\"M553.7472,-712.9465C539.429,-703.3395 523.7225,-692.8009 508.9437,-682.8848\"/>\n<polygon fill=\"#000000\" stroke=\"#000000\" points=\"510.6209,-679.7953 500.3668,-677.13 506.7207,-685.6081 510.6209,-679.7953\"/>\n<text text-anchor=\"middle\" x=\"505.1969\" y=\"-697.959\" font-family=\"Helvetica,sans-Serif\" font-size=\"14.00\" fill=\"#000000\">True</text>\n</g>\n<!-- 14 -->\n<g id=\"node15\" class=\"node\">\n<title>14</title>\n<path fill=\"#edaa79\" stroke=\"#000000\" d=\"M828.5,-677C828.5,-677 682.5,-677 682.5,-677 676.5,-677 670.5,-671 670.5,-665 670.5,-665 670.5,-621 670.5,-621 670.5,-615 676.5,-609 682.5,-609 682.5,-609 828.5,-609 828.5,-609 834.5,-609 840.5,-615 840.5,-621 840.5,-621 840.5,-665 840.5,-665 840.5,-671 834.5,-677 828.5,-677\"/>\n<text text-anchor=\"start\" x=\"678.5\" y=\"-661.8\" font-family=\"Helvetica,sans-Serif\" font-size=\"14.00\" fill=\"#000000\">spore&#45;print&#45;color ≤ &#45;0.88</text>\n<text text-anchor=\"start\" x=\"717.5\" y=\"-646.8\" font-family=\"Helvetica,sans-Serif\" font-size=\"14.00\" fill=\"#000000\">gini = 0.369</text>\n<text text-anchor=\"start\" x=\"703.5\" y=\"-631.8\" font-family=\"Helvetica,sans-Serif\" font-size=\"14.00\" fill=\"#000000\">samples = 3859</text>\n<text text-anchor=\"start\" x=\"693.5\" y=\"-616.8\" font-family=\"Helvetica,sans-Serif\" font-size=\"14.00\" fill=\"#000000\">value = [2917, 942]</text>\n</g>\n<!-- 0&#45;&gt;14 -->\n<g id=\"edge14\" class=\"edge\">\n<title>0&#45;&gt;14</title>\n<path fill=\"none\" stroke=\"#000000\" d=\"M653.943,-712.9465C667.8917,-703.3395 683.1929,-692.8009 697.5903,-682.8848\"/>\n<polygon fill=\"#000000\" stroke=\"#000000\" points=\"699.6955,-685.6848 705.9459,-677.13 695.7249,-679.9198 699.6955,-685.6848\"/>\n<text text-anchor=\"middle\" x=\"701.4144\" y=\"-698.0159\" font-family=\"Helvetica,sans-Serif\" font-size=\"14.00\" fill=\"#000000\">False</text>\n</g>\n<!-- 2 -->\n<g id=\"node3\" class=\"node\">\n<title>2</title>\n<path fill=\"#e99254\" stroke=\"#000000\" d=\"M260.5,-573C260.5,-573 114.5,-573 114.5,-573 108.5,-573 102.5,-567 102.5,-561 102.5,-561 102.5,-517 102.5,-517 102.5,-511 108.5,-505 114.5,-505 114.5,-505 260.5,-505 260.5,-505 266.5,-505 272.5,-511 272.5,-517 272.5,-517 272.5,-561 272.5,-561 272.5,-567 266.5,-573 260.5,-573\"/>\n<text text-anchor=\"start\" x=\"110.5\" y=\"-557.8\" font-family=\"Helvetica,sans-Serif\" font-size=\"14.00\" fill=\"#000000\">spore&#45;print&#45;color ≤ &#45;0.88</text>\n<text text-anchor=\"start\" x=\"149.5\" y=\"-542.8\" font-family=\"Helvetica,sans-Serif\" font-size=\"14.00\" fill=\"#000000\">gini = 0.211</text>\n<text text-anchor=\"start\" x=\"139.5\" y=\"-527.8\" font-family=\"Helvetica,sans-Serif\" font-size=\"14.00\" fill=\"#000000\">samples = 467</text>\n<text text-anchor=\"start\" x=\"133.5\" y=\"-512.8\" font-family=\"Helvetica,sans-Serif\" font-size=\"14.00\" fill=\"#000000\">value = [411, 56]</text>\n</g>\n<!-- 1&#45;&gt;2 -->\n<g id=\"edge2\" class=\"edge\">\n<title>1&#45;&gt;2</title>\n<path fill=\"none\" stroke=\"#000000\" d=\"M379.2888,-615.1299C349.4897,-603.3012 314.2983,-589.3321 282.249,-576.6103\"/>\n<polygon fill=\"#000000\" stroke=\"#000000\" points=\"283.444,-573.319 272.8581,-572.8826 280.8613,-579.8252 283.444,-573.319\"/>\n</g>\n<!-- 7 -->\n<g id=\"node8\" class=\"node\">\n<title>7</title>\n<path fill=\"#3b9ee5\" stroke=\"#000000\" d=\"M503.5,-573C503.5,-573 395.5,-573 395.5,-573 389.5,-573 383.5,-567 383.5,-561 383.5,-561 383.5,-517 383.5,-517 383.5,-511 389.5,-505 395.5,-505 395.5,-505 503.5,-505 503.5,-505 509.5,-505 515.5,-511 515.5,-517 515.5,-517 515.5,-561 515.5,-561 515.5,-567 509.5,-573 503.5,-573\"/>\n<text text-anchor=\"start\" x=\"393.5\" y=\"-557.8\" font-family=\"Helvetica,sans-Serif\" font-size=\"14.00\" fill=\"#000000\">stalk&#45;root ≤ 0.839</text>\n<text text-anchor=\"start\" x=\"411.5\" y=\"-542.8\" font-family=\"Helvetica,sans-Serif\" font-size=\"14.00\" fill=\"#000000\">gini = 0.025</text>\n<text text-anchor=\"start\" x=\"397.5\" y=\"-527.8\" font-family=\"Helvetica,sans-Serif\" font-size=\"14.00\" fill=\"#000000\">samples = 2173</text>\n<text text-anchor=\"start\" x=\"391.5\" y=\"-512.8\" font-family=\"Helvetica,sans-Serif\" font-size=\"14.00\" fill=\"#000000\">value = [27, 2146]</text>\n</g>\n<!-- 1&#45;&gt;7 -->\n<g id=\"edge7\" class=\"edge\">\n<title>1&#45;&gt;7</title>\n<path fill=\"none\" stroke=\"#000000\" d=\"M449.5,-608.9465C449.5,-600.776 449.5,-591.9318 449.5,-583.3697\"/>\n<polygon fill=\"#000000\" stroke=\"#000000\" points=\"453.0001,-583.13 449.5,-573.13 446.0001,-583.13 453.0001,-583.13\"/>\n</g>\n<!-- 3 -->\n<g id=\"node4\" class=\"node\">\n<title>3</title>\n<path fill=\"#399de5\" stroke=\"#000000\" d=\"M95,-461.5C95,-461.5 12,-461.5 12,-461.5 6,-461.5 0,-455.5 0,-449.5 0,-449.5 0,-420.5 0,-420.5 0,-414.5 6,-408.5 12,-408.5 12,-408.5 95,-408.5 95,-408.5 101,-408.5 107,-414.5 107,-420.5 107,-420.5 107,-449.5 107,-449.5 107,-455.5 101,-461.5 95,-461.5\"/>\n<text text-anchor=\"start\" x=\"24\" y=\"-446.3\" font-family=\"Helvetica,sans-Serif\" font-size=\"14.00\" fill=\"#000000\">gini = 0.0</text>\n<text text-anchor=\"start\" x=\"9.5\" y=\"-431.3\" font-family=\"Helvetica,sans-Serif\" font-size=\"14.00\" fill=\"#000000\">samples = 37</text>\n<text text-anchor=\"start\" x=\"8\" y=\"-416.3\" font-family=\"Helvetica,sans-Serif\" font-size=\"14.00\" fill=\"#000000\">value = [0, 37]</text>\n</g>\n<!-- 2&#45;&gt;3 -->\n<g id=\"edge3\" class=\"edge\">\n<title>2&#45;&gt;3</title>\n<path fill=\"none\" stroke=\"#000000\" d=\"M143.6234,-504.9465C128.2957,-493.0504 111.1277,-479.726 95.9209,-467.9237\"/>\n<polygon fill=\"#000000\" stroke=\"#000000\" points=\"97.7444,-464.9085 87.6986,-461.5422 93.4525,-470.4384 97.7444,-464.9085\"/>\n</g>\n<!-- 4 -->\n<g id=\"node5\" class=\"node\">\n<title>4</title>\n<path fill=\"#e68742\" stroke=\"#000000\" d=\"M237.5,-469C237.5,-469 137.5,-469 137.5,-469 131.5,-469 125.5,-463 125.5,-457 125.5,-457 125.5,-413 125.5,-413 125.5,-407 131.5,-401 137.5,-401 137.5,-401 237.5,-401 237.5,-401 243.5,-401 249.5,-407 249.5,-413 249.5,-413 249.5,-457 249.5,-457 249.5,-463 243.5,-469 237.5,-469\"/>\n<text text-anchor=\"start\" x=\"137.5\" y=\"-453.8\" font-family=\"Helvetica,sans-Serif\" font-size=\"14.00\" fill=\"#000000\">gill&#45;size ≤ 0.413</text>\n<text text-anchor=\"start\" x=\"149.5\" y=\"-438.8\" font-family=\"Helvetica,sans-Serif\" font-size=\"14.00\" fill=\"#000000\">gini = 0.084</text>\n<text text-anchor=\"start\" x=\"139.5\" y=\"-423.8\" font-family=\"Helvetica,sans-Serif\" font-size=\"14.00\" fill=\"#000000\">samples = 430</text>\n<text text-anchor=\"start\" x=\"133.5\" y=\"-408.8\" font-family=\"Helvetica,sans-Serif\" font-size=\"14.00\" fill=\"#000000\">value = [411, 19]</text>\n</g>\n<!-- 2&#45;&gt;4 -->\n<g id=\"edge4\" class=\"edge\">\n<title>2&#45;&gt;4</title>\n<path fill=\"none\" stroke=\"#000000\" d=\"M187.5,-504.9465C187.5,-496.776 187.5,-487.9318 187.5,-479.3697\"/>\n<polygon fill=\"#000000\" stroke=\"#000000\" points=\"191.0001,-479.13 187.5,-469.13 184.0001,-479.13 191.0001,-479.13\"/>\n</g>\n<!-- 5 -->\n<g id=\"node6\" class=\"node\">\n<title>5</title>\n<path fill=\"#e58139\" stroke=\"#000000\" d=\"M116.5,-357.5C116.5,-357.5 24.5,-357.5 24.5,-357.5 18.5,-357.5 12.5,-351.5 12.5,-345.5 12.5,-345.5 12.5,-316.5 12.5,-316.5 12.5,-310.5 18.5,-304.5 24.5,-304.5 24.5,-304.5 116.5,-304.5 116.5,-304.5 122.5,-304.5 128.5,-310.5 128.5,-316.5 128.5,-316.5 128.5,-345.5 128.5,-345.5 128.5,-351.5 122.5,-357.5 116.5,-357.5\"/>\n<text text-anchor=\"start\" x=\"41\" y=\"-342.3\" font-family=\"Helvetica,sans-Serif\" font-size=\"14.00\" fill=\"#000000\">gini = 0.0</text>\n<text text-anchor=\"start\" x=\"22.5\" y=\"-327.3\" font-family=\"Helvetica,sans-Serif\" font-size=\"14.00\" fill=\"#000000\">samples = 411</text>\n<text text-anchor=\"start\" x=\"20.5\" y=\"-312.3\" font-family=\"Helvetica,sans-Serif\" font-size=\"14.00\" fill=\"#000000\">value = [411, 0]</text>\n</g>\n<!-- 4&#45;&gt;5 -->\n<g id=\"edge5\" class=\"edge\">\n<title>4&#45;&gt;5</title>\n<path fill=\"none\" stroke=\"#000000\" d=\"M149.1898,-400.9465C135.9306,-389.1606 121.0942,-375.9726 107.9084,-364.2519\"/>\n<polygon fill=\"#000000\" stroke=\"#000000\" points=\"110.1593,-361.5699 100.3599,-357.5422 105.5088,-366.8018 110.1593,-361.5699\"/>\n</g>\n<!-- 6 -->\n<g id=\"node7\" class=\"node\">\n<title>6</title>\n<path fill=\"#399de5\" stroke=\"#000000\" d=\"M242,-357.5C242,-357.5 159,-357.5 159,-357.5 153,-357.5 147,-351.5 147,-345.5 147,-345.5 147,-316.5 147,-316.5 147,-310.5 153,-304.5 159,-304.5 159,-304.5 242,-304.5 242,-304.5 248,-304.5 254,-310.5 254,-316.5 254,-316.5 254,-345.5 254,-345.5 254,-351.5 248,-357.5 242,-357.5\"/>\n<text text-anchor=\"start\" x=\"171\" y=\"-342.3\" font-family=\"Helvetica,sans-Serif\" font-size=\"14.00\" fill=\"#000000\">gini = 0.0</text>\n<text text-anchor=\"start\" x=\"156.5\" y=\"-327.3\" font-family=\"Helvetica,sans-Serif\" font-size=\"14.00\" fill=\"#000000\">samples = 19</text>\n<text text-anchor=\"start\" x=\"155\" y=\"-312.3\" font-family=\"Helvetica,sans-Serif\" font-size=\"14.00\" fill=\"#000000\">value = [0, 19]</text>\n</g>\n<!-- 4&#45;&gt;6 -->\n<g id=\"edge6\" class=\"edge\">\n<title>4&#45;&gt;6</title>\n<path fill=\"none\" stroke=\"#000000\" d=\"M191.7567,-400.9465C193.0922,-390.2621 194.5718,-378.4254 195.9282,-367.5742\"/>\n<polygon fill=\"#000000\" stroke=\"#000000\" points=\"199.4148,-367.8991 197.1822,-357.5422 192.4688,-367.0308 199.4148,-367.8991\"/>\n</g>\n<!-- 8 -->\n<g id=\"node9\" class=\"node\">\n<title>8</title>\n<path fill=\"#3a9de5\" stroke=\"#000000\" d=\"M483,-469C483,-469 280,-469 280,-469 274,-469 268,-463 268,-457 268,-457 268,-413 268,-413 268,-407 274,-401 280,-401 280,-401 483,-401 483,-401 489,-401 495,-407 495,-413 495,-413 495,-457 495,-457 495,-463 489,-469 483,-469\"/>\n<text text-anchor=\"start\" x=\"276\" y=\"-453.8\" font-family=\"Helvetica,sans-Serif\" font-size=\"14.00\" fill=\"#000000\">stalk&#45;surface&#45;below&#45;ring ≤ &#45;1.633</text>\n<text text-anchor=\"start\" x=\"343.5\" y=\"-438.8\" font-family=\"Helvetica,sans-Serif\" font-size=\"14.00\" fill=\"#000000\">gini = 0.007</text>\n<text text-anchor=\"start\" x=\"329.5\" y=\"-423.8\" font-family=\"Helvetica,sans-Serif\" font-size=\"14.00\" fill=\"#000000\">samples = 2154</text>\n<text text-anchor=\"start\" x=\"327.5\" y=\"-408.8\" font-family=\"Helvetica,sans-Serif\" font-size=\"14.00\" fill=\"#000000\">value = [8, 2146]</text>\n</g>\n<!-- 7&#45;&gt;8 -->\n<g id=\"edge8\" class=\"edge\">\n<title>7&#45;&gt;8</title>\n<path fill=\"none\" stroke=\"#000000\" d=\"M427.2343,-504.9465C421.5398,-496.2373 415.3448,-486.7626 409.4062,-477.6801\"/>\n<polygon fill=\"#000000\" stroke=\"#000000\" points=\"412.2177,-475.5843 403.8158,-469.13 406.3589,-479.4151 412.2177,-475.5843\"/>\n</g>\n<!-- 13 -->\n<g id=\"node14\" class=\"node\">\n<title>13</title>\n<path fill=\"#e58139\" stroke=\"#000000\" d=\"M608,-461.5C608,-461.5 525,-461.5 525,-461.5 519,-461.5 513,-455.5 513,-449.5 513,-449.5 513,-420.5 513,-420.5 513,-414.5 519,-408.5 525,-408.5 525,-408.5 608,-408.5 608,-408.5 614,-408.5 620,-414.5 620,-420.5 620,-420.5 620,-449.5 620,-449.5 620,-455.5 614,-461.5 608,-461.5\"/>\n<text text-anchor=\"start\" x=\"537\" y=\"-446.3\" font-family=\"Helvetica,sans-Serif\" font-size=\"14.00\" fill=\"#000000\">gini = 0.0</text>\n<text text-anchor=\"start\" x=\"522.5\" y=\"-431.3\" font-family=\"Helvetica,sans-Serif\" font-size=\"14.00\" fill=\"#000000\">samples = 19</text>\n<text text-anchor=\"start\" x=\"521\" y=\"-416.3\" font-family=\"Helvetica,sans-Serif\" font-size=\"14.00\" fill=\"#000000\">value = [19, 0]</text>\n</g>\n<!-- 7&#45;&gt;13 -->\n<g id=\"edge13\" class=\"edge\">\n<title>7&#45;&gt;13</title>\n<path fill=\"none\" stroke=\"#000000\" d=\"M487.8102,-504.9465C501.0694,-493.1606 515.9058,-479.9726 529.0916,-468.2519\"/>\n<polygon fill=\"#000000\" stroke=\"#000000\" points=\"531.4912,-470.8018 536.6401,-461.5422 526.8407,-465.5699 531.4912,-470.8018\"/>\n</g>\n<!-- 9 -->\n<g id=\"node10\" class=\"node\">\n<title>9</title>\n<path fill=\"#96cbf1\" stroke=\"#000000\" d=\"M430,-365C430,-365 309,-365 309,-365 303,-365 297,-359 297,-353 297,-353 297,-309 297,-309 297,-303 303,-297 309,-297 309,-297 430,-297 430,-297 436,-297 442,-303 442,-309 442,-309 442,-353 442,-353 442,-359 436,-365 430,-365\"/>\n<text text-anchor=\"start\" x=\"305\" y=\"-349.8\" font-family=\"Helvetica,sans-Serif\" font-size=\"14.00\" fill=\"#000000\">cap&#45;surface ≤ 0.547</text>\n<text text-anchor=\"start\" x=\"331.5\" y=\"-334.8\" font-family=\"Helvetica,sans-Serif\" font-size=\"14.00\" fill=\"#000000\">gini = 0.435</text>\n<text text-anchor=\"start\" x=\"325.5\" y=\"-319.8\" font-family=\"Helvetica,sans-Serif\" font-size=\"14.00\" fill=\"#000000\">samples = 25</text>\n<text text-anchor=\"start\" x=\"324\" y=\"-304.8\" font-family=\"Helvetica,sans-Serif\" font-size=\"14.00\" fill=\"#000000\">value = [8, 17]</text>\n</g>\n<!-- 8&#45;&gt;9 -->\n<g id=\"edge9\" class=\"edge\">\n<title>8&#45;&gt;9</title>\n<path fill=\"none\" stroke=\"#000000\" d=\"M377.5708,-400.9465C376.6176,-392.6863 375.5851,-383.7374 374.587,-375.0875\"/>\n<polygon fill=\"#000000\" stroke=\"#000000\" points=\"378.0613,-374.6629 373.4381,-365.13 371.1075,-375.4653 378.0613,-374.6629\"/>\n</g>\n<!-- 12 -->\n<g id=\"node13\" class=\"node\">\n<title>12</title>\n<path fill=\"#399de5\" stroke=\"#000000\" d=\"M572.5,-357.5C572.5,-357.5 472.5,-357.5 472.5,-357.5 466.5,-357.5 460.5,-351.5 460.5,-345.5 460.5,-345.5 460.5,-316.5 460.5,-316.5 460.5,-310.5 466.5,-304.5 472.5,-304.5 472.5,-304.5 572.5,-304.5 572.5,-304.5 578.5,-304.5 584.5,-310.5 584.5,-316.5 584.5,-316.5 584.5,-345.5 584.5,-345.5 584.5,-351.5 578.5,-357.5 572.5,-357.5\"/>\n<text text-anchor=\"start\" x=\"493\" y=\"-342.3\" font-family=\"Helvetica,sans-Serif\" font-size=\"14.00\" fill=\"#000000\">gini = 0.0</text>\n<text text-anchor=\"start\" x=\"470.5\" y=\"-327.3\" font-family=\"Helvetica,sans-Serif\" font-size=\"14.00\" fill=\"#000000\">samples = 2129</text>\n<text text-anchor=\"start\" x=\"468.5\" y=\"-312.3\" font-family=\"Helvetica,sans-Serif\" font-size=\"14.00\" fill=\"#000000\">value = [0, 2129]</text>\n</g>\n<!-- 8&#45;&gt;12 -->\n<g id=\"edge12\" class=\"edge\">\n<title>8&#45;&gt;12</title>\n<path fill=\"none\" stroke=\"#000000\" d=\"M427.6687,-400.9465C443.9464,-388.9403 462.1965,-375.4791 478.307,-363.5962\"/>\n<polygon fill=\"#000000\" stroke=\"#000000\" points=\"480.5448,-366.2948 486.515,-357.5422 476.3897,-360.6614 480.5448,-366.2948\"/>\n</g>\n<!-- 10 -->\n<g id=\"node11\" class=\"node\">\n<title>10</title>\n<path fill=\"#399de5\" stroke=\"#000000\" d=\"M350,-253.5C350,-253.5 267,-253.5 267,-253.5 261,-253.5 255,-247.5 255,-241.5 255,-241.5 255,-212.5 255,-212.5 255,-206.5 261,-200.5 267,-200.5 267,-200.5 350,-200.5 350,-200.5 356,-200.5 362,-206.5 362,-212.5 362,-212.5 362,-241.5 362,-241.5 362,-247.5 356,-253.5 350,-253.5\"/>\n<text text-anchor=\"start\" x=\"279\" y=\"-238.3\" font-family=\"Helvetica,sans-Serif\" font-size=\"14.00\" fill=\"#000000\">gini = 0.0</text>\n<text text-anchor=\"start\" x=\"264.5\" y=\"-223.3\" font-family=\"Helvetica,sans-Serif\" font-size=\"14.00\" fill=\"#000000\">samples = 17</text>\n<text text-anchor=\"start\" x=\"263\" y=\"-208.3\" font-family=\"Helvetica,sans-Serif\" font-size=\"14.00\" fill=\"#000000\">value = [0, 17]</text>\n</g>\n<!-- 9&#45;&gt;10 -->\n<g id=\"edge10\" class=\"edge\">\n<title>9&#45;&gt;10</title>\n<path fill=\"none\" stroke=\"#000000\" d=\"M349.5263,-296.9465C343.001,-285.8215 335.7431,-273.4473 329.1678,-262.237\"/>\n<polygon fill=\"#000000\" stroke=\"#000000\" points=\"332.1464,-260.3971 324.068,-253.5422 326.1084,-263.9387 332.1464,-260.3971\"/>\n</g>\n<!-- 11 -->\n<g id=\"node12\" class=\"node\">\n<title>11</title>\n<path fill=\"#e58139\" stroke=\"#000000\" d=\"M467,-253.5C467,-253.5 392,-253.5 392,-253.5 386,-253.5 380,-247.5 380,-241.5 380,-241.5 380,-212.5 380,-212.5 380,-206.5 386,-200.5 392,-200.5 392,-200.5 467,-200.5 467,-200.5 473,-200.5 479,-206.5 479,-212.5 479,-212.5 479,-241.5 479,-241.5 479,-247.5 473,-253.5 467,-253.5\"/>\n<text text-anchor=\"start\" x=\"400\" y=\"-238.3\" font-family=\"Helvetica,sans-Serif\" font-size=\"14.00\" fill=\"#000000\">gini = 0.0</text>\n<text text-anchor=\"start\" x=\"390\" y=\"-223.3\" font-family=\"Helvetica,sans-Serif\" font-size=\"14.00\" fill=\"#000000\">samples = 8</text>\n<text text-anchor=\"start\" x=\"388\" y=\"-208.3\" font-family=\"Helvetica,sans-Serif\" font-size=\"14.00\" fill=\"#000000\">value = [8, 0]</text>\n</g>\n<!-- 9&#45;&gt;11 -->\n<g id=\"edge11\" class=\"edge\">\n<title>9&#45;&gt;11</title>\n<path fill=\"none\" stroke=\"#000000\" d=\"M389.1462,-296.9465C395.5645,-285.8215 402.7035,-273.4473 409.171,-262.237\"/>\n<polygon fill=\"#000000\" stroke=\"#000000\" points=\"412.2216,-263.9531 414.1872,-253.5422 406.1583,-260.455 412.2216,-263.9531\"/>\n</g>\n<!-- 15 -->\n<g id=\"node16\" class=\"node\">\n<title>15</title>\n<path fill=\"#54abe9\" stroke=\"#000000\" d=\"M809.5,-573C809.5,-573 701.5,-573 701.5,-573 695.5,-573 689.5,-567 689.5,-561 689.5,-561 689.5,-517 689.5,-517 689.5,-511 695.5,-505 701.5,-505 701.5,-505 809.5,-505 809.5,-505 815.5,-505 821.5,-511 821.5,-517 821.5,-517 821.5,-561 821.5,-561 821.5,-567 815.5,-573 809.5,-573\"/>\n<text text-anchor=\"start\" x=\"697.5\" y=\"-557.8\" font-family=\"Helvetica,sans-Serif\" font-size=\"14.00\" fill=\"#000000\">stalk&#45;root ≤ &#45;0.575</text>\n<text text-anchor=\"start\" x=\"717.5\" y=\"-542.8\" font-family=\"Helvetica,sans-Serif\" font-size=\"14.00\" fill=\"#000000\">gini = 0.214</text>\n<text text-anchor=\"start\" x=\"707.5\" y=\"-527.8\" font-family=\"Helvetica,sans-Serif\" font-size=\"14.00\" fill=\"#000000\">samples = 576</text>\n<text text-anchor=\"start\" x=\"701.5\" y=\"-512.8\" font-family=\"Helvetica,sans-Serif\" font-size=\"14.00\" fill=\"#000000\">value = [70, 506]</text>\n</g>\n<!-- 14&#45;&gt;15 -->\n<g id=\"edge15\" class=\"edge\">\n<title>14&#45;&gt;15</title>\n<path fill=\"none\" stroke=\"#000000\" d=\"M755.5,-608.9465C755.5,-600.776 755.5,-591.9318 755.5,-583.3697\"/>\n<polygon fill=\"#000000\" stroke=\"#000000\" points=\"759.0001,-583.13 755.5,-573.13 752.0001,-583.13 759.0001,-583.13\"/>\n</g>\n<!-- 18 -->\n<g id=\"node19\" class=\"node\">\n<title>18</title>\n<path fill=\"#e99457\" stroke=\"#000000\" d=\"M1031.5,-573C1031.5,-573 915.5,-573 915.5,-573 909.5,-573 903.5,-567 903.5,-561 903.5,-561 903.5,-517 903.5,-517 903.5,-511 909.5,-505 915.5,-505 915.5,-505 1031.5,-505 1031.5,-505 1037.5,-505 1043.5,-511 1043.5,-517 1043.5,-517 1043.5,-561 1043.5,-561 1043.5,-567 1037.5,-573 1031.5,-573\"/>\n<text text-anchor=\"start\" x=\"923.5\" y=\"-557.8\" font-family=\"Helvetica,sans-Serif\" font-size=\"14.00\" fill=\"#000000\">gill&#45;size ≤ 0.413</text>\n<text text-anchor=\"start\" x=\"940\" y=\"-542.8\" font-family=\"Helvetica,sans-Serif\" font-size=\"14.00\" fill=\"#000000\">gini = 0.23</text>\n<text text-anchor=\"start\" x=\"921.5\" y=\"-527.8\" font-family=\"Helvetica,sans-Serif\" font-size=\"14.00\" fill=\"#000000\">samples = 3283</text>\n<text text-anchor=\"start\" x=\"911.5\" y=\"-512.8\" font-family=\"Helvetica,sans-Serif\" font-size=\"14.00\" fill=\"#000000\">value = [2847, 436]</text>\n</g>\n<!-- 14&#45;&gt;18 -->\n<g id=\"edge18\" class=\"edge\">\n<title>14&#45;&gt;18</title>\n<path fill=\"none\" stroke=\"#000000\" d=\"M826.8814,-608.9465C848.3948,-598.6832 872.1367,-587.3568 894.1357,-576.8619\"/>\n<polygon fill=\"#000000\" stroke=\"#000000\" points=\"895.927,-579.8852 903.4456,-572.4205 892.913,-573.5673 895.927,-579.8852\"/>\n</g>\n<!-- 16 -->\n<g id=\"node17\" class=\"node\">\n<title>16</title>\n<path fill=\"#e58139\" stroke=\"#000000\" d=\"M733,-461.5C733,-461.5 650,-461.5 650,-461.5 644,-461.5 638,-455.5 638,-449.5 638,-449.5 638,-420.5 638,-420.5 638,-414.5 644,-408.5 650,-408.5 650,-408.5 733,-408.5 733,-408.5 739,-408.5 745,-414.5 745,-420.5 745,-420.5 745,-449.5 745,-449.5 745,-455.5 739,-461.5 733,-461.5\"/>\n<text text-anchor=\"start\" x=\"662\" y=\"-446.3\" font-family=\"Helvetica,sans-Serif\" font-size=\"14.00\" fill=\"#000000\">gini = 0.0</text>\n<text text-anchor=\"start\" x=\"647.5\" y=\"-431.3\" font-family=\"Helvetica,sans-Serif\" font-size=\"14.00\" fill=\"#000000\">samples = 70</text>\n<text text-anchor=\"start\" x=\"646\" y=\"-416.3\" font-family=\"Helvetica,sans-Serif\" font-size=\"14.00\" fill=\"#000000\">value = [70, 0]</text>\n</g>\n<!-- 15&#45;&gt;16 -->\n<g id=\"edge16\" class=\"edge\">\n<title>15&#45;&gt;16</title>\n<path fill=\"none\" stroke=\"#000000\" d=\"M734.544,-504.9465C727.6978,-493.8215 720.0829,-481.4473 713.1843,-470.237\"/>\n<polygon fill=\"#000000\" stroke=\"#000000\" points=\"716.0555,-468.2244 707.8336,-461.5422 710.0939,-471.8931 716.0555,-468.2244\"/>\n</g>\n<!-- 17 -->\n<g id=\"node18\" class=\"node\">\n<title>17</title>\n<path fill=\"#399de5\" stroke=\"#000000\" d=\"M867.5,-461.5C867.5,-461.5 775.5,-461.5 775.5,-461.5 769.5,-461.5 763.5,-455.5 763.5,-449.5 763.5,-449.5 763.5,-420.5 763.5,-420.5 763.5,-414.5 769.5,-408.5 775.5,-408.5 775.5,-408.5 867.5,-408.5 867.5,-408.5 873.5,-408.5 879.5,-414.5 879.5,-420.5 879.5,-420.5 879.5,-449.5 879.5,-449.5 879.5,-455.5 873.5,-461.5 867.5,-461.5\"/>\n<text text-anchor=\"start\" x=\"792\" y=\"-446.3\" font-family=\"Helvetica,sans-Serif\" font-size=\"14.00\" fill=\"#000000\">gini = 0.0</text>\n<text text-anchor=\"start\" x=\"773.5\" y=\"-431.3\" font-family=\"Helvetica,sans-Serif\" font-size=\"14.00\" fill=\"#000000\">samples = 506</text>\n<text text-anchor=\"start\" x=\"771.5\" y=\"-416.3\" font-family=\"Helvetica,sans-Serif\" font-size=\"14.00\" fill=\"#000000\">value = [0, 506]</text>\n</g>\n<!-- 15&#45;&gt;17 -->\n<g id=\"edge17\" class=\"edge\">\n<title>15&#45;&gt;17</title>\n<path fill=\"none\" stroke=\"#000000\" d=\"M777.1109,-504.9465C784.171,-493.8215 792.0239,-481.4473 799.1381,-470.237\"/>\n<polygon fill=\"#000000\" stroke=\"#000000\" points=\"802.2528,-471.8609 804.6559,-461.5422 796.3425,-468.1101 802.2528,-471.8609\"/>\n</g>\n<!-- 19 -->\n<g id=\"node20\" class=\"node\">\n<title>19</title>\n<path fill=\"#e6843e\" stroke=\"#000000\" d=\"M1037,-469C1037,-469 910,-469 910,-469 904,-469 898,-463 898,-457 898,-457 898,-413 898,-413 898,-407 904,-401 910,-401 910,-401 1037,-401 1037,-401 1043,-401 1049,-407 1049,-413 1049,-413 1049,-457 1049,-457 1049,-463 1043,-469 1037,-469\"/>\n<text text-anchor=\"start\" x=\"906\" y=\"-453.8\" font-family=\"Helvetica,sans-Serif\" font-size=\"14.00\" fill=\"#000000\">ring&#45;number ≤ &#45;2.101</text>\n<text text-anchor=\"start\" x=\"935.5\" y=\"-438.8\" font-family=\"Helvetica,sans-Serif\" font-size=\"14.00\" fill=\"#000000\">gini = 0.047</text>\n<text text-anchor=\"start\" x=\"921.5\" y=\"-423.8\" font-family=\"Helvetica,sans-Serif\" font-size=\"14.00\" fill=\"#000000\">samples = 2744</text>\n<text text-anchor=\"start\" x=\"915.5\" y=\"-408.8\" font-family=\"Helvetica,sans-Serif\" font-size=\"14.00\" fill=\"#000000\">value = [2678, 66]</text>\n</g>\n<!-- 18&#45;&gt;19 -->\n<g id=\"edge19\" class=\"edge\">\n<title>18&#45;&gt;19</title>\n<path fill=\"none\" stroke=\"#000000\" d=\"M973.5,-504.9465C973.5,-496.776 973.5,-487.9318 973.5,-479.3697\"/>\n<polygon fill=\"#000000\" stroke=\"#000000\" points=\"977.0001,-479.13 973.5,-469.13 970.0001,-479.13 977.0001,-479.13\"/>\n</g>\n<!-- 30 -->\n<g id=\"node31\" class=\"node\">\n<title>30</title>\n<path fill=\"#93caf1\" stroke=\"#000000\" d=\"M1214.5,-469C1214.5,-469 1090.5,-469 1090.5,-469 1084.5,-469 1078.5,-463 1078.5,-457 1078.5,-457 1078.5,-413 1078.5,-413 1078.5,-407 1084.5,-401 1090.5,-401 1090.5,-401 1214.5,-401 1214.5,-401 1220.5,-401 1226.5,-407 1226.5,-413 1226.5,-413 1226.5,-457 1226.5,-457 1226.5,-463 1220.5,-469 1214.5,-469\"/>\n<text text-anchor=\"start\" x=\"1086.5\" y=\"-453.8\" font-family=\"Helvetica,sans-Serif\" font-size=\"14.00\" fill=\"#000000\">stalk&#45;shape ≤ &#45;0.136</text>\n<text text-anchor=\"start\" x=\"1119\" y=\"-438.8\" font-family=\"Helvetica,sans-Serif\" font-size=\"14.00\" fill=\"#000000\">gini = 0.43</text>\n<text text-anchor=\"start\" x=\"1104.5\" y=\"-423.8\" font-family=\"Helvetica,sans-Serif\" font-size=\"14.00\" fill=\"#000000\">samples = 539</text>\n<text text-anchor=\"start\" x=\"1094.5\" y=\"-408.8\" font-family=\"Helvetica,sans-Serif\" font-size=\"14.00\" fill=\"#000000\">value = [169, 370]</text>\n</g>\n<!-- 18&#45;&gt;30 -->\n<g id=\"edge30\" class=\"edge\">\n<title>18&#45;&gt;30</title>\n<path fill=\"none\" stroke=\"#000000\" d=\"M1032.1113,-504.9465C1048.9555,-495.1599 1067.4636,-484.4066 1084.808,-474.3294\"/>\n<polygon fill=\"#000000\" stroke=\"#000000\" points=\"1086.8688,-477.18 1093.757,-469.13 1083.3522,-471.1274 1086.8688,-477.18\"/>\n</g>\n<!-- 20 -->\n<g id=\"node21\" class=\"node\">\n<title>20</title>\n<path fill=\"#399de5\" stroke=\"#000000\" d=\"M877,-357.5C877,-357.5 794,-357.5 794,-357.5 788,-357.5 782,-351.5 782,-345.5 782,-345.5 782,-316.5 782,-316.5 782,-310.5 788,-304.5 794,-304.5 794,-304.5 877,-304.5 877,-304.5 883,-304.5 889,-310.5 889,-316.5 889,-316.5 889,-345.5 889,-345.5 889,-351.5 883,-357.5 877,-357.5\"/>\n<text text-anchor=\"start\" x=\"806\" y=\"-342.3\" font-family=\"Helvetica,sans-Serif\" font-size=\"14.00\" fill=\"#000000\">gini = 0.0</text>\n<text text-anchor=\"start\" x=\"791.5\" y=\"-327.3\" font-family=\"Helvetica,sans-Serif\" font-size=\"14.00\" fill=\"#000000\">samples = 30</text>\n<text text-anchor=\"start\" x=\"790\" y=\"-312.3\" font-family=\"Helvetica,sans-Serif\" font-size=\"14.00\" fill=\"#000000\">value = [0, 30]</text>\n</g>\n<!-- 19&#45;&gt;20 -->\n<g id=\"edge20\" class=\"edge\">\n<title>19&#45;&gt;20</title>\n<path fill=\"none\" stroke=\"#000000\" d=\"M928.3136,-400.9465C912.3823,-388.9403 894.5204,-375.4791 878.7527,-363.5962\"/>\n<polygon fill=\"#000000\" stroke=\"#000000\" points=\"880.812,-360.7656 870.7194,-357.5422 876.599,-366.3558 880.812,-360.7656\"/>\n</g>\n<!-- 21 -->\n<g id=\"node22\" class=\"node\">\n<title>21</title>\n<path fill=\"#e5833c\" stroke=\"#000000\" d=\"M1028,-365C1028,-365 919,-365 919,-365 913,-365 907,-359 907,-353 907,-353 907,-309 907,-309 907,-303 913,-297 919,-297 919,-297 1028,-297 1028,-297 1034,-297 1040,-303 1040,-309 1040,-309 1040,-353 1040,-353 1040,-359 1034,-365 1028,-365\"/>\n<text text-anchor=\"start\" x=\"915\" y=\"-349.8\" font-family=\"Helvetica,sans-Serif\" font-size=\"14.00\" fill=\"#000000\">cap&#45;color ≤ &#45;1.573</text>\n<text text-anchor=\"start\" x=\"935.5\" y=\"-334.8\" font-family=\"Helvetica,sans-Serif\" font-size=\"14.00\" fill=\"#000000\">gini = 0.026</text>\n<text text-anchor=\"start\" x=\"921.5\" y=\"-319.8\" font-family=\"Helvetica,sans-Serif\" font-size=\"14.00\" fill=\"#000000\">samples = 2714</text>\n<text text-anchor=\"start\" x=\"915.5\" y=\"-304.8\" font-family=\"Helvetica,sans-Serif\" font-size=\"14.00\" fill=\"#000000\">value = [2678, 36]</text>\n</g>\n<!-- 19&#45;&gt;21 -->\n<g id=\"edge21\" class=\"edge\">\n<title>19&#45;&gt;21</title>\n<path fill=\"none\" stroke=\"#000000\" d=\"M973.5,-400.9465C973.5,-392.776 973.5,-383.9318 973.5,-375.3697\"/>\n<polygon fill=\"#000000\" stroke=\"#000000\" points=\"977.0001,-375.13 973.5,-365.13 970.0001,-375.13 977.0001,-375.13\"/>\n</g>\n<!-- 22 -->\n<g id=\"node23\" class=\"node\">\n<title>22</title>\n<path fill=\"#f8ddca\" stroke=\"#000000\" d=\"M859.5,-261C859.5,-261 743.5,-261 743.5,-261 737.5,-261 731.5,-255 731.5,-249 731.5,-249 731.5,-205 731.5,-205 731.5,-199 737.5,-193 743.5,-193 743.5,-193 859.5,-193 859.5,-193 865.5,-193 871.5,-199 871.5,-205 871.5,-205 871.5,-249 871.5,-249 871.5,-255 865.5,-261 859.5,-261\"/>\n<text text-anchor=\"start\" x=\"739.5\" y=\"-245.8\" font-family=\"Helvetica,sans-Serif\" font-size=\"14.00\" fill=\"#000000\">population ≤ &#45;0.914</text>\n<text text-anchor=\"start\" x=\"763.5\" y=\"-230.8\" font-family=\"Helvetica,sans-Serif\" font-size=\"14.00\" fill=\"#000000\">gini = 0.488</text>\n<text text-anchor=\"start\" x=\"757.5\" y=\"-215.8\" font-family=\"Helvetica,sans-Serif\" font-size=\"14.00\" fill=\"#000000\">samples = 26</text>\n<text text-anchor=\"start\" x=\"751.5\" y=\"-200.8\" font-family=\"Helvetica,sans-Serif\" font-size=\"14.00\" fill=\"#000000\">value = [15, 11]</text>\n</g>\n<!-- 21&#45;&gt;22 -->\n<g id=\"edge22\" class=\"edge\">\n<title>21&#45;&gt;22</title>\n<path fill=\"none\" stroke=\"#000000\" d=\"M917.1808,-296.9465C900.9952,-287.1599 883.211,-276.4066 866.5448,-266.3294\"/>\n<polygon fill=\"#000000\" stroke=\"#000000\" points=\"868.3141,-263.3092 857.9458,-261.13 864.6921,-269.2993 868.3141,-263.3092\"/>\n</g>\n<!-- 25 -->\n<g id=\"node26\" class=\"node\">\n<title>25</title>\n<path fill=\"#e5823b\" stroke=\"#000000\" d=\"M1034.5,-261C1034.5,-261 912.5,-261 912.5,-261 906.5,-261 900.5,-255 900.5,-249 900.5,-249 900.5,-205 900.5,-205 900.5,-199 906.5,-193 912.5,-193 912.5,-193 1034.5,-193 1034.5,-193 1040.5,-193 1046.5,-199 1046.5,-205 1046.5,-205 1046.5,-249 1046.5,-249 1046.5,-255 1040.5,-261 1034.5,-261\"/>\n<text text-anchor=\"start\" x=\"908.5\" y=\"-245.8\" font-family=\"Helvetica,sans-Serif\" font-size=\"14.00\" fill=\"#000000\">ring&#45;number ≤ 1.589</text>\n<text text-anchor=\"start\" x=\"935.5\" y=\"-230.8\" font-family=\"Helvetica,sans-Serif\" font-size=\"14.00\" fill=\"#000000\">gini = 0.018</text>\n<text text-anchor=\"start\" x=\"921.5\" y=\"-215.8\" font-family=\"Helvetica,sans-Serif\" font-size=\"14.00\" fill=\"#000000\">samples = 2688</text>\n<text text-anchor=\"start\" x=\"915.5\" y=\"-200.8\" font-family=\"Helvetica,sans-Serif\" font-size=\"14.00\" fill=\"#000000\">value = [2663, 25]</text>\n</g>\n<!-- 21&#45;&gt;25 -->\n<g id=\"edge25\" class=\"edge\">\n<title>21&#45;&gt;25</title>\n<path fill=\"none\" stroke=\"#000000\" d=\"M973.5,-296.9465C973.5,-288.776 973.5,-279.9318 973.5,-271.3697\"/>\n<polygon fill=\"#000000\" stroke=\"#000000\" points=\"977.0001,-271.13 973.5,-261.13 970.0001,-271.13 977.0001,-271.13\"/>\n</g>\n<!-- 23 -->\n<g id=\"node24\" class=\"node\">\n<title>23</title>\n<path fill=\"#e58139\" stroke=\"#000000\" d=\"M718,-149.5C718,-149.5 635,-149.5 635,-149.5 629,-149.5 623,-143.5 623,-137.5 623,-137.5 623,-108.5 623,-108.5 623,-102.5 629,-96.5 635,-96.5 635,-96.5 718,-96.5 718,-96.5 724,-96.5 730,-102.5 730,-108.5 730,-108.5 730,-137.5 730,-137.5 730,-143.5 724,-149.5 718,-149.5\"/>\n<text text-anchor=\"start\" x=\"647\" y=\"-134.3\" font-family=\"Helvetica,sans-Serif\" font-size=\"14.00\" fill=\"#000000\">gini = 0.0</text>\n<text text-anchor=\"start\" x=\"632.5\" y=\"-119.3\" font-family=\"Helvetica,sans-Serif\" font-size=\"14.00\" fill=\"#000000\">samples = 15</text>\n<text text-anchor=\"start\" x=\"631\" y=\"-104.3\" font-family=\"Helvetica,sans-Serif\" font-size=\"14.00\" fill=\"#000000\">value = [15, 0]</text>\n</g>\n<!-- 22&#45;&gt;23 -->\n<g id=\"edge23\" class=\"edge\">\n<title>22&#45;&gt;23</title>\n<path fill=\"none\" stroke=\"#000000\" d=\"M760.5703,-192.9465C746.4045,-181.1606 730.5537,-167.9726 716.4662,-156.2519\"/>\n<polygon fill=\"#000000\" stroke=\"#000000\" points=\"718.3275,-153.2474 708.4016,-149.5422 713.8504,-158.6285 718.3275,-153.2474\"/>\n</g>\n<!-- 24 -->\n<g id=\"node25\" class=\"node\">\n<title>24</title>\n<path fill=\"#399de5\" stroke=\"#000000\" d=\"M843,-149.5C843,-149.5 760,-149.5 760,-149.5 754,-149.5 748,-143.5 748,-137.5 748,-137.5 748,-108.5 748,-108.5 748,-102.5 754,-96.5 760,-96.5 760,-96.5 843,-96.5 843,-96.5 849,-96.5 855,-102.5 855,-108.5 855,-108.5 855,-137.5 855,-137.5 855,-143.5 849,-149.5 843,-149.5\"/>\n<text text-anchor=\"start\" x=\"772\" y=\"-134.3\" font-family=\"Helvetica,sans-Serif\" font-size=\"14.00\" fill=\"#000000\">gini = 0.0</text>\n<text text-anchor=\"start\" x=\"757.5\" y=\"-119.3\" font-family=\"Helvetica,sans-Serif\" font-size=\"14.00\" fill=\"#000000\">samples = 11</text>\n<text text-anchor=\"start\" x=\"756\" y=\"-104.3\" font-family=\"Helvetica,sans-Serif\" font-size=\"14.00\" fill=\"#000000\">value = [0, 11]</text>\n</g>\n<!-- 22&#45;&gt;24 -->\n<g id=\"edge24\" class=\"edge\">\n<title>22&#45;&gt;24</title>\n<path fill=\"none\" stroke=\"#000000\" d=\"M801.5,-192.9465C801.5,-182.2621 801.5,-170.4254 801.5,-159.5742\"/>\n<polygon fill=\"#000000\" stroke=\"#000000\" points=\"805.0001,-159.5421 801.5,-149.5422 798.0001,-159.5422 805.0001,-159.5421\"/>\n</g>\n<!-- 26 -->\n<g id=\"node27\" class=\"node\">\n<title>26</title>\n<path fill=\"#e58139\" stroke=\"#000000\" d=\"M985.5,-149.5C985.5,-149.5 885.5,-149.5 885.5,-149.5 879.5,-149.5 873.5,-143.5 873.5,-137.5 873.5,-137.5 873.5,-108.5 873.5,-108.5 873.5,-102.5 879.5,-96.5 885.5,-96.5 885.5,-96.5 985.5,-96.5 985.5,-96.5 991.5,-96.5 997.5,-102.5 997.5,-108.5 997.5,-108.5 997.5,-137.5 997.5,-137.5 997.5,-143.5 991.5,-149.5 985.5,-149.5\"/>\n<text text-anchor=\"start\" x=\"906\" y=\"-134.3\" font-family=\"Helvetica,sans-Serif\" font-size=\"14.00\" fill=\"#000000\">gini = 0.0</text>\n<text text-anchor=\"start\" x=\"883.5\" y=\"-119.3\" font-family=\"Helvetica,sans-Serif\" font-size=\"14.00\" fill=\"#000000\">samples = 2409</text>\n<text text-anchor=\"start\" x=\"881.5\" y=\"-104.3\" font-family=\"Helvetica,sans-Serif\" font-size=\"14.00\" fill=\"#000000\">value = [2409, 0]</text>\n</g>\n<!-- 25&#45;&gt;26 -->\n<g id=\"edge26\" class=\"edge\">\n<title>25&#45;&gt;26</title>\n<path fill=\"none\" stroke=\"#000000\" d=\"M961.0574,-192.9465C957.1132,-182.1519 952.7393,-170.1813 948.7411,-159.2389\"/>\n<polygon fill=\"#000000\" stroke=\"#000000\" points=\"951.9175,-157.7336 945.1981,-149.5422 945.3427,-160.136 951.9175,-157.7336\"/>\n</g>\n<!-- 27 -->\n<g id=\"node28\" class=\"node\">\n<title>27</title>\n<path fill=\"#e88d4c\" stroke=\"#000000\" d=\"M1177,-157C1177,-157 1028,-157 1028,-157 1022,-157 1016,-151 1016,-145 1016,-145 1016,-101 1016,-101 1016,-95 1022,-89 1028,-89 1028,-89 1177,-89 1177,-89 1183,-89 1189,-95 1189,-101 1189,-101 1189,-145 1189,-145 1189,-151 1183,-157 1177,-157\"/>\n<text text-anchor=\"start\" x=\"1024\" y=\"-141.8\" font-family=\"Helvetica,sans-Serif\" font-size=\"14.00\" fill=\"#000000\">spore&#45;print&#45;color ≤ 1.009</text>\n<text text-anchor=\"start\" x=\"1064.5\" y=\"-126.8\" font-family=\"Helvetica,sans-Serif\" font-size=\"14.00\" fill=\"#000000\">gini = 0.163</text>\n<text text-anchor=\"start\" x=\"1054.5\" y=\"-111.8\" font-family=\"Helvetica,sans-Serif\" font-size=\"14.00\" fill=\"#000000\">samples = 279</text>\n<text text-anchor=\"start\" x=\"1048.5\" y=\"-96.8\" font-family=\"Helvetica,sans-Serif\" font-size=\"14.00\" fill=\"#000000\">value = [254, 25]</text>\n</g>\n<!-- 25&#45;&gt;27 -->\n<g id=\"edge27\" class=\"edge\">\n<title>25&#45;&gt;27</title>\n<path fill=\"none\" stroke=\"#000000\" d=\"M1015.7394,-192.9465C1027.4331,-183.519 1040.2394,-173.1946 1052.337,-163.4415\"/>\n<polygon fill=\"#000000\" stroke=\"#000000\" points=\"1054.5773,-166.1312 1060.1657,-157.13 1050.1838,-160.6816 1054.5773,-166.1312\"/>\n</g>\n<!-- 28 -->\n<g id=\"node29\" class=\"node\">\n<title>28</title>\n<path fill=\"#399de5\" stroke=\"#000000\" d=\"M1034,-53C1034,-53 951,-53 951,-53 945,-53 939,-47 939,-41 939,-41 939,-12 939,-12 939,-6 945,0 951,0 951,0 1034,0 1034,0 1040,0 1046,-6 1046,-12 1046,-12 1046,-41 1046,-41 1046,-47 1040,-53 1034,-53\"/>\n<text text-anchor=\"start\" x=\"963\" y=\"-37.8\" font-family=\"Helvetica,sans-Serif\" font-size=\"14.00\" fill=\"#000000\">gini = 0.0</text>\n<text text-anchor=\"start\" x=\"948.5\" y=\"-22.8\" font-family=\"Helvetica,sans-Serif\" font-size=\"14.00\" fill=\"#000000\">samples = 25</text>\n<text text-anchor=\"start\" x=\"947\" y=\"-7.8\" font-family=\"Helvetica,sans-Serif\" font-size=\"14.00\" fill=\"#000000\">value = [0, 25]</text>\n</g>\n<!-- 27&#45;&gt;28 -->\n<g id=\"edge28\" class=\"edge\">\n<title>27&#45;&gt;28</title>\n<path fill=\"none\" stroke=\"#000000\" d=\"M1063.7181,-88.9777C1052.967,-79.546 1041.3078,-69.3178 1030.5962,-59.9208\"/>\n<polygon fill=\"#000000\" stroke=\"#000000\" points=\"1032.816,-57.2122 1022.9905,-53.2485 1028.1996,-62.4743 1032.816,-57.2122\"/>\n</g>\n<!-- 29 -->\n<g id=\"node30\" class=\"node\">\n<title>29</title>\n<path fill=\"#e58139\" stroke=\"#000000\" d=\"M1168.5,-53C1168.5,-53 1076.5,-53 1076.5,-53 1070.5,-53 1064.5,-47 1064.5,-41 1064.5,-41 1064.5,-12 1064.5,-12 1064.5,-6 1070.5,0 1076.5,0 1076.5,0 1168.5,0 1168.5,0 1174.5,0 1180.5,-6 1180.5,-12 1180.5,-12 1180.5,-41 1180.5,-41 1180.5,-47 1174.5,-53 1168.5,-53\"/>\n<text text-anchor=\"start\" x=\"1093\" y=\"-37.8\" font-family=\"Helvetica,sans-Serif\" font-size=\"14.00\" fill=\"#000000\">gini = 0.0</text>\n<text text-anchor=\"start\" x=\"1074.5\" y=\"-22.8\" font-family=\"Helvetica,sans-Serif\" font-size=\"14.00\" fill=\"#000000\">samples = 254</text>\n<text text-anchor=\"start\" x=\"1072.5\" y=\"-7.8\" font-family=\"Helvetica,sans-Serif\" font-size=\"14.00\" fill=\"#000000\">value = [254, 0]</text>\n</g>\n<!-- 27&#45;&gt;29 -->\n<g id=\"edge29\" class=\"edge\">\n<title>27&#45;&gt;29</title>\n<path fill=\"none\" stroke=\"#000000\" d=\"M1109.5513,-88.9777C1111.2783,-80.6449 1113.1341,-71.6903 1114.8862,-63.2364\"/>\n<polygon fill=\"#000000\" stroke=\"#000000\" points=\"1118.354,-63.7507 1116.9563,-53.2485 1111.4996,-62.3301 1118.354,-63.7507\"/>\n</g>\n<!-- 31 -->\n<g id=\"node32\" class=\"node\">\n<title>31</title>\n<path fill=\"#6db7ec\" stroke=\"#000000\" d=\"M1202.5,-365C1202.5,-365 1102.5,-365 1102.5,-365 1096.5,-365 1090.5,-359 1090.5,-353 1090.5,-353 1090.5,-309 1090.5,-309 1090.5,-303 1096.5,-297 1102.5,-297 1102.5,-297 1202.5,-297 1202.5,-297 1208.5,-297 1214.5,-303 1214.5,-309 1214.5,-309 1214.5,-353 1214.5,-353 1214.5,-359 1208.5,-365 1202.5,-365\"/>\n<text text-anchor=\"start\" x=\"1102.5\" y=\"-349.8\" font-family=\"Helvetica,sans-Serif\" font-size=\"14.00\" fill=\"#000000\">habitat ≤ &#45;0.005</text>\n<text text-anchor=\"start\" x=\"1114.5\" y=\"-334.8\" font-family=\"Helvetica,sans-Serif\" font-size=\"14.00\" fill=\"#000000\">gini = 0.329</text>\n<text text-anchor=\"start\" x=\"1104.5\" y=\"-319.8\" font-family=\"Helvetica,sans-Serif\" font-size=\"14.00\" fill=\"#000000\">samples = 467</text>\n<text text-anchor=\"start\" x=\"1098.5\" y=\"-304.8\" font-family=\"Helvetica,sans-Serif\" font-size=\"14.00\" fill=\"#000000\">value = [97, 370]</text>\n</g>\n<!-- 30&#45;&gt;31 -->\n<g id=\"edge31\" class=\"edge\">\n<title>30&#45;&gt;31</title>\n<path fill=\"none\" stroke=\"#000000\" d=\"M1152.5,-400.9465C1152.5,-392.776 1152.5,-383.9318 1152.5,-375.3697\"/>\n<polygon fill=\"#000000\" stroke=\"#000000\" points=\"1156.0001,-375.13 1152.5,-365.13 1149.0001,-375.13 1156.0001,-375.13\"/>\n</g>\n<!-- 38 -->\n<g id=\"node39\" class=\"node\">\n<title>38</title>\n<path fill=\"#e58139\" stroke=\"#000000\" d=\"M1328,-357.5C1328,-357.5 1245,-357.5 1245,-357.5 1239,-357.5 1233,-351.5 1233,-345.5 1233,-345.5 1233,-316.5 1233,-316.5 1233,-310.5 1239,-304.5 1245,-304.5 1245,-304.5 1328,-304.5 1328,-304.5 1334,-304.5 1340,-310.5 1340,-316.5 1340,-316.5 1340,-345.5 1340,-345.5 1340,-351.5 1334,-357.5 1328,-357.5\"/>\n<text text-anchor=\"start\" x=\"1257\" y=\"-342.3\" font-family=\"Helvetica,sans-Serif\" font-size=\"14.00\" fill=\"#000000\">gini = 0.0</text>\n<text text-anchor=\"start\" x=\"1242.5\" y=\"-327.3\" font-family=\"Helvetica,sans-Serif\" font-size=\"14.00\" fill=\"#000000\">samples = 72</text>\n<text text-anchor=\"start\" x=\"1241\" y=\"-312.3\" font-family=\"Helvetica,sans-Serif\" font-size=\"14.00\" fill=\"#000000\">value = [72, 0]</text>\n</g>\n<!-- 30&#45;&gt;38 -->\n<g id=\"edge38\" class=\"edge\">\n<title>30&#45;&gt;38</title>\n<path fill=\"none\" stroke=\"#000000\" d=\"M1196.3766,-400.9465C1211.7043,-389.0504 1228.8723,-375.726 1244.0791,-363.9237\"/>\n<polygon fill=\"#000000\" stroke=\"#000000\" points=\"1246.5475,-366.4384 1252.3014,-357.5422 1242.2556,-360.9085 1246.5475,-366.4384\"/>\n</g>\n<!-- 32 -->\n<g id=\"node33\" class=\"node\">\n<title>32</title>\n<path fill=\"#399de5\" stroke=\"#000000\" d=\"M1198.5,-253.5C1198.5,-253.5 1106.5,-253.5 1106.5,-253.5 1100.5,-253.5 1094.5,-247.5 1094.5,-241.5 1094.5,-241.5 1094.5,-212.5 1094.5,-212.5 1094.5,-206.5 1100.5,-200.5 1106.5,-200.5 1106.5,-200.5 1198.5,-200.5 1198.5,-200.5 1204.5,-200.5 1210.5,-206.5 1210.5,-212.5 1210.5,-212.5 1210.5,-241.5 1210.5,-241.5 1210.5,-247.5 1204.5,-253.5 1198.5,-253.5\"/>\n<text text-anchor=\"start\" x=\"1123\" y=\"-238.3\" font-family=\"Helvetica,sans-Serif\" font-size=\"14.00\" fill=\"#000000\">gini = 0.0</text>\n<text text-anchor=\"start\" x=\"1104.5\" y=\"-223.3\" font-family=\"Helvetica,sans-Serif\" font-size=\"14.00\" fill=\"#000000\">samples = 256</text>\n<text text-anchor=\"start\" x=\"1102.5\" y=\"-208.3\" font-family=\"Helvetica,sans-Serif\" font-size=\"14.00\" fill=\"#000000\">value = [0, 256]</text>\n</g>\n<!-- 31&#45;&gt;32 -->\n<g id=\"edge32\" class=\"edge\">\n<title>31&#45;&gt;32</title>\n<path fill=\"none\" stroke=\"#000000\" d=\"M1152.5,-296.9465C1152.5,-286.2621 1152.5,-274.4254 1152.5,-263.5742\"/>\n<polygon fill=\"#000000\" stroke=\"#000000\" points=\"1156.0001,-263.5421 1152.5,-253.5422 1149.0001,-263.5422 1156.0001,-263.5421\"/>\n</g>\n<!-- 33 -->\n<g id=\"node34\" class=\"node\">\n<title>33</title>\n<path fill=\"#e1f0fb\" stroke=\"#000000\" d=\"M1361.5,-261C1361.5,-261 1261.5,-261 1261.5,-261 1255.5,-261 1249.5,-255 1249.5,-249 1249.5,-249 1249.5,-205 1249.5,-205 1249.5,-199 1255.5,-193 1261.5,-193 1261.5,-193 1361.5,-193 1361.5,-193 1367.5,-193 1373.5,-199 1373.5,-205 1373.5,-205 1373.5,-249 1373.5,-249 1373.5,-255 1367.5,-261 1361.5,-261\"/>\n<text text-anchor=\"start\" x=\"1261.5\" y=\"-245.8\" font-family=\"Helvetica,sans-Serif\" font-size=\"14.00\" fill=\"#000000\">bruises ≤ 0.171</text>\n<text text-anchor=\"start\" x=\"1273.5\" y=\"-230.8\" font-family=\"Helvetica,sans-Serif\" font-size=\"14.00\" fill=\"#000000\">gini = 0.497</text>\n<text text-anchor=\"start\" x=\"1263.5\" y=\"-215.8\" font-family=\"Helvetica,sans-Serif\" font-size=\"14.00\" fill=\"#000000\">samples = 211</text>\n<text text-anchor=\"start\" x=\"1257.5\" y=\"-200.8\" font-family=\"Helvetica,sans-Serif\" font-size=\"14.00\" fill=\"#000000\">value = [97, 114]</text>\n</g>\n<!-- 31&#45;&gt;33 -->\n<g id=\"edge33\" class=\"edge\">\n<title>31&#45;&gt;33</title>\n<path fill=\"none\" stroke=\"#000000\" d=\"M1204.5625,-296.9465C1219.3875,-287.2497 1235.6633,-276.6039 1250.9471,-266.6069\"/>\n<polygon fill=\"#000000\" stroke=\"#000000\" points=\"1252.8676,-269.533 1259.3205,-261.13 1249.0358,-263.6749 1252.8676,-269.533\"/>\n</g>\n<!-- 34 -->\n<g id=\"node35\" class=\"node\">\n<title>34</title>\n<path fill=\"#e78945\" stroke=\"#000000\" d=\"M1403.5,-157C1403.5,-157 1219.5,-157 1219.5,-157 1213.5,-157 1207.5,-151 1207.5,-145 1207.5,-145 1207.5,-101 1207.5,-101 1207.5,-95 1213.5,-89 1219.5,-89 1219.5,-89 1403.5,-89 1403.5,-89 1409.5,-89 1415.5,-95 1415.5,-101 1415.5,-101 1415.5,-145 1415.5,-145 1415.5,-151 1409.5,-157 1403.5,-157\"/>\n<text text-anchor=\"start\" x=\"1215.5\" y=\"-141.8\" font-family=\"Helvetica,sans-Serif\" font-size=\"14.00\" fill=\"#000000\">stalk&#45;color&#45;above&#45;ring ≤ 0.885</text>\n<text text-anchor=\"start\" x=\"1278\" y=\"-126.8\" font-family=\"Helvetica,sans-Serif\" font-size=\"14.00\" fill=\"#000000\">gini = 0.11</text>\n<text text-anchor=\"start\" x=\"1263.5\" y=\"-111.8\" font-family=\"Helvetica,sans-Serif\" font-size=\"14.00\" fill=\"#000000\">samples = 103</text>\n<text text-anchor=\"start\" x=\"1266\" y=\"-96.8\" font-family=\"Helvetica,sans-Serif\" font-size=\"14.00\" fill=\"#000000\">value = [97, 6]</text>\n</g>\n<!-- 33&#45;&gt;34 -->\n<g id=\"edge34\" class=\"edge\">\n<title>33&#45;&gt;34</title>\n<path fill=\"none\" stroke=\"#000000\" d=\"M1311.5,-192.9465C1311.5,-184.776 1311.5,-175.9318 1311.5,-167.3697\"/>\n<polygon fill=\"#000000\" stroke=\"#000000\" points=\"1315.0001,-167.13 1311.5,-157.13 1308.0001,-167.13 1315.0001,-167.13\"/>\n</g>\n<!-- 37 -->\n<g id=\"node38\" class=\"node\">\n<title>37</title>\n<path fill=\"#399de5\" stroke=\"#000000\" d=\"M1537.5,-149.5C1537.5,-149.5 1445.5,-149.5 1445.5,-149.5 1439.5,-149.5 1433.5,-143.5 1433.5,-137.5 1433.5,-137.5 1433.5,-108.5 1433.5,-108.5 1433.5,-102.5 1439.5,-96.5 1445.5,-96.5 1445.5,-96.5 1537.5,-96.5 1537.5,-96.5 1543.5,-96.5 1549.5,-102.5 1549.5,-108.5 1549.5,-108.5 1549.5,-137.5 1549.5,-137.5 1549.5,-143.5 1543.5,-149.5 1537.5,-149.5\"/>\n<text text-anchor=\"start\" x=\"1462\" y=\"-134.3\" font-family=\"Helvetica,sans-Serif\" font-size=\"14.00\" fill=\"#000000\">gini = 0.0</text>\n<text text-anchor=\"start\" x=\"1443.5\" y=\"-119.3\" font-family=\"Helvetica,sans-Serif\" font-size=\"14.00\" fill=\"#000000\">samples = 108</text>\n<text text-anchor=\"start\" x=\"1441.5\" y=\"-104.3\" font-family=\"Helvetica,sans-Serif\" font-size=\"14.00\" fill=\"#000000\">value = [0, 108]</text>\n</g>\n<!-- 33&#45;&gt;37 -->\n<g id=\"edge37\" class=\"edge\">\n<title>33&#45;&gt;37</title>\n<path fill=\"none\" stroke=\"#000000\" d=\"M1370.4387,-192.9465C1391.7907,-180.6098 1415.8012,-166.7371 1436.7753,-154.6187\"/>\n<polygon fill=\"#000000\" stroke=\"#000000\" points=\"1438.654,-157.5755 1445.5616,-149.5422 1435.152,-151.5145 1438.654,-157.5755\"/>\n</g>\n<!-- 35 -->\n<g id=\"node36\" class=\"node\">\n<title>35</title>\n<path fill=\"#e58139\" stroke=\"#000000\" d=\"M1333,-53C1333,-53 1250,-53 1250,-53 1244,-53 1238,-47 1238,-41 1238,-41 1238,-12 1238,-12 1238,-6 1244,0 1250,0 1250,0 1333,0 1333,0 1339,0 1345,-6 1345,-12 1345,-12 1345,-41 1345,-41 1345,-47 1339,-53 1333,-53\"/>\n<text text-anchor=\"start\" x=\"1262\" y=\"-37.8\" font-family=\"Helvetica,sans-Serif\" font-size=\"14.00\" fill=\"#000000\">gini = 0.0</text>\n<text text-anchor=\"start\" x=\"1247.5\" y=\"-22.8\" font-family=\"Helvetica,sans-Serif\" font-size=\"14.00\" fill=\"#000000\">samples = 97</text>\n<text text-anchor=\"start\" x=\"1246\" y=\"-7.8\" font-family=\"Helvetica,sans-Serif\" font-size=\"14.00\" fill=\"#000000\">value = [97, 0]</text>\n</g>\n<!-- 34&#45;&gt;35 -->\n<g id=\"edge35\" class=\"edge\">\n<title>34&#45;&gt;35</title>\n<path fill=\"none\" stroke=\"#000000\" d=\"M1304.4487,-88.9777C1302.7217,-80.6449 1300.8659,-71.6903 1299.1138,-63.2364\"/>\n<polygon fill=\"#000000\" stroke=\"#000000\" points=\"1302.5004,-62.3301 1297.0437,-53.2485 1295.646,-63.7507 1302.5004,-62.3301\"/>\n</g>\n<!-- 36 -->\n<g id=\"node37\" class=\"node\">\n<title>36</title>\n<path fill=\"#399de5\" stroke=\"#000000\" d=\"M1450,-53C1450,-53 1375,-53 1375,-53 1369,-53 1363,-47 1363,-41 1363,-41 1363,-12 1363,-12 1363,-6 1369,0 1375,0 1375,0 1450,0 1450,0 1456,0 1462,-6 1462,-12 1462,-12 1462,-41 1462,-41 1462,-47 1456,-53 1450,-53\"/>\n<text text-anchor=\"start\" x=\"1383\" y=\"-37.8\" font-family=\"Helvetica,sans-Serif\" font-size=\"14.00\" fill=\"#000000\">gini = 0.0</text>\n<text text-anchor=\"start\" x=\"1373\" y=\"-22.8\" font-family=\"Helvetica,sans-Serif\" font-size=\"14.00\" fill=\"#000000\">samples = 6</text>\n<text text-anchor=\"start\" x=\"1371\" y=\"-7.8\" font-family=\"Helvetica,sans-Serif\" font-size=\"14.00\" fill=\"#000000\">value = [0, 6]</text>\n</g>\n<!-- 34&#45;&gt;36 -->\n<g id=\"edge36\" class=\"edge\">\n<title>34&#45;&gt;36</title>\n<path fill=\"none\" stroke=\"#000000\" d=\"M1347.1088,-88.9777C1356.8845,-79.6376 1367.4777,-69.5163 1377.234,-60.1947\"/>\n<polygon fill=\"#000000\" stroke=\"#000000\" points=\"1379.6917,-62.6873 1384.5042,-53.2485 1374.856,-57.6261 1379.6917,-62.6873\"/>\n</g>\n</g>\n</svg>\n"
          },
          "metadata": {},
          "execution_count": 54
        }
      ]
    },
    {
      "cell_type": "markdown",
      "source": [
        "##**Feature Importance**\n",
        "\n",
        "By all methods examined before the most important feature is “gill-color”.\n",
        "Let’s visualize it:"
      ],
      "metadata": {
        "id": "OsNfoCbfxNG4"
      }
    },
    {
      "cell_type": "code",
      "source": [
        "features_list = X.columns.values\n",
        "feature_importance = dt.feature_importances_\n",
        "sorted_idx = np.argsort(feature_importance)\n",
        "plt.figure(figsize=(10,8))\n",
        "plt.barh(range(len(sorted_idx)), feature_importance[sorted_idx], align='center', color =\"green\")\n",
        "plt.yticks(range(len(sorted_idx)), features_list[sorted_idx])\n",
        "plt.xlabel('Importance')\n",
        "plt.title('Feature importance')\n",
        "plt.draw()\n",
        "\n",
        "plt.show()"
      ],
      "metadata": {
        "colab": {
          "base_uri": "https://localhost:8080/",
          "height": 513
        },
        "id": "She0PLfFxPHw",
        "outputId": "93e8dfe4-260b-4861-bbb2-522a417e8ec8"
      },
      "execution_count": 55,
      "outputs": [
        {
          "output_type": "display_data",
          "data": {
            "image/png": "[encoded data removed]",
            "text/plain": [
              "<Figure size 720x576 with 1 Axes>"
            ]
          },
          "metadata": {
            "needs_background": "light"
          }
        }
      ]
    },
    {
      "cell_type": "markdown",
      "source": [
        "###**Predicting and estimating the result**"
      ],
      "metadata": {
        "id": "oY3ubDyXxgu6"
      }
    },
    {
      "cell_type": "code",
      "source": [
        "y_pred_dt = dt.predict(X_test)\n",
        "print(\"Decision Tree Classifier report: \\n\\n\", classification_report(y_test, y_pred_dt))\n",
        "print(\"Test Accuracy: {}%\".format(round(dt.score(X_test, y_test)*100, 2)))"
      ],
      "metadata": {
        "colab": {
          "base_uri": "https://localhost:8080/"
        },
        "id": "0hDt8sFCxksR",
        "outputId": "5d0ed060-cc9c-4266-e49a-62f5c881b47d"
      },
      "execution_count": 56,
      "outputs": [
        {
          "output_type": "stream",
          "name": "stdout",
          "text": [
            "Decision Tree Classifier report: \n",
            "\n",
            "               precision    recall  f1-score   support\n",
            "\n",
            "           0       1.00      1.00      1.00       853\n",
            "           1       1.00      1.00      1.00       772\n",
            "\n",
            "    accuracy                           1.00      1625\n",
            "   macro avg       1.00      1.00      1.00      1625\n",
            "weighted avg       1.00      1.00      1.00      1625\n",
            "\n",
            "Test Accuracy: 100.0%\n"
          ]
        }
      ]
    },
    {
      "cell_type": "markdown",
      "source": [
        "**Confusion Matrix for Decision Tree Classifier**"
      ],
      "metadata": {
        "id": "ejLYMv-YxvFZ"
      }
    },
    {
      "cell_type": "code",
      "source": [
        "cm = confusion_matrix(y_test, y_pred_dt)\n",
        "x_axis_labels = [\"Edible\", \"Poisonous\"]\n",
        "y_axis_labels = [\"Edible\", \"Poisonous\"]\n",
        "f, ax = plt.subplots(figsize =(10,10))\n",
        "sns.heatmap(cm, annot = True, linewidths=0.2, linecolor=\"black\", fmt = \".0f\", ax=ax, cmap=\"Purples\", xticklabels=x_axis_labels, yticklabels=y_axis_labels)\n",
        "plt.xlabel(\"PREDICTED LABEL\")\n",
        "plt.ylabel(\"TRUE LABEL\")\n",
        "plt.title('Confusion Matrix for Decision Tree Classifier')\n",
        "\n",
        "plt.show()"
      ],
      "metadata": {
        "colab": {
          "base_uri": "https://localhost:8080/",
          "height": 621
        },
        "id": "ozzDFgUaxwi5",
        "outputId": "b6865a33-420c-4d38-a31f-37dde8437387"
      },
      "execution_count": 57,
      "outputs": [
        {
          "output_type": "display_data",
          "data": {
            "image/png": "[encoded data removed]",
            "text/plain": [
              "<Figure size 720x720 with 2 Axes>"
            ]
          },
          "metadata": {
            "needs_background": "light"
          }
        }
      ]
    },
    {
      "cell_type": "markdown",
      "source": [
        "**Logistic Regression Classification**"
      ],
      "metadata": {
        "id": "UE9gGriJo-Qp"
      }
    },
    {
      "cell_type": "code",
      "source": [
        "from sklearn.linear_model import LogisticRegression\n",
        "lr = LogisticRegression(solver=\"lbfgs\", max_iter=500)\n",
        "lr.fit(X_train, y_train)\n",
        "print(\"Test Accuracy: {}%\".format(round(lr.score(X_test, y_test)*100,2)))"
      ],
      "metadata": {
        "colab": {
          "base_uri": "https://localhost:8080/"
        },
        "id": "FiZy2BFvo_va",
        "outputId": "6f984924-47e4-44fe-877b-3723004d47d9"
      },
      "execution_count": 29,
      "outputs": [
        {
          "output_type": "stream",
          "name": "stdout",
          "text": [
            "Test Accuracy: 95.02%\n"
          ]
        }
      ]
    },
    {
      "cell_type": "markdown",
      "source": [
        "**Classification report of Logistic Regression Classifier**"
      ],
      "metadata": {
        "id": "4NZ9St5Npjrv"
      }
    },
    {
      "cell_type": "code",
      "source": [
        "from sklearn.metrics import classification_report, confusion_matrix, precision_recall_curve, auc, roc_curve"
      ],
      "metadata": {
        "id": "9XNT-RXTp0V2"
      },
      "execution_count": 30,
      "outputs": []
    },
    {
      "cell_type": "code",
      "source": [
        "y_pred_lr = lr.predict(X_test)\n",
        "print(\"Logistic Regression Classifier report: \\n\\n\", classification_report(y_test, y_pred_lr))"
      ],
      "metadata": {
        "colab": {
          "base_uri": "https://localhost:8080/"
        },
        "id": "Zz9fLI5qo91G",
        "outputId": "febf153c-0bc9-43d9-d9f5-07f37009bf7f"
      },
      "execution_count": 31,
      "outputs": [
        {
          "output_type": "stream",
          "name": "stdout",
          "text": [
            "Logistic Regression Classifier report: \n",
            "\n",
            "               precision    recall  f1-score   support\n",
            "\n",
            "           0       0.95      0.96      0.95       853\n",
            "           1       0.95      0.94      0.95       772\n",
            "\n",
            "    accuracy                           0.95      1625\n",
            "   macro avg       0.95      0.95      0.95      1625\n",
            "weighted avg       0.95      0.95      0.95      1625\n",
            "\n"
          ]
        }
      ]
    },
    {
      "cell_type": "markdown",
      "source": [
        "**Confusion Matrix for Logistic Regression Classifier**"
      ],
      "metadata": {
        "id": "tqaYRyvkqApv"
      }
    },
    {
      "cell_type": "code",
      "source": [
        "cm = confusion_matrix(y_test, y_pred_lr)\n",
        "x_axis_labels = [\"Edible\", \"Poisonous\"]\n",
        "y_axis_labels = [\"Edible\", \"Poisonous\"]\n",
        "f, ax = plt.subplots(figsize =(10,10))\n",
        "sns.heatmap(cm, annot = True, linewidths=0.2, linecolor=\"black\", fmt = \".0f\", ax=ax, cmap=\"Purples\", xticklabels=x_axis_labels, yticklabels=y_axis_labels)\n",
        "plt.xlabel(\"PREDICTED LABEL\")\n",
        "plt.ylabel(\"TRUE LABEL\")\n",
        "plt.title('Confusion Matrix for Logistic Regression Classifier')\n",
        "\n",
        "plt.show()"
      ],
      "metadata": {
        "colab": {
          "base_uri": "https://localhost:8080/",
          "height": 621
        },
        "id": "dTyiduGmqCOf",
        "outputId": "879fbb6c-7730-4859-c55c-fb86e3e58f5c"
      },
      "execution_count": 32,
      "outputs": [
        {
          "output_type": "display_data",
          "data": {
            "image/png": "[encoded data removed]",
            "text/plain": [
              "<Figure size 720x720 with 2 Axes>"
            ]
          },
          "metadata": {
            "needs_background": "light"
          }
        }
      ]
    },
    {
      "cell_type": "markdown",
      "source": [
        "**KNN Classification**"
      ],
      "metadata": {
        "id": "jNlIBdPiqPov"
      }
    },
    {
      "cell_type": "code",
      "source": [
        "from sklearn.neighbors import KNeighborsClassifier"
      ],
      "metadata": {
        "id": "iXQHBmn_qQxI"
      },
      "execution_count": 33,
      "outputs": []
    },
    {
      "cell_type": "code",
      "source": [
        "best_Kvalue = 0\n",
        "best_score = 0\n",
        "for i in range(1,10):\n",
        "    knn = KNeighborsClassifier(n_neighbors=i)\n",
        "    knn.fit(X_train, y_train)\n",
        "    if knn.score(X_test, y_test) > best_score:\n",
        "        best_score = knn.score(X_train, y_train)\n",
        "        best_Kvalue = i\n",
        "        \n",
        "print(\"Best KNN Value: {}\".format(best_Kvalue))\n",
        "print(\"Test Accuracy: {}%\".format(round(best_score*100,2)))"
      ],
      "metadata": {
        "colab": {
          "base_uri": "https://localhost:8080/"
        },
        "id": "n6o1kzHCqUwY",
        "outputId": "6f04b185-323f-4fad-b330-e791bbd8d676"
      },
      "execution_count": 34,
      "outputs": [
        {
          "output_type": "stream",
          "name": "stdout",
          "text": [
            "Best KNN Value: 1\n",
            "Test Accuracy: 100.0%\n"
          ]
        }
      ]
    },
    {
      "cell_type": "markdown",
      "source": [
        "**Classification report of KNN Classifie**r"
      ],
      "metadata": {
        "id": "23aZwtQSqgiI"
      }
    },
    {
      "cell_type": "code",
      "source": [
        "y_pred_knn = knn.predict(X_test)\n",
        "print(\"KNN Classifier report: \\n\\n\", classification_report(y_test, y_pred_knn))"
      ],
      "metadata": {
        "colab": {
          "base_uri": "https://localhost:8080/"
        },
        "id": "1voQt7a_qhjQ",
        "outputId": "7ec90600-4435-400c-e794-e669f30ff78e"
      },
      "execution_count": 35,
      "outputs": [
        {
          "output_type": "stream",
          "name": "stdout",
          "text": [
            "KNN Classifier report: \n",
            "\n",
            "               precision    recall  f1-score   support\n",
            "\n",
            "           0       1.00      1.00      1.00       853\n",
            "           1       1.00      0.99      1.00       772\n",
            "\n",
            "    accuracy                           1.00      1625\n",
            "   macro avg       1.00      1.00      1.00      1625\n",
            "weighted avg       1.00      1.00      1.00      1625\n",
            "\n"
          ]
        }
      ]
    },
    {
      "cell_type": "markdown",
      "source": [
        "**Confusion Matrix for KNN Classifier**"
      ],
      "metadata": {
        "id": "905e7naxqmko"
      }
    },
    {
      "cell_type": "code",
      "source": [
        "cm = confusion_matrix(y_test, y_pred_knn)\n",
        "x_axis_labels = [\"Edible\", \"Poisonous\"]\n",
        "y_axis_labels = [\"Edible\", \"Poisonous\"]\n",
        "f, ax = plt.subplots(figsize =(10,10))\n",
        "sns.heatmap(cm, annot = True, linewidths=0.2, linecolor=\"black\", fmt = \".0f\", ax=ax, cmap=\"Purples\", xticklabels=x_axis_labels, yticklabels=y_axis_labels)\n",
        "plt.xlabel(\"PREDICTED LABEL\")\n",
        "plt.ylabel(\"TRUE LABEL\")\n",
        "plt.title('Confusion Matrix for KNN Classifier')\n",
        "\n",
        "plt.show()"
      ],
      "metadata": {
        "colab": {
          "base_uri": "https://localhost:8080/",
          "height": 621
        },
        "id": "cNSrmQkrqnmS",
        "outputId": "d2e9c282-e345-4419-a507-28ed6c6f029f"
      },
      "execution_count": 37,
      "outputs": [
        {
          "output_type": "display_data",
          "data": {
            "image/png": "[encoded data removed]",
            "text/plain": [
              "<Figure size 720x720 with 2 Axes>"
            ]
          },
          "metadata": {
            "needs_background": "light"
          }
        }
      ]
    },
    {
      "cell_type": "markdown",
      "source": [
        "**SVM Classification**"
      ],
      "metadata": {
        "id": "qZhXuQxjqzIz"
      }
    },
    {
      "cell_type": "code",
      "source": [
        "svm = SVC(random_state=42, gamma=\"auto\")\n",
        "svm.fit(X_train, y_train)\n",
        "print(\"Test Accuracy: {}%\".format(round(svm.score(X_test, y_test)*100, 2)))"
      ],
      "metadata": {
        "colab": {
          "base_uri": "https://localhost:8080/"
        },
        "id": "F4g0aArmqyr6",
        "outputId": "d42f0a87-9f7a-45a5-c5f6-2a1a9dbfd92e"
      },
      "execution_count": 38,
      "outputs": [
        {
          "output_type": "stream",
          "name": "stdout",
          "text": [
            "Test Accuracy: 100.0%\n"
          ]
        }
      ]
    },
    {
      "cell_type": "markdown",
      "source": [
        "**Classification report of SVM Classifier**"
      ],
      "metadata": {
        "id": "PHRVLKfSq55Q"
      }
    },
    {
      "cell_type": "code",
      "source": [
        "y_pred_svm = svm.predict(X_test)\n",
        "print(\"SVM Classifier report: \\n\\n\", classification_report(y_test, y_pred_svm))"
      ],
      "metadata": {
        "colab": {
          "base_uri": "https://localhost:8080/"
        },
        "id": "M5c2SMUpq5mX",
        "outputId": "cf888132-d4bb-4862-ada5-712c75349cbe"
      },
      "execution_count": 39,
      "outputs": [
        {
          "output_type": "stream",
          "name": "stdout",
          "text": [
            "SVM Classifier report: \n",
            "\n",
            "               precision    recall  f1-score   support\n",
            "\n",
            "           0       1.00      1.00      1.00       853\n",
            "           1       1.00      1.00      1.00       772\n",
            "\n",
            "    accuracy                           1.00      1625\n",
            "   macro avg       1.00      1.00      1.00      1625\n",
            "weighted avg       1.00      1.00      1.00      1625\n",
            "\n"
          ]
        }
      ]
    },
    {
      "cell_type": "markdown",
      "source": [
        "**Confusion Matrix for SVM Clas**sifier"
      ],
      "metadata": {
        "id": "kVxTQEzHq_8X"
      }
    },
    {
      "cell_type": "code",
      "source": [
        "cm = confusion_matrix(y_test, y_pred_svm)\n",
        "x_axis_labels = [\"Edible\", \"Poisonous\"]\n",
        "y_axis_labels = [\"Edible\", \"Poisonous\"]\n",
        "f, ax = plt.subplots(figsize =(10,10))\n",
        "sns.heatmap(cm, annot = True, linewidths=0.2, linecolor=\"black\", fmt = \".0f\", ax=ax, cmap=\"Purples\", xticklabels=x_axis_labels, yticklabels=y_axis_labels)\n",
        "plt.xlabel(\"PREDICTED LABEL\")\n",
        "plt.ylabel(\"TRUE LABEL\")\n",
        "plt.title('Confusion Matrix for SVM Classifier')\n",
        "\n",
        "plt.show()"
      ],
      "metadata": {
        "colab": {
          "base_uri": "https://localhost:8080/",
          "height": 621
        },
        "id": "htR18B0jrBAR",
        "outputId": "b0a67c8a-1083-434a-f188-507663c8838d"
      },
      "execution_count": 40,
      "outputs": [
        {
          "output_type": "display_data",
          "data": {
            "image/png": "[encoded data removed]",
            "text/plain": [
              "<Figure size 720x720 with 2 Axes>"
            ]
          },
          "metadata": {
            "needs_background": "light"
          }
        }
      ]
    },
    {
      "cell_type": "markdown",
      "source": [
        "**Naive Bayes Classification**"
      ],
      "metadata": {
        "id": "VnAf7f-XrLLG"
      }
    },
    {
      "cell_type": "code",
      "source": [
        "from sklearn.naive_bayes import GaussianNB"
      ],
      "metadata": {
        "id": "0LFuMgUIrQLF"
      },
      "execution_count": 41,
      "outputs": []
    },
    {
      "cell_type": "code",
      "source": [
        "nb = GaussianNB()\n",
        "nb.fit(X_train, y_train)\n",
        "print(\"Test Accuracy: {}%\".format(round(nb.score(X_test, y_test)*100, 2)))"
      ],
      "metadata": {
        "colab": {
          "base_uri": "https://localhost:8080/"
        },
        "id": "ircfz0cyrM_b",
        "outputId": "0fb4cc19-e772-4abc-8464-caec7c199cac"
      },
      "execution_count": 42,
      "outputs": [
        {
          "output_type": "stream",
          "name": "stdout",
          "text": [
            "Test Accuracy: 91.63%\n"
          ]
        }
      ]
    },
    {
      "cell_type": "markdown",
      "source": [
        "**Classification report of Naive Bayes Class**ifier"
      ],
      "metadata": {
        "id": "xveKc2rCrW8u"
      }
    },
    {
      "cell_type": "code",
      "source": [
        "y_pred_nb = nb.predict(X_test)\n",
        "print(\"Naive Bayes Classifier report: \\n\\n\", classification_report(y_test, y_pred_nb))"
      ],
      "metadata": {
        "colab": {
          "base_uri": "https://localhost:8080/"
        },
        "id": "yD4jDVvYrYFf",
        "outputId": "379e466b-10fe-4b8d-e3e7-2f91930634b6"
      },
      "execution_count": 43,
      "outputs": [
        {
          "output_type": "stream",
          "name": "stdout",
          "text": [
            "Naive Bayes Classifier report: \n",
            "\n",
            "               precision    recall  f1-score   support\n",
            "\n",
            "           0       0.92      0.92      0.92       853\n",
            "           1       0.91      0.91      0.91       772\n",
            "\n",
            "    accuracy                           0.92      1625\n",
            "   macro avg       0.92      0.92      0.92      1625\n",
            "weighted avg       0.92      0.92      0.92      1625\n",
            "\n"
          ]
        }
      ]
    },
    {
      "cell_type": "markdown",
      "source": [
        "**Confusion Matrix for Naive Bayes Classifier**"
      ],
      "metadata": {
        "id": "0FGf3Rwyrdh_"
      }
    },
    {
      "cell_type": "code",
      "source": [
        "cm = confusion_matrix(y_test, y_pred_nb)\n",
        "x_axis_labels = [\"Edible\", \"Poisonous\"]\n",
        "y_axis_labels = [\"Edible\", \"Poisonous\"]\n",
        "f, ax = plt.subplots(figsize =(10,10))\n",
        "sns.heatmap(cm, annot = True, linewidths=0.2, linecolor=\"black\", fmt = \".0f\", ax=ax, cmap=\"Purples\", xticklabels=x_axis_labels, yticklabels=y_axis_labels)\n",
        "plt.xlabel(\"PREDICTED LABEL\")\n",
        "plt.ylabel(\"TRUE LABEL\")\n",
        "plt.title('Confusion Matrix for Naive Bayes Classifier')\n",
        "plt.show()"
      ],
      "metadata": {
        "colab": {
          "base_uri": "https://localhost:8080/",
          "height": 621
        },
        "id": "PpMSf1u5reW_",
        "outputId": "38b424e3-6e60-435a-bac3-0584956d2068"
      },
      "execution_count": 44,
      "outputs": [
        {
          "output_type": "display_data",
          "data": {
            "image/png": "[encoded data removed]",
            "text/plain": [
              "<Figure size 720x720 with 2 Axes>"
            ]
          },
          "metadata": {
            "needs_background": "light"
          }
        }
      ]
    },
    {
      "cell_type": "markdown",
      "source": [
        "#**Predictions**\n",
        "\n",
        "Predicting some of the X_test results and matching it with true i.e. y_test values using Decision Tree  Classifier."
      ],
      "metadata": {
        "id": "cK9jJxNirps3"
      }
    },
    {
      "cell_type": "code",
      "source": [
        "preds = dt.predict(X_test)\n",
        "print(preds[:36])\n",
        "print(y_test[:36].values)\n",
        "# 0 - Edible\n",
        "# 1 - Poisonous"
      ],
      "metadata": {
        "colab": {
          "base_uri": "https://localhost:8080/"
        },
        "id": "b9SZiSIgyBVn",
        "outputId": "d6b6d188-bd50-44f1-b934-efdb8919be34"
      },
      "execution_count": 58,
      "outputs": [
        {
          "output_type": "stream",
          "name": "stdout",
          "text": [
            "[1 0 0 0 0 1 1 0 1 0 1 1 0 0 1 0 1 0 1 1 1 0 1 0 0 0 0 1 1 0 1 0 1 1 0 0]\n",
            "[1 0 0 0 0 1 1 0 1 0 1 1 0 0 1 0 1 0 1 1 1 0 1 0 0 0 0 1 1 0 1 0 1 1 0 0]\n"
          ]
        }
      ]
    },
    {
      "cell_type": "markdown",
      "source": [
        "Predicting some of the X_test results and matching it with true i.e. y_test values using Logistic Regression ."
      ],
      "metadata": {
        "id": "A0GfPDh6yYFn"
      }
    },
    {
      "cell_type": "code",
      "source": [
        "preds = lr.predict(X_test)\n",
        "print(preds[:36])\n",
        "print(y_test[:36].values)\n",
        "# 0 - Edible\n",
        "# 1 - Poisonous"
      ],
      "metadata": {
        "colab": {
          "base_uri": "https://localhost:8080/"
        },
        "id": "QasuWCd8yfOZ",
        "outputId": "6e31c2b2-76d1-4845-d14f-541b2ee924f2"
      },
      "execution_count": 59,
      "outputs": [
        {
          "output_type": "stream",
          "name": "stdout",
          "text": [
            "[1 0 0 1 1 1 1 0 1 0 1 1 0 0 1 0 1 0 1 1 1 0 1 0 0 0 0 1 1 0 1 0 1 1 0 0]\n",
            "[1 0 0 0 0 1 1 0 1 0 1 1 0 0 1 0 1 0 1 1 1 0 1 0 0 0 0 1 1 0 1 0 1 1 0 0]\n"
          ]
        }
      ]
    },
    {
      "cell_type": "markdown",
      "source": [
        "Predicting some of the X_test results and matching it with true i.e. y_test values using KNN classifier "
      ],
      "metadata": {
        "id": "iZeh4bqsyp3X"
      }
    },
    {
      "cell_type": "code",
      "source": [
        "preds = knn.predict(X_test)\n",
        "print(preds[:36])\n",
        "print(y_test[:36].values)\n",
        "# 0 - Edible\n",
        "# 1 - Poisonous"
      ],
      "metadata": {
        "colab": {
          "base_uri": "https://localhost:8080/"
        },
        "id": "-OVB2tb_ys34",
        "outputId": "cb77f50c-5c26-4ef1-e52b-868e84a27bad"
      },
      "execution_count": 60,
      "outputs": [
        {
          "output_type": "stream",
          "name": "stdout",
          "text": [
            "[1 0 0 0 0 1 1 0 1 0 1 1 0 0 1 0 1 0 1 1 1 0 1 0 0 0 0 1 1 0 1 0 1 1 0 0]\n",
            "[1 0 0 0 0 1 1 0 1 0 1 1 0 0 1 0 1 0 1 1 1 0 1 0 0 0 0 1 1 0 1 0 1 1 0 0]\n"
          ]
        }
      ]
    },
    {
      "cell_type": "markdown",
      "source": [
        "Predicting some of the X_test results and matching it with true i.e. y_test values using SVM"
      ],
      "metadata": {
        "id": "81rtmSLvy4O2"
      }
    },
    {
      "cell_type": "code",
      "source": [
        "preds = svm.predict(X_test)\n",
        "print(preds[:36])\n",
        "print(y_test[:36].values)\n",
        "# 0 - Edible\n",
        "# 1 - Poisonous"
      ],
      "metadata": {
        "colab": {
          "base_uri": "https://localhost:8080/"
        },
        "id": "QoenRhxmy7Aw",
        "outputId": "17bcf6db-6a31-4e73-fb0e-e769cdf1ad9e"
      },
      "execution_count": 61,
      "outputs": [
        {
          "output_type": "stream",
          "name": "stdout",
          "text": [
            "[1 0 0 0 0 1 1 0 1 0 1 1 0 0 1 0 1 0 1 1 1 0 1 0 0 0 0 1 1 0 1 0 1 1 0 0]\n",
            "[1 0 0 0 0 1 1 0 1 0 1 1 0 0 1 0 1 0 1 1 1 0 1 0 0 0 0 1 1 0 1 0 1 1 0 0]\n"
          ]
        }
      ]
    },
    {
      "cell_type": "markdown",
      "source": [
        "Predicting some of the X_test results and matching it with true i.e. y_test values using Naive Bayes Classifier."
      ],
      "metadata": {
        "id": "wDJ5mx5ryHQI"
      }
    },
    {
      "cell_type": "code",
      "source": [
        "preds = nb.predict(X_test)\n",
        "print(preds[:36])\n",
        "print(y_test[:36].values)\n",
        "# 0 - Edible\n",
        "# 1 - Poisonous"
      ],
      "metadata": {
        "colab": {
          "base_uri": "https://localhost:8080/"
        },
        "id": "wYBrIUS3rreA",
        "outputId": "bea7e0cf-402f-414b-eec3-825d24535c28"
      },
      "execution_count": 45,
      "outputs": [
        {
          "output_type": "stream",
          "name": "stdout",
          "text": [
            "[1 0 0 1 1 1 1 0 1 0 1 1 0 1 1 0 1 0 1 1 1 0 1 0 0 1 0 1 1 0 1 0 1 1 0 0]\n",
            "[1 0 0 0 0 1 1 0 1 0 1 1 0 0 1 0 1 0 1 1 1 0 1 0 0 0 0 1 1 0 1 0 1 1 0 0]\n"
          ]
        }
      ]
    },
    {
      "cell_type": "markdown",
      "source": [
        "#**Visualization**"
      ],
      "metadata": {
        "id": "3y8D3rkYs6Fw"
      }
    },
    {
      "cell_type": "code",
      "source": [
        "X_test.shape"
      ],
      "metadata": {
        "colab": {
          "base_uri": "https://localhost:8080/"
        },
        "id": "rnJxV6Yjs78h",
        "outputId": "94a040e1-65c9-4758-fda9-85e01ceb8035"
      },
      "execution_count": 46,
      "outputs": [
        {
          "output_type": "execute_result",
          "data": {
            "text/plain": [
              "(1625, 21)"
            ]
          },
          "metadata": {},
          "execution_count": 46
        }
      ]
    },
    {
      "cell_type": "code",
      "source": [
        "corr = df.corr()\n",
        "\n",
        "sns.heatmap(corr)"
      ],
      "metadata": {
        "colab": {
          "base_uri": "https://localhost:8080/",
          "height": 398
        },
        "id": "rIhqsUE2tBo5",
        "outputId": "b291c480-bad2-4308-8b12-14be76ee9382"
      },
      "execution_count": 48,
      "outputs": [
        {
          "output_type": "execute_result",
          "data": {
            "text/plain": [
              "<matplotlib.axes._subplots.AxesSubplot at 0x7fb1c66053d0>"
            ]
          },
          "metadata": {},
          "execution_count": 48
        },
        {
          "output_type": "display_data",
          "data": {
            "image/png": "[encoded data removed]",
            "text/plain": [
              "<Figure size 432x288 with 2 Axes>"
            ]
          },
          "metadata": {
            "needs_background": "light"
          }
        }
      ]
    },
    {
      "cell_type": "markdown",
      "source": [
        "#**Conclusion**\n",
        "\n",
        "we saw that our train and test data is balanced.\n",
        "All the classification methods hit more than 90% accuracy among that SVM & KNN shows 100% accuracy with this dataset.\n"
      ],
      "metadata": {
        "id": "RfjDhM9Rt_ZI"
      }
    }
  ],
  "metadata": {
    "accelerator": "GPU",
    "colab": {
      "name": "Mushroom.ipynb",
      "provenance": []
    },
    "kernelspec": {
      "display_name": "Python 3",
      "name": "python3"
    },
    "language_info": {
      "name": "python"
    }
  },
  "nbformat": 4,
  "nbformat_minor": 0
}